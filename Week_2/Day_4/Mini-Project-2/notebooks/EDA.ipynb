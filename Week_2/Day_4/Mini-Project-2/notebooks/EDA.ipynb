{
 "cells": [
  {
   "cell_type": "code",
   "execution_count": 25,
   "metadata": {},
   "outputs": [],
   "source": [
    "# imports\n",
    "import requests \n",
    "import pandas as pd \n",
    "import json \n",
    "import numpy \n",
    "import os \n",
    "from IPython.display import JSON\n",
    "import sqlite3\n",
    "from sqlite3 import Error\n",
    "\n"
   ]
  },
  {
   "cell_type": "markdown",
   "metadata": {},
   "source": [
    "# Foursquare"
   ]
  },
  {
   "cell_type": "markdown",
   "metadata": {},
   "source": [
    "Send a request to Foursquare with a small radius (1000m) with the location of your choice"
   ]
  },
  {
   "cell_type": "code",
   "execution_count": 26,
   "metadata": {},
   "outputs": [],
   "source": [
    "\n",
    "# FSQ API keys \n",
    "\n",
    "FSQ_key = os.environ[\"FourSquareAPI\"]\n",
    "#url = \"https://api.foursquare.com/v3/places/search?ll=45.43011966884903%2C-75.69100998550019&radius=1000&limit=50&categories=13065\"\n",
    "FSQ_url =\"https://api.foursquare.com/v3/places/search\"\n",
    "\n",
    "FSQ_headers = {\n",
    "    \"Accept\": \"application/json\",\n",
    "    \"Authorization\": FSQ_key \n",
    "}\n"
   ]
  },
  {
   "cell_type": "markdown",
   "metadata": {},
   "source": [
    "Parse through the response to get the POI details you want (rating, name, location, etc)"
   ]
  },
  {
   "cell_type": "code",
   "execution_count": 27,
   "metadata": {},
   "outputs": [],
   "source": [
    "# Setting wanted parameters to fetch from the request \n",
    "f_param = {\n",
    "    'll': '45.429999200432945,-75.69109581618784',\n",
    "    'radius': '1000',\n",
    "    'categories': '13065',\n",
    "    'fields': 'name,tel,location,categories,website,hours,rating',\n",
    "    'limit': '50'\n",
    "}\n",
    "\n",
    "\n",
    "# Data Request\n",
    "FSQ_Data = requests.get(FSQ_url, params = f_param, headers=FSQ_headers)"
   ]
  },
  {
   "cell_type": "code",
   "execution_count": 28,
   "metadata": {},
   "outputs": [
    {
     "data": {
      "text/plain": [
       "200"
      ]
     },
     "execution_count": 28,
     "metadata": {},
     "output_type": "execute_result"
    }
   ],
   "source": [
    "# checkthe request was successful \n",
    "FSQ_Data.status_code"
   ]
  },
  {
   "cell_type": "code",
   "execution_count": 20,
   "metadata": {},
   "outputs": [
    {
     "data": {
      "text/plain": [
       "dict"
      ]
     },
     "execution_count": 20,
     "metadata": {},
     "output_type": "execute_result"
    }
   ],
   "source": [
    "# Export the information that was returned using method .json()\n",
    "FSQ_Data_Json = FSQ_Data.json()\n",
    "type(FSQ_Data_Json)"
   ]
  },
  {
   "cell_type": "code",
   "execution_count": 21,
   "metadata": {},
   "outputs": [
    {
     "data": {
      "application/json": {
       "context": {
        "geo_bounds": {
         "circle": {
          "center": {
           "latitude": 45.429999200432945,
           "longitude": -75.69109581618784
          },
          "radius": 1000
         }
        }
       },
       "results": [
        {
         "categories": [
          {
           "icon": {
            "prefix": "https://ss3.4sqi.net/img/categories_v2/food/burger_",
            "suffix": ".png"
           },
           "id": 13031,
           "name": "Burger Joint"
          },
          {
           "icon": {
            "prefix": "https://ss3.4sqi.net/img/categories_v2/food/gastropub_",
            "suffix": ".png"
           },
           "id": 13057,
           "name": "Gastropub"
          },
          {
           "icon": {
            "prefix": "https://ss3.4sqi.net/img/categories_v2/food/french_",
            "suffix": ".png"
           },
           "id": 13148,
           "name": "French Restaurant"
          }
         ],
         "hours": {
          "display": "Open Daily 00:00-2:00, 11:00-23:59",
          "is_local_holiday": false,
          "open_now": true,
          "regular": [
           {
            "close": "0200",
            "day": 1,
            "open": "0000"
           },
           {
            "close": "2359",
            "day": 1,
            "open": "1100"
           },
           {
            "close": "0200",
            "day": 2,
            "open": "0000"
           },
           {
            "close": "2359",
            "day": 2,
            "open": "1100"
           },
           {
            "close": "0200",
            "day": 3,
            "open": "0000"
           },
           {
            "close": "2359",
            "day": 3,
            "open": "1100"
           },
           {
            "close": "0200",
            "day": 4,
            "open": "0000"
           },
           {
            "close": "2359",
            "day": 4,
            "open": "1100"
           },
           {
            "close": "0200",
            "day": 5,
            "open": "0000"
           },
           {
            "close": "2359",
            "day": 5,
            "open": "1100"
           },
           {
            "close": "0200",
            "day": 6,
            "open": "0000"
           },
           {
            "close": "2359",
            "day": 6,
            "open": "1100"
           },
           {
            "close": "0200",
            "day": 7,
            "open": "0000"
           },
           {
            "close": "2359",
            "day": 7,
            "open": "1100"
           }
          ],
          "seasonal": []
         },
         "location": {
          "address": "137 Murray St",
          "country": "CA",
          "cross_street": "at Dalhousie St",
          "formatted_address": "137 Murray St (at Dalhousie St), Ottawa ON K1N 5M7",
          "locality": "Ottawa",
          "neighborhood": [
           "Byward Village"
          ],
          "postcode": "K1N 5M7",
          "region": "ON"
         },
         "name": "Chez Lucien",
         "rating": 8.7,
         "tel": "(613) 241-3533",
         "website": "http://chezlucien.ca"
        },
        {
         "categories": [
          {
           "icon": {
            "prefix": "https://ss3.4sqi.net/img/categories_v2/food/taco_",
            "suffix": ".png"
           },
           "id": 13306,
           "name": "Taco Restaurant"
          }
         ],
         "hours": {
          "display": "Mon-Wed 16:00-23:59; Thu-Sun 12:00-23:59",
          "is_local_holiday": false,
          "open_now": true,
          "regular": [
           {
            "close": "2359",
            "day": 1,
            "open": "1600"
           },
           {
            "close": "2359",
            "day": 2,
            "open": "1600"
           },
           {
            "close": "2359",
            "day": 3,
            "open": "1600"
           },
           {
            "close": "2359",
            "day": 4,
            "open": "1200"
           },
           {
            "close": "2359",
            "day": 5,
            "open": "1200"
           },
           {
            "close": "2359",
            "day": 6,
            "open": "1200"
           },
           {
            "close": "2359",
            "day": 7,
            "open": "1200"
           }
          ],
          "seasonal": []
         },
         "location": {
          "address": "81 Clarence St",
          "country": "CA",
          "cross_street": "William St",
          "formatted_address": "81 Clarence St (William St), Ottawa ON K1N 5P5",
          "locality": "Ottawa",
          "neighborhood": [
           "Lower Town"
          ],
          "postcode": "K1N 5P5",
          "region": "ON"
         },
         "name": "El Camino",
         "rating": 8.7,
         "tel": "(613) 422-5918",
         "website": "http://eatelcamino.com"
        },
        {
         "categories": [
          {
           "icon": {
            "prefix": "https://ss3.4sqi.net/img/categories_v2/food/default_",
            "suffix": ".png"
           },
           "id": 13068,
           "name": "American Restaurant"
          },
          {
           "icon": {
            "prefix": "https://ss3.4sqi.net/img/categories_v2/food/steakhouse_",
            "suffix": ".png"
           },
           "id": 13383,
           "name": "Steakhouse"
          }
         ],
         "hours": {
          "display": "Open Daily 12:00-23:59",
          "is_local_holiday": false,
          "open_now": true,
          "regular": [
           {
            "close": "2359",
            "day": 1,
            "open": "1200"
           },
           {
            "close": "2359",
            "day": 2,
            "open": "1200"
           },
           {
            "close": "2359",
            "day": 3,
            "open": "1200"
           },
           {
            "close": "2359",
            "day": 4,
            "open": "1200"
           },
           {
            "close": "2359",
            "day": 5,
            "open": "1200"
           },
           {
            "close": "2359",
            "day": 6,
            "open": "1200"
           },
           {
            "close": "2359",
            "day": 7,
            "open": "1200"
           }
          ],
          "seasonal": []
         },
         "location": {
          "address": "75 York St",
          "country": "CA",
          "cross_street": "",
          "formatted_address": "75 York St, Ottawa ON K1N 5T2",
          "locality": "Ottawa",
          "neighborhood": [
           "Byward market"
          ],
          "postcode": "K1N 5T2",
          "region": "ON"
         },
         "name": "The Keg Steakhouse + Bar",
         "rating": 8.4,
         "tel": "(613) 241-8514",
         "website": "https://www.kegsteakhouse.com/"
        },
        {
         "categories": [
          {
           "icon": {
            "prefix": "https://ss3.4sqi.net/img/categories_v2/food/burger_",
            "suffix": ".png"
           },
           "id": 13031,
           "name": "Burger Joint"
          },
          {
           "icon": {
            "prefix": "https://ss3.4sqi.net/img/categories_v2/food/fastfood_",
            "suffix": ".png"
           },
           "id": 13145,
           "name": "Fast Food Restaurant"
          }
         ],
         "hours": {
          "display": "Mon-Fri 11:30-23:59; Sat-Sun 00:00-1:00, 11:30-23:59",
          "is_local_holiday": false,
          "open_now": true,
          "regular": [
           {
            "close": "2359",
            "day": 1,
            "open": "1130"
           },
           {
            "close": "2359",
            "day": 2,
            "open": "1130"
           },
           {
            "close": "2359",
            "day": 3,
            "open": "1130"
           },
           {
            "close": "2359",
            "day": 4,
            "open": "1130"
           },
           {
            "close": "2359",
            "day": 5,
            "open": "1130"
           },
           {
            "close": "0100",
            "day": 6,
            "open": "0000"
           },
           {
            "close": "2359",
            "day": 6,
            "open": "1130"
           },
           {
            "close": "0100",
            "day": 7,
            "open": "0000"
           },
           {
            "close": "2359",
            "day": 7,
            "open": "1130"
           }
          ],
          "seasonal": []
         },
         "location": {
          "address": "108 Murray St",
          "country": "CA",
          "cross_street": "Dalhousie St",
          "formatted_address": "108 Murray St (Dalhousie St), Ottawa ON K1N 5M6",
          "locality": "Ottawa",
          "neighborhood": [
           "Lower Town"
          ],
          "postcode": "K1N 5M6",
          "region": "ON"
         },
         "name": "Bite Burger House",
         "rating": 8.4,
         "tel": "(613) 562-2483",
         "website": "http://www.biteburgerhouse.com"
        },
        {
         "categories": [
          {
           "icon": {
            "prefix": "https://ss3.4sqi.net/img/categories_v2/food/fastfood_",
            "suffix": ".png"
           },
           "id": 13145,
           "name": "Fast Food Restaurant"
          }
         ],
         "hours": {
          "display": "Mon-Wed 10:00-22:00; Thu 10:00-23:00; Fri-Sat 10:00-23:59; Sun 10:00-22:00",
          "is_local_holiday": false,
          "open_now": true,
          "regular": [
           {
            "close": "2200",
            "day": 1,
            "open": "1000"
           },
           {
            "close": "2200",
            "day": 2,
            "open": "1000"
           },
           {
            "close": "2200",
            "day": 3,
            "open": "1000"
           },
           {
            "close": "2300",
            "day": 4,
            "open": "1000"
           },
           {
            "close": "2359",
            "day": 5,
            "open": "1000"
           },
           {
            "close": "2359",
            "day": 6,
            "open": "1000"
           },
           {
            "close": "2200",
            "day": 7,
            "open": "1000"
           }
          ],
          "seasonal": [
           {
            "closed": true,
            "hours": [
             {
              "close": "+0000",
              "day": 1,
              "open": "0000"
             }
            ]
           },
           {
            "closed": true,
            "hours": [
             {
              "close": "+0000",
              "day": 2,
              "open": "0000"
             }
            ]
           },
           {
            "closed": true,
            "hours": [
             {
              "close": "+0000",
              "day": 3,
              "open": "0000"
             }
            ]
           },
           {
            "closed": true,
            "hours": [
             {
              "close": "+0000",
              "day": 4,
              "open": "0000"
             }
            ]
           },
           {
            "closed": true,
            "hours": [
             {
              "close": "+0000",
              "day": 5,
              "open": "0000"
             }
            ]
           },
           {
            "closed": true,
            "hours": [
             {
              "close": "+0000",
              "day": 6,
              "open": "0000"
             }
            ]
           },
           {
            "closed": true,
            "hours": [
             {
              "close": "+0000",
              "day": 7,
              "open": "0000"
             }
            ]
           },
           {
            "closed": true,
            "hours": [
             {
              "close": "+0000",
              "day": 1,
              "open": "0000"
             }
            ]
           },
           {
            "closed": true,
            "hours": [
             {
              "close": "+0000",
              "day": 2,
              "open": "0000"
             }
            ]
           },
           {
            "closed": true,
            "hours": [
             {
              "close": "+0000",
              "day": 3,
              "open": "0000"
             }
            ]
           },
           {
            "closed": true,
            "hours": [
             {
              "close": "+0000",
              "day": 4,
              "open": "0000"
             }
            ]
           },
           {
            "closed": true,
            "hours": [
             {
              "close": "+0000",
              "day": 5,
              "open": "0000"
             }
            ]
           },
           {
            "closed": true,
            "hours": [
             {
              "close": "+0000",
              "day": 6,
              "open": "0000"
             }
            ]
           },
           {
            "closed": true,
            "hours": [
             {
              "close": "+0000",
              "day": 7,
              "open": "0000"
             }
            ]
           },
           {
            "closed": true,
            "hours": [
             {
              "close": "+0000",
              "day": 1,
              "open": "0000"
             }
            ]
           },
           {
            "closed": true,
            "hours": [
             {
              "close": "+0000",
              "day": 2,
              "open": "0000"
             }
            ]
           },
           {
            "closed": true,
            "hours": [
             {
              "close": "+0000",
              "day": 3,
              "open": "0000"
             }
            ]
           },
           {
            "closed": true,
            "hours": [
             {
              "close": "+0000",
              "day": 4,
              "open": "0000"
             }
            ]
           },
           {
            "closed": true,
            "hours": [
             {
              "close": "+0000",
              "day": 5,
              "open": "0000"
             }
            ]
           },
           {
            "closed": true,
            "hours": [
             {
              "close": "+0000",
              "day": 6,
              "open": "0000"
             }
            ]
           },
           {
            "closed": true,
            "hours": [
             {
              "close": "+0000",
              "day": 7,
              "open": "0000"
             }
            ]
           },
           {
            "closed": true,
            "hours": [
             {
              "close": "+0000",
              "day": 1,
              "open": "0000"
             }
            ]
           }
          ]
         },
         "location": {
          "address": "69 George St",
          "country": "CA",
          "cross_street": "at William St",
          "formatted_address": "69 George St (at William St), Ottawa ON K1N 1K1",
          "locality": "Ottawa",
          "neighborhood": [
           "Byward Market - Parliament Hill"
          ],
          "postcode": "K1N 1K1",
          "region": "ON"
         },
         "name": "BeaverTails Canada Inc",
         "rating": 8.8,
         "tel": "(613) 241-1230",
         "website": "http://www.beavertailsinc.com/"
        },
        {
         "categories": [
          {
           "icon": {
            "prefix": "https://ss3.4sqi.net/img/categories_v2/food/mexican_",
            "suffix": ".png"
           },
           "id": 13303,
           "name": "Mexican Restaurant"
          }
         ],
         "hours": {
          "display": "Open Daily 11:30-22:00",
          "is_local_holiday": false,
          "open_now": false,
          "regular": [
           {
            "close": "2200",
            "day": 1,
            "open": "1130"
           },
           {
            "close": "2200",
            "day": 2,
            "open": "1130"
           },
           {
            "close": "2200",
            "day": 3,
            "open": "1130"
           },
           {
            "close": "2200",
            "day": 4,
            "open": "1130"
           },
           {
            "close": "2200",
            "day": 5,
            "open": "1130"
           },
           {
            "close": "2200",
            "day": 6,
            "open": "1130"
           },
           {
            "close": "2200",
            "day": 7,
            "open": "1130"
           }
          ],
          "seasonal": []
         },
         "location": {
          "address": "307 Dalhousie St",
          "country": "CA",
          "cross_street": "Clarence St",
          "formatted_address": "307 Dalhousie St (Clarence St), Ottawa ON K1N 7E8",
          "locality": "Ottawa",
          "neighborhood": [
           "Byward Market - Parliament Hill"
          ],
          "postcode": "K1N 7E8",
          "region": "ON"
         },
         "name": "Ahora Mexican Cuisine",
         "rating": 8,
         "tel": "(613) 562-2081",
         "website": "http://www.ahora.ca/"
        },
        {
         "categories": [
          {
           "icon": {
            "prefix": "https://ss3.4sqi.net/img/categories_v2/food/fastfood_",
            "suffix": ".png"
           },
           "id": 13145,
           "name": "Fast Food Restaurant"
          },
          {
           "icon": {
            "prefix": "https://ss3.4sqi.net/img/categories_v2/food/mexican_",
            "suffix": ".png"
           },
           "id": 13307,
           "name": "Tex-Mex Restaurant"
          }
         ],
         "hours": {
          "display": "Open Daily 11:00-18:00",
          "is_local_holiday": false,
          "open_now": false,
          "regular": [
           {
            "close": "1800",
            "day": 1,
            "open": "1100"
           },
           {
            "close": "1800",
            "day": 2,
            "open": "1100"
           },
           {
            "close": "1800",
            "day": 3,
            "open": "1100"
           },
           {
            "close": "1800",
            "day": 4,
            "open": "1100"
           },
           {
            "close": "1800",
            "day": 5,
            "open": "1100"
           },
           {
            "close": "1800",
            "day": 6,
            "open": "1100"
           },
           {
            "close": "1800",
            "day": 7,
            "open": "1100"
           }
          ],
          "seasonal": []
         },
         "location": {
          "address": "55 by Ward Market Sq",
          "country": "CA",
          "cross_street": "",
          "formatted_address": "55 by Ward Market Sq, Ottawa ON K1N 9C3",
          "locality": "Ottawa",
          "neighborhood": [
           "Lower Town"
          ],
          "postcode": "K1N 9C3",
          "region": "ON"
         },
         "name": "Corazon de Maiz",
         "rating": 8.5,
         "tel": "(613) 244-1661",
         "website": "http://www.corazondemaizottawa.com"
        },
        {
         "categories": [
          {
           "icon": {
            "prefix": "https://ss3.4sqi.net/img/categories_v2/food/pizza_",
            "suffix": ".png"
           },
           "id": 13064,
           "name": "Pizzeria"
          }
         ],
         "hours": {
          "display": "Mon-Thu 11:00-21:00; Fri-Sat 11:00-22:00; Sun 12:00-21:00",
          "is_local_holiday": false,
          "open_now": false,
          "regular": [
           {
            "close": "2100",
            "day": 1,
            "open": "1100"
           },
           {
            "close": "2100",
            "day": 2,
            "open": "1100"
           },
           {
            "close": "2100",
            "day": 3,
            "open": "1100"
           },
           {
            "close": "2100",
            "day": 4,
            "open": "1100"
           },
           {
            "close": "2200",
            "day": 5,
            "open": "1100"
           },
           {
            "close": "2200",
            "day": 6,
            "open": "1100"
           },
           {
            "close": "2100",
            "day": 7,
            "open": "1200"
           }
          ],
          "seasonal": []
         },
         "location": {
          "address": "86 Murray St",
          "country": "CA",
          "cross_street": "at Parent St",
          "formatted_address": "86 Murray St (at Parent St), Ottawa ON K1N 5M6",
          "locality": "Ottawa",
          "neighborhood": [
           "Byward Market - Parliament Hill"
          ],
          "postcode": "K1N 5M6",
          "region": "ON"
         },
         "name": "Fiazza Fresh Fired",
         "rating": 8.2,
         "tel": "(613) 562-2000",
         "website": "http://www.fiazza.ca"
        },
        {
         "categories": [
          {
           "icon": {
            "prefix": "https://ss3.4sqi.net/img/categories_v2/food/french_",
            "suffix": ".png"
           },
           "id": 13148,
           "name": "French Restaurant"
          }
         ],
         "hours": {
          "display": "Open Daily 17:00-22:30",
          "is_local_holiday": false,
          "open_now": false,
          "regular": [
           {
            "close": "2230",
            "day": 1,
            "open": "1700"
           },
           {
            "close": "2230",
            "day": 2,
            "open": "1700"
           },
           {
            "close": "2230",
            "day": 3,
            "open": "1700"
           },
           {
            "close": "2230",
            "day": 4,
            "open": "1700"
           },
           {
            "close": "2230",
            "day": 5,
            "open": "1700"
           },
           {
            "close": "2230",
            "day": 6,
            "open": "1700"
           },
           {
            "close": "2230",
            "day": 7,
            "open": "1700"
           }
          ],
          "seasonal": []
         },
         "location": {
          "address": "18 York St",
          "country": "CA",
          "cross_street": "Sussex Dr",
          "formatted_address": "18 York St (Sussex Dr), Ottawa ON K1N 5S6",
          "locality": "Ottawa",
          "neighborhood": [
           "Byward Market-Parliament Hill, Ottawa, ON"
          ],
          "postcode": "K1N 5S6",
          "region": "ON"
         },
         "name": "E18hteen",
         "rating": 8.6,
         "tel": "(613) 244-1188",
         "website": "http://www.restaurant18.com"
        },
        {
         "categories": [
          {
           "icon": {
            "prefix": "https://ss3.4sqi.net/img/categories_v2/food/default_",
            "suffix": ".png"
           },
           "id": 13065,
           "name": "Restaurant"
          }
         ],
         "hours": {
          "display": "Mon-Fri 11:00-23:59; Sat-Sun 00:00-1:00, 11:00-23:59",
          "is_local_holiday": false,
          "open_now": true,
          "regular": [
           {
            "close": "2359",
            "day": 1,
            "open": "1100"
           },
           {
            "close": "2359",
            "day": 2,
            "open": "1100"
           },
           {
            "close": "2359",
            "day": 3,
            "open": "1100"
           },
           {
            "close": "2359",
            "day": 4,
            "open": "1100"
           },
           {
            "close": "2359",
            "day": 5,
            "open": "1100"
           },
           {
            "close": "0100",
            "day": 6,
            "open": "0000"
           },
           {
            "close": "2359",
            "day": 6,
            "open": "1100"
           },
           {
            "close": "0100",
            "day": 7,
            "open": "0000"
           },
           {
            "close": "2359",
            "day": 7,
            "open": "1100"
           }
          ],
          "seasonal": []
         },
         "location": {
          "address": "50 Rideau St",
          "address_extended": "E106",
          "country": "CA",
          "cross_street": "",
          "formatted_address": "50 Rideau St, Ottawa ON K1N 9J7",
          "locality": "Ottawa",
          "neighborhood": [
           "Lower Town"
          ],
          "postcode": "K1N 9J7",
          "region": "ON"
         },
         "name": "JOEY Rideau",
         "rating": 8.6,
         "tel": "(613) 680-5639",
         "website": "https://joeyrestaurants.com/location/joey-rideau/menu#food"
        },
        {
         "categories": [
          {
           "icon": {
            "prefix": "https://ss3.4sqi.net/img/categories_v2/food/burger_",
            "suffix": ".png"
           },
           "id": 13031,
           "name": "Burger Joint"
          },
          {
           "icon": {
            "prefix": "https://ss3.4sqi.net/img/categories_v2/food/tapas_",
            "suffix": ".png"
           },
           "id": 13347,
           "name": "Tapas Restaurant"
          }
         ],
         "hours": {
          "display": "Mon 12:00-14:00, 17:30-22:00; Tue-Thu 12:00-14:00, 17:30-23:00; Fri 12:00-14:00, 17:30-23:59; Sat 12:00-23:59; Sun 12:00-22:00",
          "is_local_holiday": false,
          "open_now": true,
          "regular": [
           {
            "close": "1400",
            "day": 1,
            "open": "1200"
           },
           {
            "close": "2200",
            "day": 1,
            "open": "1730"
           },
           {
            "close": "1400",
            "day": 2,
            "open": "1200"
           },
           {
            "close": "2300",
            "day": 2,
            "open": "1730"
           },
           {
            "close": "1400",
            "day": 3,
            "open": "1200"
           },
           {
            "close": "2300",
            "day": 3,
            "open": "1730"
           },
           {
            "close": "1400",
            "day": 4,
            "open": "1200"
           },
           {
            "close": "2300",
            "day": 4,
            "open": "1730"
           },
           {
            "close": "1400",
            "day": 5,
            "open": "1200"
           },
           {
            "close": "2359",
            "day": 5,
            "open": "1730"
           },
           {
            "close": "2359",
            "day": 6,
            "open": "1200"
           },
           {
            "close": "2200",
            "day": 7,
            "open": "1200"
           }
          ],
          "seasonal": []
         },
         "location": {
          "address": "1 York St",
          "country": "CA",
          "cross_street": "@ Sussex Dr",
          "formatted_address": "1 York St (@ Sussex Dr), Ottawa ON K1N 5S7",
          "locality": "Ottawa",
          "neighborhood": [
           "Byward market"
          ],
          "postcode": "K1N 5S7",
          "region": "ON"
         },
         "name": "Play Food & Wine",
         "rating": 8.6,
         "tel": "(613) 667-9207",
         "website": "http://www.playfood.ca"
        },
        {
         "categories": [
          {
           "icon": {
            "prefix": "https://ss3.4sqi.net/img/categories_v2/nightlife/divebar_",
            "suffix": ".png"
           },
           "id": 13010,
           "name": "Dive Bar"
          },
          {
           "icon": {
            "prefix": "https://ss3.4sqi.net/img/categories_v2/food/default_",
            "suffix": ".png"
           },
           "id": 13065,
           "name": "Restaurant"
          }
         ],
         "hours": {
          "display": "Open Daily 00:00-2:00, 11:00-23:59",
          "is_local_holiday": false,
          "open_now": true,
          "regular": [
           {
            "close": "0200",
            "day": 1,
            "open": "0000"
           },
           {
            "close": "2359",
            "day": 1,
            "open": "1100"
           },
           {
            "close": "0200",
            "day": 2,
            "open": "0000"
           },
           {
            "close": "2359",
            "day": 2,
            "open": "1100"
           },
           {
            "close": "0200",
            "day": 3,
            "open": "0000"
           },
           {
            "close": "2359",
            "day": 3,
            "open": "1100"
           },
           {
            "close": "0200",
            "day": 4,
            "open": "0000"
           },
           {
            "close": "2359",
            "day": 4,
            "open": "1100"
           },
           {
            "close": "0200",
            "day": 5,
            "open": "0000"
           },
           {
            "close": "2359",
            "day": 5,
            "open": "1100"
           },
           {
            "close": "0200",
            "day": 6,
            "open": "0000"
           },
           {
            "close": "2359",
            "day": 6,
            "open": "1100"
           },
           {
            "close": "0200",
            "day": 7,
            "open": "0000"
           },
           {
            "close": "2359",
            "day": 7,
            "open": "1100"
           }
          ],
          "seasonal": []
         },
         "location": {
          "address": "42 York St",
          "country": "CA",
          "cross_street": "Byward Market Square",
          "formatted_address": "42 York St (Byward Market Square), Ottawa ON K1N 5S6",
          "locality": "Ottawa",
          "neighborhood": [
           "Rockcliffe Park"
          ],
          "postcode": "K1N 5S6",
          "region": "ON"
         },
         "name": "Chateau Lafayette",
         "rating": 8.1,
         "tel": "(613) 241-4747",
         "website": "http://www.thelaff.ca"
        },
        {
         "categories": [
          {
           "icon": {
            "prefix": "https://ss3.4sqi.net/img/categories_v2/food/diner_",
            "suffix": ".png"
           },
           "id": 13049,
           "name": "Diner"
          },
          {
           "icon": {
            "prefix": "https://ss3.4sqi.net/img/categories_v2/food/default_",
            "suffix": ".png"
           },
           "id": 13068,
           "name": "American Restaurant"
          }
         ],
         "hours": {
          "display": "Open Daily 00:00-23:59",
          "is_local_holiday": false,
          "open_now": true,
          "regular": [
           {
            "close": "2359",
            "day": 1,
            "open": "0000"
           },
           {
            "close": "2359",
            "day": 2,
            "open": "0000"
           },
           {
            "close": "2359",
            "day": 3,
            "open": "0000"
           },
           {
            "close": "2359",
            "day": 4,
            "open": "0000"
           },
           {
            "close": "2359",
            "day": 5,
            "open": "0000"
           },
           {
            "close": "2359",
            "day": 6,
            "open": "0000"
           },
           {
            "close": "2359",
            "day": 7,
            "open": "0000"
           }
          ],
          "seasonal": []
         },
         "location": {
          "address": "16 by Ward Market Sq",
          "country": "CA",
          "cross_street": "at York St",
          "formatted_address": "16 by Ward Market Sq (at York St), Ottawa ON K1N 7A1",
          "locality": "Ottawa",
          "neighborhood": [
           "Byward market"
          ],
          "postcode": "K1N 7A1",
          "region": "ON"
         },
         "name": "Zak's Diner",
         "rating": 8,
         "tel": "(613) 241-2401",
         "website": "http://www.zaksdiner.com/"
        },
        {
         "categories": [
          {
           "icon": {
            "prefix": "https://ss3.4sqi.net/img/categories_v2/food/cafe_",
            "suffix": ".png"
           },
           "id": 13034,
           "name": "Café"
          },
          {
           "icon": {
            "prefix": "https://ss3.4sqi.net/img/categories_v2/food/coffeeshop_",
            "suffix": ".png"
           },
           "id": 13035,
           "name": "Coffee Shop"
          },
          {
           "icon": {
            "prefix": "https://ss3.4sqi.net/img/categories_v2/food/default_",
            "suffix": ".png"
           },
           "id": 13065,
           "name": "Restaurant"
          }
         ],
         "hours": {
          "display": "Mon-Sat 7:00-20:00; Sun 8:00-18:00",
          "is_local_holiday": false,
          "open_now": false,
          "regular": [
           {
            "close": "2000",
            "day": 1,
            "open": "0700"
           },
           {
            "close": "2000",
            "day": 2,
            "open": "0700"
           },
           {
            "close": "2000",
            "day": 3,
            "open": "0700"
           },
           {
            "close": "2000",
            "day": 4,
            "open": "0700"
           },
           {
            "close": "2000",
            "day": 5,
            "open": "0700"
           },
           {
            "close": "2000",
            "day": 6,
            "open": "0700"
           },
           {
            "close": "1800",
            "day": 7,
            "open": "0800"
           }
          ],
          "seasonal": []
         },
         "location": {
          "address": "50 Rideau St",
          "country": "CA",
          "cross_street": "",
          "formatted_address": "50 Rideau St, Ottawa ON K1N 9J7",
          "locality": "Ottawa",
          "neighborhood": [
           "Byward Market-Parliament Hill"
          ],
          "postcode": "K1N 9J7",
          "region": "ON"
         },
         "name": "Bridgehead",
         "rating": 8.1,
         "tel": "(613) 789-1676"
        },
        {
         "categories": [
          {
           "icon": {
            "prefix": "https://ss3.4sqi.net/img/categories_v2/nightlife/gaybar_",
            "suffix": ".png"
           },
           "id": 13011,
           "name": "Gay Bar"
          },
          {
           "icon": {
            "prefix": "https://ss3.4sqi.net/img/categories_v2/food/default_",
            "suffix": ".png"
           },
           "id": 13027,
           "name": "Bistro"
          }
         ],
         "hours": {
          "display": "Mon 14:00-23:59; Tue-Sat 00:00-2:00, 14:00-23:59; Sun 00:00-2:00, 14:00-21:00",
          "is_local_holiday": false,
          "open_now": true,
          "regular": [
           {
            "close": "2359",
            "day": 1,
            "open": "1400"
           },
           {
            "close": "0200",
            "day": 2,
            "open": "0000"
           },
           {
            "close": "2359",
            "day": 2,
            "open": "1400"
           },
           {
            "close": "0200",
            "day": 3,
            "open": "0000"
           },
           {
            "close": "2359",
            "day": 3,
            "open": "1400"
           },
           {
            "close": "0200",
            "day": 4,
            "open": "0000"
           },
           {
            "close": "2359",
            "day": 4,
            "open": "1400"
           },
           {
            "close": "0200",
            "day": 5,
            "open": "0000"
           },
           {
            "close": "2359",
            "day": 5,
            "open": "1400"
           },
           {
            "close": "0200",
            "day": 6,
            "open": "0000"
           },
           {
            "close": "2359",
            "day": 6,
            "open": "1400"
           },
           {
            "close": "0200",
            "day": 7,
            "open": "0000"
           },
           {
            "close": "2100",
            "day": 7,
            "open": "1400"
           }
          ],
          "seasonal": []
         },
         "location": {
          "address": "41 York St",
          "country": "CA",
          "cross_street": "",
          "formatted_address": "41 York St, Ottawa ON K1N 5S7",
          "locality": "Ottawa",
          "neighborhood": [
           "Lower Town"
          ],
          "postcode": "K1N 5S7",
          "region": "ON"
         },
         "name": "The Lookout Bar & Bistro",
         "rating": 7.8,
         "tel": "(613) 789-1624",
         "website": "http://www.thelookoutbar.com"
        },
        {
         "categories": [
          {
           "icon": {
            "prefix": "https://ss3.4sqi.net/img/categories_v2/food/burger_",
            "suffix": ".png"
           },
           "id": 13031,
           "name": "Burger Joint"
          },
          {
           "icon": {
            "prefix": "https://ss3.4sqi.net/img/categories_v2/food/diner_",
            "suffix": ".png"
           },
           "id": 13049,
           "name": "Diner"
          }
         ],
         "hours": {
          "display": "Mon 8:00-23:59; Tue-Thu 00:00-1:00, 8:00-23:59; Fri-Sat 00:00-23:59; Sun 00:00-1:00",
          "is_local_holiday": false,
          "open_now": true,
          "regular": [
           {
            "close": "2359",
            "day": 1,
            "open": "0800"
           },
           {
            "close": "0100",
            "day": 2,
            "open": "0000"
           },
           {
            "close": "2359",
            "day": 2,
            "open": "0800"
           },
           {
            "close": "0100",
            "day": 3,
            "open": "0000"
           },
           {
            "close": "2359",
            "day": 3,
            "open": "0800"
           },
           {
            "close": "0100",
            "day": 4,
            "open": "0000"
           },
           {
            "close": "2359",
            "day": 4,
            "open": "0800"
           },
           {
            "close": "2359",
            "day": 5,
            "open": "0000"
           },
           {
            "close": "2359",
            "day": 6,
            "open": "0000"
           },
           {
            "close": "0100",
            "day": 7,
            "open": "0000"
           }
          ],
          "seasonal": []
         },
         "location": {
          "address": "45 Clarence St",
          "country": "CA",
          "cross_street": "at Byward Street",
          "formatted_address": "45 Clarence St (at Byward Street), Ottawa ON K1N 5P4",
          "locality": "Ottawa",
          "neighborhood": [
           "Lower Town"
          ],
          "postcode": "K1N 5P4",
          "region": "ON"
         },
         "name": "The King Eddy",
         "rating": 7.7,
         "tel": "(613) 680-1700",
         "website": "http://www.kingeddyburgers.com"
        },
        {
         "categories": [
          {
           "icon": {
            "prefix": "https://ss3.4sqi.net/img/categories_v2/nightlife/pub_",
            "suffix": ".png"
           },
           "id": 13018,
           "name": "Pub"
          },
          {
           "icon": {
            "prefix": "https://ss3.4sqi.net/img/categories_v2/food/diner_",
            "suffix": ".png"
           },
           "id": 13049,
           "name": "Diner"
          }
         ],
         "hours": {
          "display": "Mon-Fri 00:00-2:00, 11:00-23:59; Sat-Sun 00:00-2:00, 9:00-23:59",
          "is_local_holiday": false,
          "open_now": true,
          "regular": [
           {
            "close": "0200",
            "day": 1,
            "open": "0000"
           },
           {
            "close": "2359",
            "day": 1,
            "open": "1100"
           },
           {
            "close": "0200",
            "day": 2,
            "open": "0000"
           },
           {
            "close": "2359",
            "day": 2,
            "open": "1100"
           },
           {
            "close": "0200",
            "day": 3,
            "open": "0000"
           },
           {
            "close": "2359",
            "day": 3,
            "open": "1100"
           },
           {
            "close": "0200",
            "day": 4,
            "open": "0000"
           },
           {
            "close": "2359",
            "day": 4,
            "open": "1100"
           },
           {
            "close": "0200",
            "day": 5,
            "open": "0000"
           },
           {
            "close": "2359",
            "day": 5,
            "open": "1100"
           },
           {
            "close": "0200",
            "day": 6,
            "open": "0000"
           },
           {
            "close": "2359",
            "day": 6,
            "open": "0900"
           },
           {
            "close": "0200",
            "day": 7,
            "open": "0000"
           },
           {
            "close": "2359",
            "day": 7,
            "open": "0900"
           }
          ],
          "seasonal": []
         },
         "location": {
          "address": "67 Clarence St",
          "country": "CA",
          "cross_street": "at Parent Ave",
          "formatted_address": "67 Clarence St (at Parent Ave), Ottawa ON K1N 5P5",
          "locality": "Ottawa",
          "neighborhood": [
           "Byward market"
          ],
          "postcode": "K1N 5P5",
          "region": "ON"
         },
         "name": "Heart & Crown",
         "rating": 7.7,
         "tel": "(613) 562-0674",
         "website": "http://www.heartandcrown.ca"
        },
        {
         "categories": [
          {
           "icon": {
            "prefix": "https://ss3.4sqi.net/img/categories_v2/food/default_",
            "suffix": ".png"
           },
           "id": 13027,
           "name": "Bistro"
          },
          {
           "icon": {
            "prefix": "https://ss3.4sqi.net/img/categories_v2/food/french_",
            "suffix": ".png"
           },
           "id": 13148,
           "name": "French Restaurant"
          },
          {
           "icon": {
            "prefix": "https://ss3.4sqi.net/img/categories_v2/food/steakhouse_",
            "suffix": ".png"
           },
           "id": 13383,
           "name": "Steakhouse"
          }
         ],
         "hours": {
          "display": "Mon-Fri 00:00-1:00, 11:00-23:59; Sat-Sun 00:00-1:00, 9:00-23:59",
          "is_local_holiday": false,
          "open_now": true,
          "regular": [
           {
            "close": "0100",
            "day": 1,
            "open": "0000"
           },
           {
            "close": "2359",
            "day": 1,
            "open": "1100"
           },
           {
            "close": "0100",
            "day": 2,
            "open": "0000"
           },
           {
            "close": "2359",
            "day": 2,
            "open": "1100"
           },
           {
            "close": "0100",
            "day": 3,
            "open": "0000"
           },
           {
            "close": "2359",
            "day": 3,
            "open": "1100"
           },
           {
            "close": "0100",
            "day": 4,
            "open": "0000"
           },
           {
            "close": "2359",
            "day": 4,
            "open": "1100"
           },
           {
            "close": "0100",
            "day": 5,
            "open": "0000"
           },
           {
            "close": "2359",
            "day": 5,
            "open": "1100"
           },
           {
            "close": "0100",
            "day": 6,
            "open": "0000"
           },
           {
            "close": "2359",
            "day": 6,
            "open": "0900"
           },
           {
            "close": "0100",
            "day": 7,
            "open": "0000"
           },
           {
            "close": "2359",
            "day": 7,
            "open": "0900"
           }
          ],
          "seasonal": []
         },
         "location": {
          "address": "47 York St",
          "country": "CA",
          "cross_street": "Byward Market Square",
          "formatted_address": "47 York St (Byward Market Square), Ottawa ON K1N 5S7",
          "locality": "Ottawa",
          "neighborhood": [
           "Rockcliffe Park"
          ],
          "postcode": "K1N 5S7",
          "region": "ON"
         },
         "name": "Luxe Bistro",
         "rating": 7.7,
         "tel": "(613) 241-8805",
         "website": "http://www.luxebistro.com"
        },
        {
         "categories": [
          {
           "icon": {
            "prefix": "https://ss3.4sqi.net/img/categories_v2/food/default_",
            "suffix": ".png"
           },
           "id": 13310,
           "name": "Modern European Restaurant"
          }
         ],
         "hours": {
          "display": "Mon-Wed 11:30-22:00; Thu-Fri 11:30-23:00; Sat 17:00-23:00; Sun 17:00-22:00",
          "is_local_holiday": false,
          "open_now": true,
          "regular": [
           {
            "close": "2200",
            "day": 1,
            "open": "1130"
           },
           {
            "close": "2200",
            "day": 2,
            "open": "1130"
           },
           {
            "close": "2200",
            "day": 3,
            "open": "1130"
           },
           {
            "close": "2300",
            "day": 4,
            "open": "1130"
           },
           {
            "close": "2300",
            "day": 5,
            "open": "1130"
           },
           {
            "close": "2300",
            "day": 6,
            "open": "1700"
           },
           {
            "close": "2200",
            "day": 7,
            "open": "1700"
           }
          ],
          "seasonal": []
         },
         "location": {
          "address": "62 Sparks St",
          "country": "CA",
          "cross_street": "",
          "formatted_address": "62 Sparks St, Ottawa ON K1P 5A8",
          "locality": "Ottawa",
          "neighborhood": [
           "Parliament Hill"
          ],
          "postcode": "K1P 5A8",
          "region": "ON"
         },
         "name": "Riviera",
         "rating": 8.6,
         "tel": "(613) 233-6262",
         "website": "http://www.dineriviera.com"
        },
        {
         "categories": [
          {
           "icon": {
            "prefix": "https://ss3.4sqi.net/img/categories_v2/food/african_",
            "suffix": ".png"
           },
           "id": 13067,
           "name": "African Restaurant"
          },
          {
           "icon": {
            "prefix": "https://ss3.4sqi.net/img/categories_v2/food/seafood_",
            "suffix": ".png"
           },
           "id": 13338,
           "name": "Seafood Restaurant"
          },
          {
           "icon": {
            "prefix": "https://ss3.4sqi.net/img/categories_v2/food/steakhouse_",
            "suffix": ".png"
           },
           "id": 13383,
           "name": "Steakhouse"
          }
         ],
         "hours": {
          "display": "Mon-Fri 00:00-1:00, 11:30-23:59; Sat 00:00-1:00, 13:00-23:59; Sun 00:00-1:00, 14:00-23:59",
          "is_local_holiday": false,
          "open_now": true,
          "regular": [
           {
            "close": "0100",
            "day": 1,
            "open": "0000"
           },
           {
            "close": "2359",
            "day": 1,
            "open": "1130"
           },
           {
            "close": "0100",
            "day": 2,
            "open": "0000"
           },
           {
            "close": "2359",
            "day": 2,
            "open": "1130"
           },
           {
            "close": "0100",
            "day": 3,
            "open": "0000"
           },
           {
            "close": "2359",
            "day": 3,
            "open": "1130"
           },
           {
            "close": "0100",
            "day": 4,
            "open": "0000"
           },
           {
            "close": "2359",
            "day": 4,
            "open": "1130"
           },
           {
            "close": "0100",
            "day": 5,
            "open": "0000"
           },
           {
            "close": "2359",
            "day": 5,
            "open": "1130"
           },
           {
            "close": "0100",
            "day": 6,
            "open": "0000"
           },
           {
            "close": "2359",
            "day": 6,
            "open": "1300"
           },
           {
            "close": "0100",
            "day": 7,
            "open": "0000"
           },
           {
            "close": "2359",
            "day": 7,
            "open": "1400"
           }
          ],
          "seasonal": []
         },
         "location": {
          "address": "11 Colonel by Dr",
          "address_extended": "# 1",
          "country": "CA",
          "cross_street": "",
          "formatted_address": "11 Colonel by Dr, Ottawa ON K1N 9H4",
          "locality": "Ottawa",
          "neighborhood": [
           "Byward Market - Parliament Hill"
          ],
          "postcode": "K1N 9H4",
          "region": "ON"
         },
         "name": "The Shore Club",
         "rating": 8.1,
         "tel": "(613) 569-5050",
         "website": "http://www.theshoreclub.ca"
        },
        {
         "categories": [
          {
           "icon": {
            "prefix": "https://ss3.4sqi.net/img/categories_v2/food/fastfood_",
            "suffix": ".png"
           },
           "id": 13145,
           "name": "Fast Food Restaurant"
          },
          {
           "icon": {
            "prefix": "https://ss3.4sqi.net/img/categories_v2/food/salad_",
            "suffix": ".png"
           },
           "id": 13332,
           "name": "Salad Restaurant"
          }
         ],
         "hours": {
          "display": "Mon-Thu 10:00-20:00; Fri 10:00-18:00; Sat 11:00-18:00",
          "is_local_holiday": false,
          "open_now": false,
          "regular": [
           {
            "close": "2000",
            "day": 1,
            "open": "1000"
           },
           {
            "close": "2000",
            "day": 2,
            "open": "1000"
           },
           {
            "close": "2000",
            "day": 3,
            "open": "1000"
           },
           {
            "close": "2000",
            "day": 4,
            "open": "1000"
           },
           {
            "close": "1800",
            "day": 5,
            "open": "1000"
           },
           {
            "close": "1800",
            "day": 6,
            "open": "1100"
           }
          ],
          "seasonal": []
         },
         "location": {
          "address": "50 Laurier Ave E",
          "address_extended": "# 104",
          "country": "CA",
          "cross_street": "Nicholas St",
          "formatted_address": "50 Laurier Ave E (Nicholas St), Ottawa ON K1N 1H7",
          "locality": "Ottawa",
          "neighborhood": [
           "Congress Centre"
          ],
          "postcode": "K1N 1H7",
          "region": "ON"
         },
         "name": "Freshii",
         "rating": 8.3,
         "tel": "(613) 695-5600",
         "website": "https://www.freshii.com/"
        },
        {
         "categories": [
          {
           "icon": {
            "prefix": "https://ss3.4sqi.net/img/categories_v2/nightlife/pub_",
            "suffix": ".png"
           },
           "id": 13018,
           "name": "Pub"
          },
          {
           "icon": {
            "prefix": "https://ss3.4sqi.net/img/categories_v2/food/diner_",
            "suffix": ".png"
           },
           "id": 13049,
           "name": "Diner"
          }
         ],
         "hours": {
          "display": "Mon-Fri 00:00-2:00, 11:00-23:59; Sat-Sun 00:00-2:00, 8:30-23:59",
          "is_local_holiday": false,
          "open_now": true,
          "regular": [
           {
            "close": "0200",
            "day": 1,
            "open": "0000"
           },
           {
            "close": "2359",
            "day": 1,
            "open": "1100"
           },
           {
            "close": "0200",
            "day": 2,
            "open": "0000"
           },
           {
            "close": "2359",
            "day": 2,
            "open": "1100"
           },
           {
            "close": "0200",
            "day": 3,
            "open": "0000"
           },
           {
            "close": "2359",
            "day": 3,
            "open": "1100"
           },
           {
            "close": "0200",
            "day": 4,
            "open": "0000"
           },
           {
            "close": "2359",
            "day": 4,
            "open": "1100"
           },
           {
            "close": "0200",
            "day": 5,
            "open": "0000"
           },
           {
            "close": "2359",
            "day": 5,
            "open": "1100"
           },
           {
            "close": "0200",
            "day": 6,
            "open": "0000"
           },
           {
            "close": "2359",
            "day": 6,
            "open": "0830"
           },
           {
            "close": "0200",
            "day": 7,
            "open": "0000"
           },
           {
            "close": "2359",
            "day": 7,
            "open": "0830"
           }
          ],
          "seasonal": []
         },
         "location": {
          "address": "62 William St",
          "country": "CA",
          "cross_street": "at George St",
          "formatted_address": "62 William St (at George St), Ottawa ON K1N 7A3",
          "locality": "Ottawa",
          "neighborhood": [
           "Lower Town"
          ],
          "postcode": "K1N 7A3",
          "region": "ON"
         },
         "name": "Aulde Dubliner & Pour House",
         "rating": 7.6,
         "tel": "(613) 241-0066",
         "website": "http://www.auldedubliner.com/dubliner.aspx"
        },
        {
         "categories": [
          {
           "icon": {
            "prefix": "https://ss3.4sqi.net/img/categories_v2/nightlife/default_",
            "suffix": ".png"
           },
           "id": 13016,
           "name": "Lounge"
          },
          {
           "icon": {
            "prefix": "https://ss3.4sqi.net/img/categories_v2/food/default_",
            "suffix": ".png"
           },
           "id": 13032,
           "name": "Cafes, Coffee, and Tea Houses"
          },
          {
           "icon": {
            "prefix": "https://ss3.4sqi.net/img/categories_v2/food/default_",
            "suffix": ".png"
           },
           "id": 13065,
           "name": "Restaurant"
          }
         ],
         "hours": {
          "display": "Mon-Fri 14:00-23:59; Sat-Sun 00:00-1:00, 12:00-23:59",
          "is_local_holiday": false,
          "open_now": true,
          "regular": [
           {
            "close": "2359",
            "day": 1,
            "open": "1400"
           },
           {
            "close": "2359",
            "day": 2,
            "open": "1400"
           },
           {
            "close": "2359",
            "day": 3,
            "open": "1400"
           },
           {
            "close": "2359",
            "day": 4,
            "open": "1400"
           },
           {
            "close": "2359",
            "day": 5,
            "open": "1400"
           },
           {
            "close": "0100",
            "day": 6,
            "open": "0000"
           },
           {
            "close": "2359",
            "day": 6,
            "open": "1200"
           },
           {
            "close": "0100",
            "day": 7,
            "open": "0000"
           },
           {
            "close": "2359",
            "day": 7,
            "open": "1200"
           }
          ],
          "seasonal": []
         },
         "location": {
          "address": "1 Rideau St",
          "country": "CA",
          "cross_street": "at MacKenzie Ave",
          "formatted_address": "1 Rideau St (at MacKenzie Ave), Ottawa ON K1N 8S7",
          "locality": "Ottawa",
          "neighborhood": [
           "Lower Town"
          ],
          "postcode": "K1N 8S7",
          "region": "ON"
         },
         "name": "Zoe's Lounge",
         "rating": 7.9,
         "tel": "(613) 241-1414",
         "website": "http://www.fairmont.com"
        },
        {
         "categories": [
          {
           "icon": {
            "prefix": "https://ss3.4sqi.net/img/categories_v2/food/middleeastern_",
            "suffix": ".png"
           },
           "id": 13298,
           "name": "Lebanese Restaurant"
          },
          {
           "icon": {
            "prefix": "https://ss3.4sqi.net/img/categories_v2/food/middleeastern_",
            "suffix": ".png"
           },
           "id": 13309,
           "name": "Middle Eastern Restaurant"
          },
          {
           "icon": {
            "prefix": "https://ss3.4sqi.net/img/categories_v2/food/deli_",
            "suffix": ".png"
           },
           "id": 13334,
           "name": "Sandwich Restaurant"
          }
         ],
         "hours": {
          "display": "Mon-Thu 00:00-1:00, 11:00-23:59; Fri 00:00-2:00, 11:00-23:59; Sat-Sun 00:00-3:00, 12:00-23:59",
          "is_local_holiday": false,
          "open_now": true,
          "regular": [
           {
            "close": "0100",
            "day": 1,
            "open": "0000"
           },
           {
            "close": "2359",
            "day": 1,
            "open": "1100"
           },
           {
            "close": "0100",
            "day": 2,
            "open": "0000"
           },
           {
            "close": "2359",
            "day": 2,
            "open": "1100"
           },
           {
            "close": "0100",
            "day": 3,
            "open": "0000"
           },
           {
            "close": "2359",
            "day": 3,
            "open": "1100"
           },
           {
            "close": "0100",
            "day": 4,
            "open": "0000"
           },
           {
            "close": "2359",
            "day": 4,
            "open": "1100"
           },
           {
            "close": "0200",
            "day": 5,
            "open": "0000"
           },
           {
            "close": "2359",
            "day": 5,
            "open": "1100"
           },
           {
            "close": "0300",
            "day": 6,
            "open": "0000"
           },
           {
            "close": "2359",
            "day": 6,
            "open": "1200"
           },
           {
            "close": "0300",
            "day": 7,
            "open": "0000"
           },
           {
            "close": "2359",
            "day": 7,
            "open": "1200"
           }
          ],
          "seasonal": []
         },
         "location": {
          "address": "464 Rideau St",
          "country": "CA",
          "cross_street": "btwn Chapel & Augusta",
          "formatted_address": "464 Rideau St (btwn Chapel & Augusta), Ottawa ON K1N 5Z4",
          "locality": "Ottawa",
          "neighborhood": [
           "Rideau-Vanier"
          ],
          "postcode": "K1N 5Z4",
          "region": "ON"
         },
         "name": "Shawarma Palace",
         "rating": 8.2,
         "tel": "(613) 789-9533",
         "website": "http://www.shawarmapalace.ca/"
        },
        {
         "categories": [
          {
           "icon": {
            "prefix": "https://ss3.4sqi.net/img/categories_v2/food/default_",
            "suffix": ".png"
           },
           "id": 13027,
           "name": "Bistro"
          },
          {
           "icon": {
            "prefix": "https://ss3.4sqi.net/img/categories_v2/food/cafe_",
            "suffix": ".png"
           },
           "id": 13034,
           "name": "Café"
          }
         ],
         "hours": {
          "display": "Open Daily 7:00-22:00",
          "is_local_holiday": false,
          "open_now": false,
          "regular": [
           {
            "close": "2200",
            "day": 1,
            "open": "0700"
           },
           {
            "close": "2200",
            "day": 2,
            "open": "0700"
           },
           {
            "close": "2200",
            "day": 3,
            "open": "0700"
           },
           {
            "close": "2200",
            "day": 4,
            "open": "0700"
           },
           {
            "close": "2200",
            "day": 5,
            "open": "0700"
           },
           {
            "close": "2200",
            "day": 6,
            "open": "0700"
           },
           {
            "close": "2200",
            "day": 7,
            "open": "0700"
           }
          ],
          "seasonal": []
         },
         "location": {
          "address": "55 Byward Market Sq",
          "country": "CA",
          "cross_street": "at York St",
          "formatted_address": "55 Byward Market Sq (at York St), Ottawa ON K1N 9C3",
          "locality": "Ottawa",
          "postcode": "K1N 9C3",
          "region": "ON"
         },
         "name": "Le Moulin de Provence",
         "rating": 7.3,
         "tel": "(613) 241-9152",
         "website": "http://moulindeprovence.com"
        },
        {
         "categories": [
          {
           "icon": {
            "prefix": "https://ss3.4sqi.net/img/categories_v2/food/default_",
            "suffix": ".png"
           },
           "id": 13065,
           "name": "Restaurant"
          }
         ],
         "hours": {
          "display": "Mon-Fri 11:30-14:00, 17:30-23:00; Sat 7:00-11:00, 11:30-14:00, 17:30-22:00; Sun 7:00-10:30, 11:00-12:30",
          "is_local_holiday": false,
          "open_now": true,
          "regular": [
           {
            "close": "1400",
            "day": 1,
            "open": "1130"
           },
           {
            "close": "2300",
            "day": 1,
            "open": "1730"
           },
           {
            "close": "1400",
            "day": 2,
            "open": "1130"
           },
           {
            "close": "2300",
            "day": 2,
            "open": "1730"
           },
           {
            "close": "1400",
            "day": 3,
            "open": "1130"
           },
           {
            "close": "2300",
            "day": 3,
            "open": "1730"
           },
           {
            "close": "1400",
            "day": 4,
            "open": "1130"
           },
           {
            "close": "2300",
            "day": 4,
            "open": "1730"
           },
           {
            "close": "1400",
            "day": 5,
            "open": "1130"
           },
           {
            "close": "2300",
            "day": 5,
            "open": "1730"
           },
           {
            "close": "1100",
            "day": 6,
            "open": "0700"
           },
           {
            "close": "1400",
            "day": 6,
            "open": "1130"
           },
           {
            "close": "2200",
            "day": 6,
            "open": "1730"
           },
           {
            "close": "1030",
            "day": 7,
            "open": "0700"
           },
           {
            "close": "1230",
            "day": 7,
            "open": "1100"
           }
          ],
          "seasonal": []
         },
         "location": {
          "address": "1 Rideau St",
          "country": "CA",
          "formatted_address": "1 Rideau St, Ottawa ON K1N 8S7",
          "locality": "Ottawa",
          "neighborhood": [
           "Byward Market-Parliament Hill, Ottawa, ON"
          ],
          "postcode": "K1N 8S7",
          "region": "ON"
         },
         "name": "Wilfrid's",
         "rating": 7.7,
         "tel": "(613) 241-1414",
         "website": "http://www.fairmont.com/laurier-ottawa/dining/wilfrids/"
        },
        {
         "categories": [
          {
           "icon": {
            "prefix": "https://ss3.4sqi.net/img/categories_v2/nightlife/pub_",
            "suffix": ".png"
           },
           "id": 13018,
           "name": "Pub"
          },
          {
           "icon": {
            "prefix": "https://ss3.4sqi.net/img/categories_v2/food/default_",
            "suffix": ".png"
           },
           "id": 13065,
           "name": "Restaurant"
          }
         ],
         "hours": {
          "display": "Mon-Fri 00:00-1:00, 11:00-23:59; Sat-Sun 00:00-2:00, 11:00-23:59",
          "is_local_holiday": false,
          "open_now": true,
          "regular": [
           {
            "close": "0100",
            "day": 1,
            "open": "0000"
           },
           {
            "close": "2359",
            "day": 1,
            "open": "1100"
           },
           {
            "close": "0100",
            "day": 2,
            "open": "0000"
           },
           {
            "close": "2359",
            "day": 2,
            "open": "1100"
           },
           {
            "close": "0100",
            "day": 3,
            "open": "0000"
           },
           {
            "close": "2359",
            "day": 3,
            "open": "1100"
           },
           {
            "close": "0100",
            "day": 4,
            "open": "0000"
           },
           {
            "close": "2359",
            "day": 4,
            "open": "1100"
           },
           {
            "close": "0100",
            "day": 5,
            "open": "0000"
           },
           {
            "close": "2359",
            "day": 5,
            "open": "1100"
           },
           {
            "close": "0200",
            "day": 6,
            "open": "0000"
           },
           {
            "close": "2359",
            "day": 6,
            "open": "1100"
           },
           {
            "close": "0200",
            "day": 7,
            "open": "0000"
           },
           {
            "close": "2359",
            "day": 7,
            "open": "1100"
           }
          ],
          "seasonal": []
         },
         "location": {
          "address": "14 Waller St",
          "country": "CA",
          "cross_street": "at Rideau St",
          "formatted_address": "14 Waller St (at Rideau St), Ottawa ON K1N 9C4",
          "locality": "Ottawa",
          "neighborhood": [
           "Lower Town"
          ],
          "postcode": "K1N 9C4",
          "region": "ON"
         },
         "name": "Level One",
         "rating": 7.4,
         "tel": "(613) 680-7529",
         "website": "http://www.levelonegamepub.com"
        },
        {
         "categories": [
          {
           "icon": {
            "prefix": "https://ss3.4sqi.net/img/categories_v2/food/french_",
            "suffix": ".png"
           },
           "id": 13148,
           "name": "French Restaurant"
          }
         ],
         "hours": {
          "display": "Mon-Tue 8:00-23:59; Wed-Fri 00:00-2:00, 8:00-23:59; Sat-Sun 00:00-2:00, 9:00-23:59",
          "is_local_holiday": false,
          "open_now": true,
          "regular": [
           {
            "close": "2359",
            "day": 1,
            "open": "0800"
           },
           {
            "close": "2359",
            "day": 2,
            "open": "0800"
           },
           {
            "close": "0200",
            "day": 3,
            "open": "0000"
           },
           {
            "close": "2359",
            "day": 3,
            "open": "0800"
           },
           {
            "close": "0200",
            "day": 4,
            "open": "0000"
           },
           {
            "close": "2359",
            "day": 4,
            "open": "0800"
           },
           {
            "close": "0200",
            "day": 5,
            "open": "0000"
           },
           {
            "close": "2359",
            "day": 5,
            "open": "0800"
           },
           {
            "close": "0200",
            "day": 6,
            "open": "0000"
           },
           {
            "close": "2359",
            "day": 6,
            "open": "0900"
           },
           {
            "close": "0200",
            "day": 7,
            "open": "0000"
           },
           {
            "close": "2359",
            "day": 7,
            "open": "0900"
           }
          ],
          "seasonal": []
         },
         "location": {
          "address": "700 Sussex Dr",
          "country": "CA",
          "cross_street": "at Rideau St",
          "formatted_address": "700 Sussex Dr (at Rideau St), Ottawa ON K1N 1K4",
          "locality": "Ottawa",
          "neighborhood": [
           "Byward Market - Parliament Hill"
          ],
          "postcode": "K1N 1K4",
          "region": "ON"
         },
         "name": "Metropolitain Brasserie",
         "rating": 7.6,
         "tel": "(613) 562-1160",
         "website": "http://www.metropolitainbrasserie.com"
        },
        {
         "categories": [
          {
           "icon": {
            "prefix": "https://ss3.4sqi.net/img/categories_v2/food/default_",
            "suffix": ".png"
           },
           "id": 13068,
           "name": "American Restaurant"
          },
          {
           "icon": {
            "prefix": "https://ss3.4sqi.net/img/categories_v2/food/newamerican_",
            "suffix": ".png"
           },
           "id": 13314,
           "name": "New American Restaurant"
          }
         ],
         "hours": {
          "display": "Open Daily 11:30-21:00",
          "is_local_holiday": false,
          "open_now": false,
          "regular": [
           {
            "close": "2100",
            "day": 1,
            "open": "1130"
           },
           {
            "close": "2100",
            "day": 2,
            "open": "1130"
           },
           {
            "close": "2100",
            "day": 3,
            "open": "1130"
           },
           {
            "close": "2100",
            "day": 4,
            "open": "1130"
           },
           {
            "close": "2100",
            "day": 5,
            "open": "1130"
           },
           {
            "close": "2100",
            "day": 6,
            "open": "1130"
           },
           {
            "close": "2100",
            "day": 7,
            "open": "1130"
           }
          ],
          "seasonal": []
         },
         "location": {
          "address": "53 Elgin St",
          "country": "CA",
          "cross_street": "National Arts Centre",
          "formatted_address": "53 Elgin St (National Arts Centre), Ottawa ON K1P 5W1",
          "locality": "Ottawa",
          "neighborhood": [
           "Byward Market - Parliament Hill"
          ],
          "postcode": "K1P 5W1",
          "region": "ON"
         },
         "name": "Le Café",
         "rating": 7.7,
         "tel": "(613) 594-5127",
         "website": "http://nac-cna.ca/en/lecafe"
        },
        {
         "categories": [
          {
           "icon": {
            "prefix": "https://ss3.4sqi.net/img/categories_v2/food/default_",
            "suffix": ".png"
           },
           "id": 13065,
           "name": "Restaurant"
          }
         ],
         "hours": {
          "display": "Mon-Wed 7:00-19:00; Thu-Sat 7:00-20:00; Sun 7:00-19:00",
          "is_local_holiday": false,
          "open_now": false,
          "regular": [
           {
            "close": "1900",
            "day": 1,
            "open": "0700"
           },
           {
            "close": "1900",
            "day": 2,
            "open": "0700"
           },
           {
            "close": "1900",
            "day": 3,
            "open": "0700"
           },
           {
            "close": "2000",
            "day": 4,
            "open": "0700"
           },
           {
            "close": "2000",
            "day": 5,
            "open": "0700"
           },
           {
            "close": "2000",
            "day": 6,
            "open": "0700"
           },
           {
            "close": "1900",
            "day": 7,
            "open": "0700"
           }
          ],
          "seasonal": []
         },
         "location": {
          "address": "51 York St",
          "country": "CA",
          "cross_street": "",
          "formatted_address": "51 York St, Ottawa ON K1N 9B7",
          "locality": "Ottawa",
          "neighborhood": [
           "Lower Town"
          ],
          "postcode": "K1N 9B7",
          "region": "ON"
         },
         "name": "Olive & Chili",
         "rating": 7.1,
         "tel": "(613) 789-7172",
         "website": "http://www.olivechili.com"
        },
        {
         "categories": [
          {
           "icon": {
            "prefix": "https://ss3.4sqi.net/img/categories_v2/food/default_",
            "suffix": ".png"
           },
           "id": 13027,
           "name": "Bistro"
          },
          {
           "icon": {
            "prefix": "https://ss3.4sqi.net/img/categories_v2/food/dessert_",
            "suffix": ".png"
           },
           "id": 13040,
           "name": "Dessert Shop"
          }
         ],
         "hours": {
          "display": "Mon-Thu 10:00-23:00; Fri-Sat 10:00-23:59; Sun 10:00-23:00",
          "is_local_holiday": false,
          "open_now": true,
          "regular": [
           {
            "close": "2300",
            "day": 1,
            "open": "1000"
           },
           {
            "close": "2300",
            "day": 2,
            "open": "1000"
           },
           {
            "close": "2300",
            "day": 3,
            "open": "1000"
           },
           {
            "close": "2300",
            "day": 4,
            "open": "1000"
           },
           {
            "close": "2359",
            "day": 5,
            "open": "1000"
           },
           {
            "close": "2359",
            "day": 6,
            "open": "1000"
           },
           {
            "close": "2300",
            "day": 7,
            "open": "1000"
           }
          ],
          "seasonal": []
         },
         "location": {
          "address": "53 William St",
          "address_extended": "# 51",
          "country": "CA",
          "cross_street": "btwn York St & George St",
          "formatted_address": "53 William St (btwn York St & George St), Ottawa ON K1N 6Z9",
          "locality": "Ottawa",
          "neighborhood": [
           "Lower Town"
          ],
          "postcode": "K1N 6Z9",
          "region": "ON"
         },
         "name": "Cacao 70",
         "rating": 7,
         "tel": "(613) 860-1991",
         "website": "http://cacao70.ca/en/"
        },
        {
         "categories": [
          {
           "icon": {
            "prefix": "https://ss3.4sqi.net/img/categories_v2/food/fastfood_",
            "suffix": ".png"
           },
           "id": 13145,
           "name": "Fast Food Restaurant"
          },
          {
           "icon": {
            "prefix": "https://ss3.4sqi.net/img/categories_v2/food/fastfood_",
            "suffix": ".png"
           },
           "id": 13326,
           "name": "Poutine Restaurant"
          },
          {
           "icon": {
            "prefix": "https://ss3.4sqi.net/img/categories_v2/food/southern_",
            "suffix": ".png"
           },
           "id": 13344,
           "name": "Southern / Soul Food Restaurant"
          }
         ],
         "hours": {
          "display": "Mon-Wed 11:00-23:59; Thu-Fri 00:00-3:00, 11:00-23:59; Sat-Sun 00:00-4:00, 11:00-23:59",
          "is_local_holiday": false,
          "open_now": true,
          "regular": [
           {
            "close": "2359",
            "day": 1,
            "open": "1100"
           },
           {
            "close": "2359",
            "day": 2,
            "open": "1100"
           },
           {
            "close": "2359",
            "day": 3,
            "open": "1100"
           },
           {
            "close": "0300",
            "day": 4,
            "open": "0000"
           },
           {
            "close": "2359",
            "day": 4,
            "open": "1100"
           },
           {
            "close": "0300",
            "day": 5,
            "open": "0000"
           },
           {
            "close": "2359",
            "day": 5,
            "open": "1100"
           },
           {
            "close": "0400",
            "day": 6,
            "open": "0000"
           },
           {
            "close": "2359",
            "day": 6,
            "open": "1100"
           },
           {
            "close": "0400",
            "day": 7,
            "open": "0000"
           },
           {
            "close": "2359",
            "day": 7,
            "open": "1100"
           }
          ],
          "seasonal": []
         },
         "location": {
          "address": "407 Dalhousie St",
          "country": "CA",
          "cross_street": "btwn Rideau St. & Besserer St.",
          "formatted_address": "407 Dalhousie St (btwn Rideau St. & Besserer St.), Ottawa ON K1N 9K4",
          "locality": "Ottawa",
          "neighborhood": [
           "Byward Market - Parliament Hill"
          ],
          "postcode": "K1N 9K4",
          "region": "ON"
         },
         "name": "Smoke's Poutinerie",
         "rating": 7,
         "tel": "(613) 789-2873",
         "website": "http://smokespoutinerie.com"
        },
        {
         "categories": [
          {
           "icon": {
            "prefix": "https://ss3.4sqi.net/img/categories_v2/nightlife/pub_",
            "suffix": ".png"
           },
           "id": 13003,
           "name": "Bar"
          },
          {
           "icon": {
            "prefix": "https://ss3.4sqi.net/img/categories_v2/food/diner_",
            "suffix": ".png"
           },
           "id": 13049,
           "name": "Diner"
          }
         ],
         "hours": {
          "display": "Mon-Wed 00:00-1:00, 11:00-23:59; Thu-Fri 00:00-2:00, 11:00-23:59; Sat-Sun 00:00-2:00, 10:00-23:59",
          "is_local_holiday": false,
          "open_now": true,
          "regular": [
           {
            "close": "0100",
            "day": 1,
            "open": "0000"
           },
           {
            "close": "2359",
            "day": 1,
            "open": "1100"
           },
           {
            "close": "0100",
            "day": 2,
            "open": "0000"
           },
           {
            "close": "2359",
            "day": 2,
            "open": "1100"
           },
           {
            "close": "0100",
            "day": 3,
            "open": "0000"
           },
           {
            "close": "2359",
            "day": 3,
            "open": "1100"
           },
           {
            "close": "0200",
            "day": 4,
            "open": "0000"
           },
           {
            "close": "2359",
            "day": 4,
            "open": "1100"
           },
           {
            "close": "0200",
            "day": 5,
            "open": "0000"
           },
           {
            "close": "2359",
            "day": 5,
            "open": "1100"
           },
           {
            "close": "0200",
            "day": 6,
            "open": "0000"
           },
           {
            "close": "2359",
            "day": 6,
            "open": "1000"
           },
           {
            "close": "0200",
            "day": 7,
            "open": "0000"
           },
           {
            "close": "2359",
            "day": 7,
            "open": "1000"
           }
          ],
          "seasonal": []
         },
         "location": {
          "address": "44 Sparks St",
          "country": "CA",
          "cross_street": "at Elgin St",
          "formatted_address": "44 Sparks St (at Elgin St), Ottawa ON K1P 5A8",
          "locality": "Ottawa",
          "neighborhood": [
           "Rockcliffe Park"
          ],
          "postcode": "K1P 5A8",
          "region": "ON"
         },
         "name": "D'Arcy McGee's Irish Pub",
         "rating": 7.3,
         "tel": "(613) 230-4433",
         "website": "http://ottawa.darcymcgees.com/"
        },
        {
         "categories": [
          {
           "icon": {
            "prefix": "https://ss3.4sqi.net/img/categories_v2/food/cafe_",
            "suffix": ".png"
           },
           "id": 13034,
           "name": "Café"
          },
          {
           "icon": {
            "prefix": "https://ss3.4sqi.net/img/categories_v2/food/coffeeshop_",
            "suffix": ".png"
           },
           "id": 13035,
           "name": "Coffee Shop"
          },
          {
           "icon": {
            "prefix": "https://ss3.4sqi.net/img/categories_v2/food/default_",
            "suffix": ".png"
           },
           "id": 13065,
           "name": "Restaurant"
          }
         ],
         "hours": {
          "display": "Mon-Fri 6:30-19:00; Sat-Sun 8:00-18:00",
          "is_local_holiday": false,
          "open_now": false,
          "regular": [
           {
            "close": "1900",
            "day": 1,
            "open": "0630"
           },
           {
            "close": "1900",
            "day": 2,
            "open": "0630"
           },
           {
            "close": "1900",
            "day": 3,
            "open": "0630"
           },
           {
            "close": "1900",
            "day": 4,
            "open": "0630"
           },
           {
            "close": "1900",
            "day": 5,
            "open": "0630"
           },
           {
            "close": "1800",
            "day": 6,
            "open": "0800"
           },
           {
            "close": "1800",
            "day": 7,
            "open": "0800"
           }
          ],
          "seasonal": []
         },
         "location": {
          "address": "100 Sparks St",
          "country": "CA",
          "cross_street": "at Metcalfe St",
          "formatted_address": "100 Sparks St (at Metcalfe St), Ottawa ON K1P 5B7",
          "locality": "Ottawa",
          "neighborhood": [
           "Rockcliffe Park"
          ],
          "postcode": "K1P 5B7",
          "region": "ON"
         },
         "name": "Bridgehead",
         "rating": 7.3,
         "tel": "(613) 232-4936",
         "website": "http://www.bridgehead.ca"
        },
        {
         "categories": [
          {
           "icon": {
            "prefix": "https://ss3.4sqi.net/img/categories_v2/arts_entertainment/musicvenue_rockclub_",
            "suffix": ".png"
           },
           "id": 10041,
           "name": "Rock Club"
          },
          {
           "icon": {
            "prefix": "https://ss3.4sqi.net/img/categories_v2/nightlife/pub_",
            "suffix": ".png"
           },
           "id": 13003,
           "name": "Bar"
          },
          {
           "icon": {
            "prefix": "https://ss3.4sqi.net/img/categories_v2/food/diner_",
            "suffix": ".png"
           },
           "id": 13049,
           "name": "Diner"
          }
         ],
         "hours": {
          "display": "Mon 17:00-23:59; Tue-Fri 00:00-2:00, 17:00-23:59; Sat 00:00-2:00",
          "is_local_holiday": false,
          "open_now": true,
          "regular": [
           {
            "close": "2359",
            "day": 1,
            "open": "1700"
           },
           {
            "close": "0200",
            "day": 2,
            "open": "0000"
           },
           {
            "close": "2359",
            "day": 2,
            "open": "1700"
           },
           {
            "close": "0200",
            "day": 3,
            "open": "0000"
           },
           {
            "close": "2359",
            "day": 3,
            "open": "1700"
           },
           {
            "close": "0200",
            "day": 4,
            "open": "0000"
           },
           {
            "close": "2359",
            "day": 4,
            "open": "1700"
           },
           {
            "close": "0200",
            "day": 5,
            "open": "0000"
           },
           {
            "close": "2359",
            "day": 5,
            "open": "1700"
           },
           {
            "close": "0200",
            "day": 6,
            "open": "0000"
           }
          ],
          "seasonal": []
         },
         "location": {
          "address": "221 Rideau St",
          "country": "CA",
          "cross_street": "",
          "formatted_address": "221 Rideau St, Ottawa ON K1N 5X8",
          "locality": "Ottawa",
          "neighborhood": [
           "Lower Town"
          ],
          "postcode": "K1N 5X8",
          "region": "ON"
         },
         "name": "Mavericks",
         "rating": 6.7,
         "tel": "(613) 562-3941",
         "website": "http://www.mavericksbar.com"
        },
        {
         "categories": [
          {
           "icon": {
            "prefix": "https://ss3.4sqi.net/img/categories_v2/nightlife/pub_",
            "suffix": ".png"
           },
           "id": 13003,
           "name": "Bar"
          },
          {
           "icon": {
            "prefix": "https://ss3.4sqi.net/img/categories_v2/food/brewery_",
            "suffix": ".png"
           },
           "id": 13029,
           "name": "Brewery"
          },
          {
           "icon": {
            "prefix": "https://ss3.4sqi.net/img/categories_v2/food/default_",
            "suffix": ".png"
           },
           "id": 13065,
           "name": "Restaurant"
          }
         ],
         "hours": {
          "display": "Mon-Thu 00:00-1:00, 11:00-23:59; Fri-Sun 00:00-2:00, 11:00-23:59",
          "is_local_holiday": false,
          "open_now": true,
          "regular": [
           {
            "close": "0100",
            "day": 1,
            "open": "0000"
           },
           {
            "close": "2359",
            "day": 1,
            "open": "1100"
           },
           {
            "close": "0100",
            "day": 2,
            "open": "0000"
           },
           {
            "close": "2359",
            "day": 2,
            "open": "1100"
           },
           {
            "close": "0100",
            "day": 3,
            "open": "0000"
           },
           {
            "close": "2359",
            "day": 3,
            "open": "1100"
           },
           {
            "close": "0100",
            "day": 4,
            "open": "0000"
           },
           {
            "close": "2359",
            "day": 4,
            "open": "1100"
           },
           {
            "close": "0200",
            "day": 5,
            "open": "0000"
           },
           {
            "close": "2359",
            "day": 5,
            "open": "1100"
           },
           {
            "close": "0200",
            "day": 6,
            "open": "0000"
           },
           {
            "close": "2359",
            "day": 6,
            "open": "1100"
           },
           {
            "close": "0200",
            "day": 7,
            "open": "0000"
           },
           {
            "close": "2359",
            "day": 7,
            "open": "1100"
           }
          ],
          "seasonal": []
         },
         "location": {
          "address": "73 York St",
          "country": "CA",
          "cross_street": "btwn William St and Dalhousie St",
          "formatted_address": "73 York St (btwn William St and Dalhousie St), Ottawa ON K1N 5T2",
          "locality": "Ottawa",
          "neighborhood": [
           "Lower Town"
          ],
          "postcode": "K1N 5T2",
          "region": "ON"
         },
         "name": "Lowertown Brewery",
         "rating": 6.3,
         "tel": "(613) 722-1454",
         "website": "http://www.lowertownbrewery.ca/"
        },
        {
         "categories": [
          {
           "icon": {
            "prefix": "https://ss3.4sqi.net/img/categories_v2/food/cafe_",
            "suffix": ".png"
           },
           "id": 13034,
           "name": "Café"
          },
          {
           "icon": {
            "prefix": "https://ss3.4sqi.net/img/categories_v2/food/default_",
            "suffix": ".png"
           },
           "id": 13065,
           "name": "Restaurant"
          }
         ],
         "hours": {
          "display": "Mon-Fri 7:00-19:00; Sat-Sun 7:00-18:00",
          "is_local_holiday": false,
          "open_now": false,
          "regular": [
           {
            "close": "1900",
            "day": 1,
            "open": "0700"
           },
           {
            "close": "1900",
            "day": 2,
            "open": "0700"
           },
           {
            "close": "1900",
            "day": 3,
            "open": "0700"
           },
           {
            "close": "1900",
            "day": 4,
            "open": "0700"
           },
           {
            "close": "1900",
            "day": 5,
            "open": "0700"
           },
           {
            "close": "1800",
            "day": 6,
            "open": "0700"
           },
           {
            "close": "1800",
            "day": 7,
            "open": "0700"
           }
          ],
          "seasonal": []
         },
         "location": {
          "address": "30 Metcalfe St",
          "country": "CA",
          "cross_street": "",
          "formatted_address": "30 Metcalfe St, Ottawa ON K1P 5L4",
          "locality": "Ottawa",
          "neighborhood": [
           "Parliament Hill"
          ],
          "postcode": "K1P 5L4",
          "region": "ON"
         },
         "name": "Le Moulin de Provence K.D",
         "rating": 6.9,
         "tel": "(613) 695-2253",
         "website": "http://moulindeprovencekd.ca"
        },
        {
         "categories": [
          {
           "icon": {
            "prefix": "https://ss3.4sqi.net/img/categories_v2/nightlife/pub_",
            "suffix": ".png"
           },
           "id": 13003,
           "name": "Bar"
          },
          {
           "icon": {
            "prefix": "https://ss3.4sqi.net/img/categories_v2/food/default_",
            "suffix": ".png"
           },
           "id": 13065,
           "name": "Restaurant"
          }
         ],
         "hours": {
          "display": "Open Daily 00:00-2:00, 16:00-23:59",
          "is_local_holiday": false,
          "open_now": true,
          "regular": [
           {
            "close": "0200",
            "day": 1,
            "open": "0000"
           },
           {
            "close": "2359",
            "day": 1,
            "open": "1600"
           },
           {
            "close": "0200",
            "day": 2,
            "open": "0000"
           },
           {
            "close": "2359",
            "day": 2,
            "open": "1600"
           },
           {
            "close": "0200",
            "day": 3,
            "open": "0000"
           },
           {
            "close": "2359",
            "day": 3,
            "open": "1600"
           },
           {
            "close": "0200",
            "day": 4,
            "open": "0000"
           },
           {
            "close": "2359",
            "day": 4,
            "open": "1600"
           },
           {
            "close": "0200",
            "day": 5,
            "open": "0000"
           },
           {
            "close": "2359",
            "day": 5,
            "open": "1600"
           },
           {
            "close": "0200",
            "day": 6,
            "open": "0000"
           },
           {
            "close": "2359",
            "day": 6,
            "open": "1600"
           },
           {
            "close": "0200",
            "day": 7,
            "open": "0000"
           },
           {
            "close": "2359",
            "day": 7,
            "open": "1600"
           }
          ],
          "seasonal": []
         },
         "location": {
          "address": "335 Laurier Ave E",
          "country": "CA",
          "cross_street": "Laurier",
          "formatted_address": "335 Laurier Ave E (Laurier), Ottawa ON K1N 6R4",
          "locality": "Ottawa",
          "neighborhood": [
           "Lower Town"
          ],
          "postcode": "K1N 6R4",
          "region": "ON"
         },
         "name": "Laurier Social House",
         "rating": 6.8,
         "tel": "(613) 680-3999",
         "website": "http://www.lauriersocial-house.com/"
        },
        {
         "categories": [
          {
           "icon": {
            "prefix": "https://ss3.4sqi.net/img/categories_v2/food/pizza_",
            "suffix": ".png"
           },
           "id": 13064,
           "name": "Pizzeria"
          },
          {
           "icon": {
            "prefix": "https://ss3.4sqi.net/img/categories_v2/food/italian_",
            "suffix": ".png"
           },
           "id": 13236,
           "name": "Italian Restaurant"
          }
         ],
         "hours": {
          "display": "Mon-Thu 11:00-23:59; Fri-Sun 00:00-1:00, 11:00-23:59",
          "is_local_holiday": false,
          "open_now": true,
          "regular": [
           {
            "close": "2359",
            "day": 1,
            "open": "1100"
           },
           {
            "close": "2359",
            "day": 2,
            "open": "1100"
           },
           {
            "close": "2359",
            "day": 3,
            "open": "1100"
           },
           {
            "close": "2359",
            "day": 4,
            "open": "1100"
           },
           {
            "close": "0100",
            "day": 5,
            "open": "0000"
           },
           {
            "close": "2359",
            "day": 5,
            "open": "1100"
           },
           {
            "close": "0100",
            "day": 6,
            "open": "0000"
           },
           {
            "close": "2359",
            "day": 6,
            "open": "1100"
           },
           {
            "close": "0100",
            "day": 7,
            "open": "0000"
           },
           {
            "close": "2359",
            "day": 7,
            "open": "1100"
           }
          ],
          "seasonal": []
         },
         "location": {
          "address": "74 George St",
          "country": "CA",
          "cross_street": "at William St",
          "formatted_address": "74 George St (at William St), Ottawa ON K1N 5W1",
          "locality": "Ottawa",
          "neighborhood": [
           "Byward Market - Parliament Hill"
          ],
          "postcode": "K1N 5W1",
          "region": "ON"
         },
         "name": "The Grand Pizzeria & Bar",
         "rating": 6.4,
         "tel": "(613) 244-9995",
         "website": "http://www.thegrandpizzeria.com"
        },
        {
         "categories": [
          {
           "icon": {
            "prefix": "https://ss3.4sqi.net/img/categories_v2/nightlife/pub_",
            "suffix": ".png"
           },
           "id": 13018,
           "name": "Pub"
          },
          {
           "icon": {
            "prefix": "https://ss3.4sqi.net/img/categories_v2/food/default_",
            "suffix": ".png"
           },
           "id": 13068,
           "name": "American Restaurant"
          }
         ],
         "hours": {
          "display": "Open Daily 00:00-1:00, 11:30-23:59",
          "is_local_holiday": false,
          "open_now": true,
          "regular": [
           {
            "close": "0100",
            "day": 1,
            "open": "0000"
           },
           {
            "close": "2359",
            "day": 1,
            "open": "1130"
           },
           {
            "close": "0100",
            "day": 2,
            "open": "0000"
           },
           {
            "close": "2359",
            "day": 2,
            "open": "1130"
           },
           {
            "close": "0100",
            "day": 3,
            "open": "0000"
           },
           {
            "close": "2359",
            "day": 3,
            "open": "1130"
           },
           {
            "close": "0100",
            "day": 4,
            "open": "0000"
           },
           {
            "close": "2359",
            "day": 4,
            "open": "1130"
           },
           {
            "close": "0100",
            "day": 5,
            "open": "0000"
           },
           {
            "close": "2359",
            "day": 5,
            "open": "1130"
           },
           {
            "close": "0100",
            "day": 6,
            "open": "0000"
           },
           {
            "close": "2359",
            "day": 6,
            "open": "1130"
           },
           {
            "close": "0100",
            "day": 7,
            "open": "0000"
           },
           {
            "close": "2359",
            "day": 7,
            "open": "1130"
           }
          ],
          "seasonal": []
         },
         "location": {
          "address": "101 York St",
          "country": "CA",
          "cross_street": "Dalhousie St",
          "formatted_address": "101 York St (Dalhousie St), Ottawa ON K1N 5T4",
          "locality": "Ottawa",
          "neighborhood": [
           "Byward market"
          ],
          "postcode": "K1N 5T4",
          "region": "ON"
         },
         "name": "Pub 101",
         "rating": 6.1,
         "tel": "(613) 789-3515",
         "website": "http://pub101.com"
        },
        {
         "categories": [
          {
           "icon": {
            "prefix": "https://ss3.4sqi.net/img/categories_v2/nightlife/pub_",
            "suffix": ".png"
           },
           "id": 13003,
           "name": "Bar"
          },
          {
           "icon": {
            "prefix": "https://ss3.4sqi.net/img/categories_v2/food/diner_",
            "suffix": ".png"
           },
           "id": 13049,
           "name": "Diner"
          }
         ],
         "hours": {
          "display": "Mon-Tue 11:30-23:59; Wed 11:30-12:00; Thu-Fri 11:30-23:59; Sat 00:00-1:00, 11:30-23:59; Sun 00:00-1:00, 11:00-23:59",
          "is_local_holiday": false,
          "open_now": true,
          "regular": [
           {
            "close": "2359",
            "day": 1,
            "open": "1130"
           },
           {
            "close": "2359",
            "day": 2,
            "open": "1130"
           },
           {
            "close": "1200",
            "day": 3,
            "open": "1130"
           },
           {
            "close": "2359",
            "day": 4,
            "open": "1130"
           },
           {
            "close": "2359",
            "day": 5,
            "open": "1130"
           },
           {
            "close": "0100",
            "day": 6,
            "open": "0000"
           },
           {
            "close": "2359",
            "day": 6,
            "open": "1130"
           },
           {
            "close": "0100",
            "day": 7,
            "open": "0000"
           },
           {
            "close": "2359",
            "day": 7,
            "open": "1100"
           }
          ],
          "seasonal": []
         },
         "location": {
          "address": "431 Sussex Dr",
          "country": "CA",
          "cross_street": "at Murray St",
          "formatted_address": "431 Sussex Dr (at Murray St), Ottawa ON K1N 9M6",
          "locality": "Ottawa",
          "neighborhood": [
           "Byward market"
          ],
          "postcode": "K1N 9M6",
          "region": "ON"
         },
         "name": "Earl of Sussex Pub",
         "rating": 6.3,
         "tel": "(613) 562-5544",
         "website": "http://www.earlofsussex.ca"
        },
        {
         "categories": [
          {
           "icon": {
            "prefix": "https://ss3.4sqi.net/img/categories_v2/nightlife/pub_",
            "suffix": ".png"
           },
           "id": 13003,
           "name": "Bar"
          },
          {
           "icon": {
            "prefix": "https://ss3.4sqi.net/img/categories_v2/food/diner_",
            "suffix": ".png"
           },
           "id": 13049,
           "name": "Diner"
          },
          {
           "icon": {
            "prefix": "https://ss3.4sqi.net/img/categories_v2/food/cajun_",
            "suffix": ".png"
           },
           "id": 13095,
           "name": "Cajun / Creole Restaurant"
          }
         ],
         "hours": {
          "display": "Mon-Wed 11:00-22:00; Thu 11:00-23:00; Fri 11:00-23:59; Sat 00:00-2:00, 11:00-23:59; Sun 00:00-2:00, 11:00-22:00",
          "is_local_holiday": false,
          "open_now": true,
          "regular": [
           {
            "close": "2200",
            "day": 1,
            "open": "1100"
           },
           {
            "close": "2200",
            "day": 2,
            "open": "1100"
           },
           {
            "close": "2200",
            "day": 3,
            "open": "1100"
           },
           {
            "close": "2300",
            "day": 4,
            "open": "1100"
           },
           {
            "close": "2359",
            "day": 5,
            "open": "1100"
           },
           {
            "close": "0200",
            "day": 6,
            "open": "0000"
           },
           {
            "close": "2359",
            "day": 6,
            "open": "1100"
           },
           {
            "close": "0200",
            "day": 7,
            "open": "0000"
           },
           {
            "close": "2200",
            "day": 7,
            "open": "1100"
           }
          ],
          "seasonal": []
         },
         "location": {
          "address": "2 by Ward Market Sq",
          "country": "CA",
          "cross_street": "at Clarence St",
          "formatted_address": "2 by Ward Market Sq (at Clarence St), Ottawa ON K1N 7A1",
          "locality": "Ottawa",
          "neighborhood": [
           "Byward Market - Parliament Hill"
          ],
          "postcode": "K1N 7A1",
          "region": "ON"
         },
         "name": "Blue Cactus",
         "rating": 6.1,
         "tel": "(613) 241-7061",
         "website": "http://www.bluecactusbarandgrill.com"
        },
        {
         "categories": [
          {
           "icon": {
            "prefix": "https://ss3.4sqi.net/img/categories_v2/food/asian_",
            "suffix": ".png"
           },
           "id": 13072,
           "name": "Asian Restaurant"
          },
          {
           "icon": {
            "prefix": "https://ss3.4sqi.net/img/categories_v2/food/sushi_",
            "suffix": ".png"
           },
           "id": 13276,
           "name": "Sushi Restaurant"
          }
         ],
         "hours": {
          "display": "Mon-Sat 11:00-22:00; Sun 11:00-21:30",
          "is_local_holiday": false,
          "open_now": false,
          "regular": [
           {
            "close": "2200",
            "day": 1,
            "open": "1100"
           },
           {
            "close": "2200",
            "day": 2,
            "open": "1100"
           },
           {
            "close": "2200",
            "day": 3,
            "open": "1100"
           },
           {
            "close": "2200",
            "day": 4,
            "open": "1100"
           },
           {
            "close": "2200",
            "day": 5,
            "open": "1100"
           },
           {
            "close": "2200",
            "day": 6,
            "open": "1100"
           },
           {
            "close": "2130",
            "day": 7,
            "open": "1100"
           }
          ],
          "seasonal": []
         },
         "location": {
          "address": "272 Dalhousie St",
          "country": "CA",
          "cross_street": "Murray St",
          "formatted_address": "272 Dalhousie St (Murray St), Ottawa ON K1N 7E6",
          "locality": "Ottawa",
          "neighborhood": [
           "Byward market"
          ],
          "postcode": "K1N 7E6",
          "region": "ON"
         },
         "name": "Hokkaido Sushi",
         "rating": 5.7,
         "tel": "(613) 860-9898",
         "website": "http://www.hokkaidosushiottawa.ca"
        },
        {
         "categories": [
          {
           "icon": {
            "prefix": "https://ss3.4sqi.net/img/categories_v2/food/bbqalt_",
            "suffix": ".png"
           },
           "id": 13026,
           "name": "BBQ Joint"
          }
         ],
         "hours": {
          "display": "Open Daily 00:00-2:00, 11:00-23:59",
          "is_local_holiday": false,
          "open_now": true,
          "regular": [
           {
            "close": "0200",
            "day": 1,
            "open": "0000"
           },
           {
            "close": "2359",
            "day": 1,
            "open": "1100"
           },
           {
            "close": "0200",
            "day": 2,
            "open": "0000"
           },
           {
            "close": "2359",
            "day": 2,
            "open": "1100"
           },
           {
            "close": "0200",
            "day": 3,
            "open": "0000"
           },
           {
            "close": "2359",
            "day": 3,
            "open": "1100"
           },
           {
            "close": "0200",
            "day": 4,
            "open": "0000"
           },
           {
            "close": "2359",
            "day": 4,
            "open": "1100"
           },
           {
            "close": "0200",
            "day": 5,
            "open": "0000"
           },
           {
            "close": "2359",
            "day": 5,
            "open": "1100"
           },
           {
            "close": "0200",
            "day": 6,
            "open": "0000"
           },
           {
            "close": "2359",
            "day": 6,
            "open": "1100"
           },
           {
            "close": "0200",
            "day": 7,
            "open": "0000"
           },
           {
            "close": "2359",
            "day": 7,
            "open": "1100"
           }
          ],
          "seasonal": []
         },
         "location": {
          "address": "92 Clarence St",
          "country": "CA",
          "cross_street": "",
          "formatted_address": "92 Clarence St, Ottawa ON K1N 5P6",
          "locality": "Ottawa",
          "neighborhood": [
           "Byward market"
          ],
          "postcode": "K1N 5P6",
          "region": "ON"
         },
         "name": "The Cornerstone Bar & Grill",
         "rating": 5.8,
         "tel": "(613) 241-6835",
         "website": "http://www.cornerstonebarandgrill.ca"
        },
        {
         "categories": [
          {
           "icon": {
            "prefix": "https://ss3.4sqi.net/img/categories_v2/food/japanese_",
            "suffix": ".png"
           },
           "id": 13263,
           "name": "Japanese Restaurant"
          }
         ],
         "hours": {
          "display": "Open Daily 11:30-21:00",
          "is_local_holiday": false,
          "open_now": false,
          "regular": [
           {
            "close": "2100",
            "day": 1,
            "open": "1130"
           },
           {
            "close": "2100",
            "day": 2,
            "open": "1130"
           },
           {
            "close": "2100",
            "day": 3,
            "open": "1130"
           },
           {
            "close": "2100",
            "day": 4,
            "open": "1130"
           },
           {
            "close": "2100",
            "day": 5,
            "open": "1130"
           },
           {
            "close": "2100",
            "day": 6,
            "open": "1130"
           },
           {
            "close": "2100",
            "day": 7,
            "open": "1130"
           }
          ],
          "seasonal": []
         },
         "location": {
          "address": "95 York St",
          "country": "CA",
          "cross_street": "",
          "formatted_address": "95 York St, Ottawa ON K1N 5T2",
          "locality": "Ottawa",
          "neighborhood": [
           "Lower Town"
          ],
          "postcode": "K1N 5T2",
          "region": "ON"
         },
         "name": "Gyubee Japanese Grill",
         "tel": "(613) 367-5065",
         "website": "http://www.gyubeejapanesegrill.com"
        },
        {
         "categories": [
          {
           "icon": {
            "prefix": "https://ss3.4sqi.net/img/categories_v2/food/default_",
            "suffix": ".png"
           },
           "id": 13065,
           "name": "Restaurant"
          }
         ],
         "hours": {
          "display": "Mon-Thu 6:30-10:30, 17:00-22:00; Fri 6:30-10:30, 17:00-23:00; Sat 6:30-10:30, 16:00-23:00; Sun 6:30-10:30, 16:00-22:00",
          "is_local_holiday": false,
          "open_now": true,
          "regular": [
           {
            "close": "1030",
            "day": 1,
            "open": "0630"
           },
           {
            "close": "2200",
            "day": 1,
            "open": "1700"
           },
           {
            "close": "1030",
            "day": 2,
            "open": "0630"
           },
           {
            "close": "2200",
            "day": 2,
            "open": "1700"
           },
           {
            "close": "1030",
            "day": 3,
            "open": "0630"
           },
           {
            "close": "2200",
            "day": 3,
            "open": "1700"
           },
           {
            "close": "1030",
            "day": 4,
            "open": "0630"
           },
           {
            "close": "2200",
            "day": 4,
            "open": "1700"
           },
           {
            "close": "1030",
            "day": 5,
            "open": "0630"
           },
           {
            "close": "2300",
            "day": 5,
            "open": "1700"
           },
           {
            "close": "1030",
            "day": 6,
            "open": "0630"
           },
           {
            "close": "2300",
            "day": 6,
            "open": "1600"
           },
           {
            "close": "1030",
            "day": 7,
            "open": "0630"
           },
           {
            "close": "2200",
            "day": 7,
            "open": "1600"
           }
          ],
          "seasonal": []
         },
         "location": {
          "address": "325 Dalhousie St",
          "country": "CA",
          "cross_street": "",
          "formatted_address": "325 Dalhousie St, Ottawa ON K1N 7G2",
          "locality": "Ottawa",
          "neighborhood": [
           "Lower Town"
          ],
          "postcode": "K1N 7G2",
          "region": "ON"
         },
         "name": "Feast + Revel",
         "tel": "(613) 321-1234",
         "website": "https://ottawa.andaz.hyatt.com/en/hotel/dining/feast-and-revel.html"
        },
        {
         "categories": [
          {
           "icon": {
            "prefix": "https://ss3.4sqi.net/img/categories_v2/food/thai_",
            "suffix": ".png"
           },
           "id": 13352,
           "name": "Thai Restaurant"
          }
         ],
         "hours": {
          "display": "Open Daily 00:00-2:00, 11:00-23:59",
          "is_local_holiday": false,
          "open_now": true,
          "regular": [
           {
            "close": "0200",
            "day": 1,
            "open": "0000"
           },
           {
            "close": "2359",
            "day": 1,
            "open": "1100"
           },
           {
            "close": "0200",
            "day": 2,
            "open": "0000"
           },
           {
            "close": "2359",
            "day": 2,
            "open": "1100"
           },
           {
            "close": "0200",
            "day": 3,
            "open": "0000"
           },
           {
            "close": "2359",
            "day": 3,
            "open": "1100"
           },
           {
            "close": "0200",
            "day": 4,
            "open": "0000"
           },
           {
            "close": "2359",
            "day": 4,
            "open": "1100"
           },
           {
            "close": "0200",
            "day": 5,
            "open": "0000"
           },
           {
            "close": "2359",
            "day": 5,
            "open": "1100"
           },
           {
            "close": "0200",
            "day": 6,
            "open": "0000"
           },
           {
            "close": "2359",
            "day": 6,
            "open": "1100"
           },
           {
            "close": "0200",
            "day": 7,
            "open": "0000"
           },
           {
            "close": "2359",
            "day": 7,
            "open": "1100"
           }
          ],
          "seasonal": [
           {
            "closed": false,
            "hours": [
             {
              "close": "+0000",
              "day": 1,
              "open": "1100"
             }
            ]
           }
          ]
         },
         "location": {
          "address": "265 Laurier Ave E",
          "country": "CA",
          "cross_street": "",
          "formatted_address": "265 Laurier Ave E, Ottawa ON K1N 0E1",
          "locality": "Ottawa",
          "postcode": "K1N 0E1",
          "region": "ON"
         },
         "name": "Thai Express",
         "rating": 6.3,
         "tel": "(613) 233-2119",
         "website": "https://thaiexpress.ca/locations/"
        },
        {
         "categories": [
          {
           "icon": {
            "prefix": "https://ss3.4sqi.net/img/categories_v2/food/default_",
            "suffix": ".png"
           },
           "id": 13032,
           "name": "Cafes, Coffee, and Tea Houses"
          },
          {
           "icon": {
            "prefix": "https://ss3.4sqi.net/img/categories_v2/food/default_",
            "suffix": ".png"
           },
           "id": 13065,
           "name": "Restaurant"
          }
         ],
         "hours": {
          "display": "Mon-Fri 6:00-18:00",
          "is_local_holiday": false,
          "open_now": false,
          "regular": [
           {
            "close": "1800",
            "day": 1,
            "open": "0600"
           },
           {
            "close": "1800",
            "day": 2,
            "open": "0600"
           },
           {
            "close": "1800",
            "day": 3,
            "open": "0600"
           },
           {
            "close": "1800",
            "day": 4,
            "open": "0600"
           },
           {
            "close": "1800",
            "day": 5,
            "open": "0600"
           }
          ],
          "seasonal": []
         },
         "location": {
          "address": "90 Elgin St",
          "address_extended": "Unit 2",
          "country": "CA",
          "cross_street": "at Albert St",
          "formatted_address": "90 Elgin St (at Albert St), Ottawa ON K1P 0C6",
          "locality": "Ottawa",
          "neighborhood": [
           "Parliament Hill"
          ],
          "postcode": "K1P 0C6",
          "region": "ON"
         },
         "name": "Tim Hortons",
         "rating": 6.3,
         "tel": "(613) 238-6444",
         "website": "http://www.timhortons.com/"
        },
        {
         "categories": [
          {
           "icon": {
            "prefix": "https://ss3.4sqi.net/img/categories_v2/food/deli_",
            "suffix": ".png"
           },
           "id": 13039,
           "name": "Deli"
          },
          {
           "icon": {
            "prefix": "https://ss3.4sqi.net/img/categories_v2/food/diner_",
            "suffix": ".png"
           },
           "id": 13049,
           "name": "Diner"
          },
          {
           "icon": {
            "prefix": "https://ss3.4sqi.net/img/categories_v2/food/fastfood_",
            "suffix": ".png"
           },
           "id": 13145,
           "name": "Fast Food Restaurant"
          }
         ],
         "hours": {
          "display": "Open Daily 00:00-23:59",
          "is_local_holiday": false,
          "open_now": true,
          "regular": [
           {
            "close": "2359",
            "day": 1,
            "open": "0000"
           },
           {
            "close": "2359",
            "day": 2,
            "open": "0000"
           },
           {
            "close": "2359",
            "day": 3,
            "open": "0000"
           },
           {
            "close": "2359",
            "day": 4,
            "open": "0000"
           },
           {
            "close": "2359",
            "day": 5,
            "open": "0000"
           },
           {
            "close": "2359",
            "day": 6,
            "open": "0000"
           },
           {
            "close": "2359",
            "day": 7,
            "open": "0000"
           }
          ],
          "seasonal": []
         },
         "location": {
          "address": "355 Dalhousie St",
          "country": "CA",
          "cross_street": "at George St",
          "formatted_address": "355 Dalhousie St (at George St), Ottawa ON K1N 7G1",
          "locality": "Ottawa",
          "neighborhood": [
           "Byward market"
          ],
          "postcode": "K1N 7G1",
          "region": "ON"
         },
         "name": "Dunn's Famous Deli",
         "rating": 5.6,
         "tel": "(613) 562-4966",
         "website": "http://www.dunnsfamous.com/"
        },
        {
         "categories": [
          {
           "icon": {
            "prefix": "https://ss3.4sqi.net/img/categories_v2/food/ramen_",
            "suffix": ".png"
           },
           "id": 13315,
           "name": "Noodle Restaurant"
          }
         ],
         "hours": {
          "display": "Open Daily 11:30-20:00",
          "is_local_holiday": false,
          "open_now": false,
          "regular": [
           {
            "close": "2000",
            "day": 1,
            "open": "1130"
           },
           {
            "close": "2000",
            "day": 2,
            "open": "1130"
           },
           {
            "close": "2000",
            "day": 3,
            "open": "1130"
           },
           {
            "close": "2000",
            "day": 4,
            "open": "1130"
           },
           {
            "close": "2000",
            "day": 5,
            "open": "1130"
           },
           {
            "close": "2000",
            "day": 6,
            "open": "1130"
           },
           {
            "close": "2000",
            "day": 7,
            "open": "1130"
           }
          ],
          "seasonal": []
         },
         "location": {
          "address": "43 William St",
          "country": "CA",
          "cross_street": "",
          "formatted_address": "43 William St, Ottawa ON K1N 6Z9",
          "locality": "Ottawa",
          "neighborhood": [
           "Byward Market-Parliament Hill"
          ],
          "postcode": "K1N 6Z9",
          "region": "ON"
         },
         "name": "Le Mien 樂面"
        }
       ]
      },
      "text/plain": [
       "<IPython.core.display.JSON object>"
      ]
     },
     "execution_count": 21,
     "metadata": {
      "application/json": {
       "expanded": false,
       "root": "root"
      }
     },
     "output_type": "execute_result"
    }
   ],
   "source": [
    "# Using JSON IPython.display to take a clearer look at nested Json Data \n",
    "JSON(FSQ_Data_Json)"
   ]
  },
  {
   "cell_type": "markdown",
   "metadata": {},
   "source": [
    "Put your parsed results into a DataFrame"
   ]
  },
  {
   "cell_type": "code",
   "execution_count": 22,
   "metadata": {},
   "outputs": [
    {
     "data": {
      "text/html": [
       "<div>\n",
       "<style scoped>\n",
       "    .dataframe tbody tr th:only-of-type {\n",
       "        vertical-align: middle;\n",
       "    }\n",
       "\n",
       "    .dataframe tbody tr th {\n",
       "        vertical-align: top;\n",
       "    }\n",
       "\n",
       "    .dataframe thead th {\n",
       "        text-align: right;\n",
       "    }\n",
       "</style>\n",
       "<table border=\"1\" class=\"dataframe\">\n",
       "  <thead>\n",
       "    <tr style=\"text-align: right;\">\n",
       "      <th></th>\n",
       "      <th>Name</th>\n",
       "      <th>rating</th>\n",
       "      <th>Hours</th>\n",
       "      <th>Address</th>\n",
       "      <th>Phone_number</th>\n",
       "      <th>website</th>\n",
       "    </tr>\n",
       "  </thead>\n",
       "  <tbody>\n",
       "    <tr>\n",
       "      <th>0</th>\n",
       "      <td>Chez Lucien</td>\n",
       "      <td>8.7</td>\n",
       "      <td>Open Daily 00:00-2:00, 11:00-23:59</td>\n",
       "      <td>137 Murray St</td>\n",
       "      <td>(613) 241-3533</td>\n",
       "      <td>http://chezlucien.ca</td>\n",
       "    </tr>\n",
       "    <tr>\n",
       "      <th>1</th>\n",
       "      <td>El Camino</td>\n",
       "      <td>8.7</td>\n",
       "      <td>Mon-Wed 16:00-23:59; Thu-Sun 12:00-23:59</td>\n",
       "      <td>81 Clarence St</td>\n",
       "      <td>(613) 422-5918</td>\n",
       "      <td>http://eatelcamino.com</td>\n",
       "    </tr>\n",
       "    <tr>\n",
       "      <th>2</th>\n",
       "      <td>The Keg Steakhouse + Bar</td>\n",
       "      <td>8.4</td>\n",
       "      <td>Open Daily 12:00-23:59</td>\n",
       "      <td>75 York St</td>\n",
       "      <td>(613) 241-8514</td>\n",
       "      <td>https://www.kegsteakhouse.com/</td>\n",
       "    </tr>\n",
       "    <tr>\n",
       "      <th>3</th>\n",
       "      <td>Bite Burger House</td>\n",
       "      <td>8.4</td>\n",
       "      <td>Mon-Fri 11:30-23:59; Sat-Sun 00:00-1:00, 11:30...</td>\n",
       "      <td>108 Murray St</td>\n",
       "      <td>(613) 562-2483</td>\n",
       "      <td>http://www.biteburgerhouse.com</td>\n",
       "    </tr>\n",
       "    <tr>\n",
       "      <th>4</th>\n",
       "      <td>BeaverTails Canada Inc</td>\n",
       "      <td>8.8</td>\n",
       "      <td>Mon-Wed 10:00-22:00; Thu 10:00-23:00; Fri-Sat ...</td>\n",
       "      <td>69 George St</td>\n",
       "      <td>(613) 241-1230</td>\n",
       "      <td>http://www.beavertailsinc.com/</td>\n",
       "    </tr>\n",
       "    <tr>\n",
       "      <th>5</th>\n",
       "      <td>Ahora Mexican Cuisine</td>\n",
       "      <td>8.0</td>\n",
       "      <td>Open Daily 11:30-22:00</td>\n",
       "      <td>307 Dalhousie St</td>\n",
       "      <td>(613) 562-2081</td>\n",
       "      <td>http://www.ahora.ca/</td>\n",
       "    </tr>\n",
       "    <tr>\n",
       "      <th>6</th>\n",
       "      <td>Corazon de Maiz</td>\n",
       "      <td>8.5</td>\n",
       "      <td>Open Daily 11:00-18:00</td>\n",
       "      <td>55 by Ward Market Sq</td>\n",
       "      <td>(613) 244-1661</td>\n",
       "      <td>http://www.corazondemaizottawa.com</td>\n",
       "    </tr>\n",
       "    <tr>\n",
       "      <th>7</th>\n",
       "      <td>Fiazza Fresh Fired</td>\n",
       "      <td>8.2</td>\n",
       "      <td>Mon-Thu 11:00-21:00; Fri-Sat 11:00-22:00; Sun ...</td>\n",
       "      <td>86 Murray St</td>\n",
       "      <td>(613) 562-2000</td>\n",
       "      <td>http://www.fiazza.ca</td>\n",
       "    </tr>\n",
       "    <tr>\n",
       "      <th>8</th>\n",
       "      <td>E18hteen</td>\n",
       "      <td>8.6</td>\n",
       "      <td>Open Daily 17:00-22:30</td>\n",
       "      <td>18 York St</td>\n",
       "      <td>(613) 244-1188</td>\n",
       "      <td>http://www.restaurant18.com</td>\n",
       "    </tr>\n",
       "    <tr>\n",
       "      <th>9</th>\n",
       "      <td>JOEY Rideau</td>\n",
       "      <td>8.6</td>\n",
       "      <td>Mon-Fri 11:00-23:59; Sat-Sun 00:00-1:00, 11:00...</td>\n",
       "      <td>50 Rideau St</td>\n",
       "      <td>(613) 680-5639</td>\n",
       "      <td>https://joeyrestaurants.com/location/joey-ride...</td>\n",
       "    </tr>\n",
       "    <tr>\n",
       "      <th>10</th>\n",
       "      <td>Play Food &amp; Wine</td>\n",
       "      <td>8.6</td>\n",
       "      <td>Mon 12:00-14:00, 17:30-22:00; Tue-Thu 12:00-14...</td>\n",
       "      <td>1 York St</td>\n",
       "      <td>(613) 667-9207</td>\n",
       "      <td>http://www.playfood.ca</td>\n",
       "    </tr>\n",
       "    <tr>\n",
       "      <th>11</th>\n",
       "      <td>Chateau Lafayette</td>\n",
       "      <td>8.1</td>\n",
       "      <td>Open Daily 00:00-2:00, 11:00-23:59</td>\n",
       "      <td>42 York St</td>\n",
       "      <td>(613) 241-4747</td>\n",
       "      <td>http://www.thelaff.ca</td>\n",
       "    </tr>\n",
       "    <tr>\n",
       "      <th>12</th>\n",
       "      <td>Zak's Diner</td>\n",
       "      <td>8.0</td>\n",
       "      <td>Open Daily 00:00-23:59</td>\n",
       "      <td>16 by Ward Market Sq</td>\n",
       "      <td>(613) 241-2401</td>\n",
       "      <td>http://www.zaksdiner.com/</td>\n",
       "    </tr>\n",
       "    <tr>\n",
       "      <th>13</th>\n",
       "      <td>Bridgehead</td>\n",
       "      <td>8.1</td>\n",
       "      <td>Mon-Sat 7:00-20:00; Sun 8:00-18:00</td>\n",
       "      <td>50 Rideau St</td>\n",
       "      <td>(613) 789-1676</td>\n",
       "      <td>NaN</td>\n",
       "    </tr>\n",
       "    <tr>\n",
       "      <th>14</th>\n",
       "      <td>The Lookout Bar &amp; Bistro</td>\n",
       "      <td>7.8</td>\n",
       "      <td>Mon 14:00-23:59; Tue-Sat 00:00-2:00, 14:00-23:...</td>\n",
       "      <td>41 York St</td>\n",
       "      <td>(613) 789-1624</td>\n",
       "      <td>http://www.thelookoutbar.com</td>\n",
       "    </tr>\n",
       "    <tr>\n",
       "      <th>15</th>\n",
       "      <td>The King Eddy</td>\n",
       "      <td>7.7</td>\n",
       "      <td>Mon 8:00-23:59; Tue-Thu 00:00-1:00, 8:00-23:59...</td>\n",
       "      <td>45 Clarence St</td>\n",
       "      <td>(613) 680-1700</td>\n",
       "      <td>http://www.kingeddyburgers.com</td>\n",
       "    </tr>\n",
       "    <tr>\n",
       "      <th>16</th>\n",
       "      <td>Heart &amp; Crown</td>\n",
       "      <td>7.7</td>\n",
       "      <td>Mon-Fri 00:00-2:00, 11:00-23:59; Sat-Sun 00:00...</td>\n",
       "      <td>67 Clarence St</td>\n",
       "      <td>(613) 562-0674</td>\n",
       "      <td>http://www.heartandcrown.ca</td>\n",
       "    </tr>\n",
       "    <tr>\n",
       "      <th>17</th>\n",
       "      <td>Luxe Bistro</td>\n",
       "      <td>7.7</td>\n",
       "      <td>Mon-Fri 00:00-1:00, 11:00-23:59; Sat-Sun 00:00...</td>\n",
       "      <td>47 York St</td>\n",
       "      <td>(613) 241-8805</td>\n",
       "      <td>http://www.luxebistro.com</td>\n",
       "    </tr>\n",
       "    <tr>\n",
       "      <th>18</th>\n",
       "      <td>Riviera</td>\n",
       "      <td>8.6</td>\n",
       "      <td>Mon-Wed 11:30-22:00; Thu-Fri 11:30-23:00; Sat ...</td>\n",
       "      <td>62 Sparks St</td>\n",
       "      <td>(613) 233-6262</td>\n",
       "      <td>http://www.dineriviera.com</td>\n",
       "    </tr>\n",
       "    <tr>\n",
       "      <th>19</th>\n",
       "      <td>The Shore Club</td>\n",
       "      <td>8.1</td>\n",
       "      <td>Mon-Fri 00:00-1:00, 11:30-23:59; Sat 00:00-1:0...</td>\n",
       "      <td>11 Colonel by Dr</td>\n",
       "      <td>(613) 569-5050</td>\n",
       "      <td>http://www.theshoreclub.ca</td>\n",
       "    </tr>\n",
       "    <tr>\n",
       "      <th>20</th>\n",
       "      <td>Freshii</td>\n",
       "      <td>8.3</td>\n",
       "      <td>Mon-Thu 10:00-20:00; Fri 10:00-18:00; Sat 11:0...</td>\n",
       "      <td>50 Laurier Ave E</td>\n",
       "      <td>(613) 695-5600</td>\n",
       "      <td>https://www.freshii.com/</td>\n",
       "    </tr>\n",
       "    <tr>\n",
       "      <th>21</th>\n",
       "      <td>Aulde Dubliner &amp; Pour House</td>\n",
       "      <td>7.6</td>\n",
       "      <td>Mon-Fri 00:00-2:00, 11:00-23:59; Sat-Sun 00:00...</td>\n",
       "      <td>62 William St</td>\n",
       "      <td>(613) 241-0066</td>\n",
       "      <td>http://www.auldedubliner.com/dubliner.aspx</td>\n",
       "    </tr>\n",
       "    <tr>\n",
       "      <th>22</th>\n",
       "      <td>Zoe's Lounge</td>\n",
       "      <td>7.9</td>\n",
       "      <td>Mon-Fri 14:00-23:59; Sat-Sun 00:00-1:00, 12:00...</td>\n",
       "      <td>1 Rideau St</td>\n",
       "      <td>(613) 241-1414</td>\n",
       "      <td>http://www.fairmont.com</td>\n",
       "    </tr>\n",
       "    <tr>\n",
       "      <th>23</th>\n",
       "      <td>Shawarma Palace</td>\n",
       "      <td>8.2</td>\n",
       "      <td>Mon-Thu 00:00-1:00, 11:00-23:59; Fri 00:00-2:0...</td>\n",
       "      <td>464 Rideau St</td>\n",
       "      <td>(613) 789-9533</td>\n",
       "      <td>http://www.shawarmapalace.ca/</td>\n",
       "    </tr>\n",
       "    <tr>\n",
       "      <th>24</th>\n",
       "      <td>Le Moulin de Provence</td>\n",
       "      <td>7.3</td>\n",
       "      <td>Open Daily 7:00-22:00</td>\n",
       "      <td>55 Byward Market Sq</td>\n",
       "      <td>(613) 241-9152</td>\n",
       "      <td>http://moulindeprovence.com</td>\n",
       "    </tr>\n",
       "    <tr>\n",
       "      <th>25</th>\n",
       "      <td>Wilfrid's</td>\n",
       "      <td>7.7</td>\n",
       "      <td>Mon-Fri 11:30-14:00, 17:30-23:00; Sat 7:00-11:...</td>\n",
       "      <td>1 Rideau St</td>\n",
       "      <td>(613) 241-1414</td>\n",
       "      <td>http://www.fairmont.com/laurier-ottawa/dining/...</td>\n",
       "    </tr>\n",
       "    <tr>\n",
       "      <th>26</th>\n",
       "      <td>Level One</td>\n",
       "      <td>7.4</td>\n",
       "      <td>Mon-Fri 00:00-1:00, 11:00-23:59; Sat-Sun 00:00...</td>\n",
       "      <td>14 Waller St</td>\n",
       "      <td>(613) 680-7529</td>\n",
       "      <td>http://www.levelonegamepub.com</td>\n",
       "    </tr>\n",
       "    <tr>\n",
       "      <th>27</th>\n",
       "      <td>Metropolitain Brasserie</td>\n",
       "      <td>7.6</td>\n",
       "      <td>Mon-Tue 8:00-23:59; Wed-Fri 00:00-2:00, 8:00-2...</td>\n",
       "      <td>700 Sussex Dr</td>\n",
       "      <td>(613) 562-1160</td>\n",
       "      <td>http://www.metropolitainbrasserie.com</td>\n",
       "    </tr>\n",
       "    <tr>\n",
       "      <th>28</th>\n",
       "      <td>Le Café</td>\n",
       "      <td>7.7</td>\n",
       "      <td>Open Daily 11:30-21:00</td>\n",
       "      <td>53 Elgin St</td>\n",
       "      <td>(613) 594-5127</td>\n",
       "      <td>http://nac-cna.ca/en/lecafe</td>\n",
       "    </tr>\n",
       "    <tr>\n",
       "      <th>29</th>\n",
       "      <td>Olive &amp; Chili</td>\n",
       "      <td>7.1</td>\n",
       "      <td>Mon-Wed 7:00-19:00; Thu-Sat 7:00-20:00; Sun 7:...</td>\n",
       "      <td>51 York St</td>\n",
       "      <td>(613) 789-7172</td>\n",
       "      <td>http://www.olivechili.com</td>\n",
       "    </tr>\n",
       "    <tr>\n",
       "      <th>30</th>\n",
       "      <td>Cacao 70</td>\n",
       "      <td>7.0</td>\n",
       "      <td>Mon-Thu 10:00-23:00; Fri-Sat 10:00-23:59; Sun ...</td>\n",
       "      <td>53 William St</td>\n",
       "      <td>(613) 860-1991</td>\n",
       "      <td>http://cacao70.ca/en/</td>\n",
       "    </tr>\n",
       "    <tr>\n",
       "      <th>31</th>\n",
       "      <td>Smoke's Poutinerie</td>\n",
       "      <td>7.0</td>\n",
       "      <td>Mon-Wed 11:00-23:59; Thu-Fri 00:00-3:00, 11:00...</td>\n",
       "      <td>407 Dalhousie St</td>\n",
       "      <td>(613) 789-2873</td>\n",
       "      <td>http://smokespoutinerie.com</td>\n",
       "    </tr>\n",
       "    <tr>\n",
       "      <th>32</th>\n",
       "      <td>D'Arcy McGee's Irish Pub</td>\n",
       "      <td>7.3</td>\n",
       "      <td>Mon-Wed 00:00-1:00, 11:00-23:59; Thu-Fri 00:00...</td>\n",
       "      <td>44 Sparks St</td>\n",
       "      <td>(613) 230-4433</td>\n",
       "      <td>http://ottawa.darcymcgees.com/</td>\n",
       "    </tr>\n",
       "    <tr>\n",
       "      <th>33</th>\n",
       "      <td>Bridgehead</td>\n",
       "      <td>7.3</td>\n",
       "      <td>Mon-Fri 6:30-19:00; Sat-Sun 8:00-18:00</td>\n",
       "      <td>100 Sparks St</td>\n",
       "      <td>(613) 232-4936</td>\n",
       "      <td>http://www.bridgehead.ca</td>\n",
       "    </tr>\n",
       "    <tr>\n",
       "      <th>34</th>\n",
       "      <td>Mavericks</td>\n",
       "      <td>6.7</td>\n",
       "      <td>Mon 17:00-23:59; Tue-Fri 00:00-2:00, 17:00-23:...</td>\n",
       "      <td>221 Rideau St</td>\n",
       "      <td>(613) 562-3941</td>\n",
       "      <td>http://www.mavericksbar.com</td>\n",
       "    </tr>\n",
       "    <tr>\n",
       "      <th>35</th>\n",
       "      <td>Lowertown Brewery</td>\n",
       "      <td>6.3</td>\n",
       "      <td>Mon-Thu 00:00-1:00, 11:00-23:59; Fri-Sun 00:00...</td>\n",
       "      <td>73 York St</td>\n",
       "      <td>(613) 722-1454</td>\n",
       "      <td>http://www.lowertownbrewery.ca/</td>\n",
       "    </tr>\n",
       "    <tr>\n",
       "      <th>36</th>\n",
       "      <td>Le Moulin de Provence K.D</td>\n",
       "      <td>6.9</td>\n",
       "      <td>Mon-Fri 7:00-19:00; Sat-Sun 7:00-18:00</td>\n",
       "      <td>30 Metcalfe St</td>\n",
       "      <td>(613) 695-2253</td>\n",
       "      <td>http://moulindeprovencekd.ca</td>\n",
       "    </tr>\n",
       "    <tr>\n",
       "      <th>37</th>\n",
       "      <td>Laurier Social House</td>\n",
       "      <td>6.8</td>\n",
       "      <td>Open Daily 00:00-2:00, 16:00-23:59</td>\n",
       "      <td>335 Laurier Ave E</td>\n",
       "      <td>(613) 680-3999</td>\n",
       "      <td>http://www.lauriersocial-house.com/</td>\n",
       "    </tr>\n",
       "    <tr>\n",
       "      <th>38</th>\n",
       "      <td>The Grand Pizzeria &amp; Bar</td>\n",
       "      <td>6.4</td>\n",
       "      <td>Mon-Thu 11:00-23:59; Fri-Sun 00:00-1:00, 11:00...</td>\n",
       "      <td>74 George St</td>\n",
       "      <td>(613) 244-9995</td>\n",
       "      <td>http://www.thegrandpizzeria.com</td>\n",
       "    </tr>\n",
       "    <tr>\n",
       "      <th>39</th>\n",
       "      <td>Pub 101</td>\n",
       "      <td>6.1</td>\n",
       "      <td>Open Daily 00:00-1:00, 11:30-23:59</td>\n",
       "      <td>101 York St</td>\n",
       "      <td>(613) 789-3515</td>\n",
       "      <td>http://pub101.com</td>\n",
       "    </tr>\n",
       "    <tr>\n",
       "      <th>40</th>\n",
       "      <td>Earl of Sussex Pub</td>\n",
       "      <td>6.3</td>\n",
       "      <td>Mon-Tue 11:30-23:59; Wed 11:30-12:00; Thu-Fri ...</td>\n",
       "      <td>431 Sussex Dr</td>\n",
       "      <td>(613) 562-5544</td>\n",
       "      <td>http://www.earlofsussex.ca</td>\n",
       "    </tr>\n",
       "    <tr>\n",
       "      <th>41</th>\n",
       "      <td>Blue Cactus</td>\n",
       "      <td>6.1</td>\n",
       "      <td>Mon-Wed 11:00-22:00; Thu 11:00-23:00; Fri 11:0...</td>\n",
       "      <td>2 by Ward Market Sq</td>\n",
       "      <td>(613) 241-7061</td>\n",
       "      <td>http://www.bluecactusbarandgrill.com</td>\n",
       "    </tr>\n",
       "    <tr>\n",
       "      <th>42</th>\n",
       "      <td>Hokkaido Sushi</td>\n",
       "      <td>5.7</td>\n",
       "      <td>Mon-Sat 11:00-22:00; Sun 11:00-21:30</td>\n",
       "      <td>272 Dalhousie St</td>\n",
       "      <td>(613) 860-9898</td>\n",
       "      <td>http://www.hokkaidosushiottawa.ca</td>\n",
       "    </tr>\n",
       "    <tr>\n",
       "      <th>43</th>\n",
       "      <td>The Cornerstone Bar &amp; Grill</td>\n",
       "      <td>5.8</td>\n",
       "      <td>Open Daily 00:00-2:00, 11:00-23:59</td>\n",
       "      <td>92 Clarence St</td>\n",
       "      <td>(613) 241-6835</td>\n",
       "      <td>http://www.cornerstonebarandgrill.ca</td>\n",
       "    </tr>\n",
       "    <tr>\n",
       "      <th>44</th>\n",
       "      <td>Gyubee Japanese Grill</td>\n",
       "      <td>NaN</td>\n",
       "      <td>Open Daily 11:30-21:00</td>\n",
       "      <td>95 York St</td>\n",
       "      <td>(613) 367-5065</td>\n",
       "      <td>http://www.gyubeejapanesegrill.com</td>\n",
       "    </tr>\n",
       "    <tr>\n",
       "      <th>45</th>\n",
       "      <td>Feast + Revel</td>\n",
       "      <td>NaN</td>\n",
       "      <td>Mon-Thu 6:30-10:30, 17:00-22:00; Fri 6:30-10:3...</td>\n",
       "      <td>325 Dalhousie St</td>\n",
       "      <td>(613) 321-1234</td>\n",
       "      <td>https://ottawa.andaz.hyatt.com/en/hotel/dining...</td>\n",
       "    </tr>\n",
       "    <tr>\n",
       "      <th>46</th>\n",
       "      <td>Thai Express</td>\n",
       "      <td>6.3</td>\n",
       "      <td>Open Daily 00:00-2:00, 11:00-23:59</td>\n",
       "      <td>265 Laurier Ave E</td>\n",
       "      <td>(613) 233-2119</td>\n",
       "      <td>https://thaiexpress.ca/locations/</td>\n",
       "    </tr>\n",
       "    <tr>\n",
       "      <th>47</th>\n",
       "      <td>Tim Hortons</td>\n",
       "      <td>6.3</td>\n",
       "      <td>Mon-Fri 6:00-18:00</td>\n",
       "      <td>90 Elgin St</td>\n",
       "      <td>(613) 238-6444</td>\n",
       "      <td>http://www.timhortons.com/</td>\n",
       "    </tr>\n",
       "    <tr>\n",
       "      <th>48</th>\n",
       "      <td>Dunn's Famous Deli</td>\n",
       "      <td>5.6</td>\n",
       "      <td>Open Daily 00:00-23:59</td>\n",
       "      <td>355 Dalhousie St</td>\n",
       "      <td>(613) 562-4966</td>\n",
       "      <td>http://www.dunnsfamous.com/</td>\n",
       "    </tr>\n",
       "    <tr>\n",
       "      <th>49</th>\n",
       "      <td>Le Mien 樂面</td>\n",
       "      <td>NaN</td>\n",
       "      <td>Open Daily 11:30-20:00</td>\n",
       "      <td>43 William St</td>\n",
       "      <td>NaN</td>\n",
       "      <td>NaN</td>\n",
       "    </tr>\n",
       "  </tbody>\n",
       "</table>\n",
       "</div>"
      ],
      "text/plain": [
       "                           Name  rating  \\\n",
       "0                   Chez Lucien     8.7   \n",
       "1                     El Camino     8.7   \n",
       "2      The Keg Steakhouse + Bar     8.4   \n",
       "3             Bite Burger House     8.4   \n",
       "4        BeaverTails Canada Inc     8.8   \n",
       "5         Ahora Mexican Cuisine     8.0   \n",
       "6               Corazon de Maiz     8.5   \n",
       "7            Fiazza Fresh Fired     8.2   \n",
       "8                      E18hteen     8.6   \n",
       "9                   JOEY Rideau     8.6   \n",
       "10             Play Food & Wine     8.6   \n",
       "11            Chateau Lafayette     8.1   \n",
       "12                  Zak's Diner     8.0   \n",
       "13                   Bridgehead     8.1   \n",
       "14     The Lookout Bar & Bistro     7.8   \n",
       "15                The King Eddy     7.7   \n",
       "16                Heart & Crown     7.7   \n",
       "17                  Luxe Bistro     7.7   \n",
       "18                      Riviera     8.6   \n",
       "19               The Shore Club     8.1   \n",
       "20                      Freshii     8.3   \n",
       "21  Aulde Dubliner & Pour House     7.6   \n",
       "22                 Zoe's Lounge     7.9   \n",
       "23              Shawarma Palace     8.2   \n",
       "24        Le Moulin de Provence     7.3   \n",
       "25                    Wilfrid's     7.7   \n",
       "26                    Level One     7.4   \n",
       "27      Metropolitain Brasserie     7.6   \n",
       "28                      Le Café     7.7   \n",
       "29                Olive & Chili     7.1   \n",
       "30                     Cacao 70     7.0   \n",
       "31           Smoke's Poutinerie     7.0   \n",
       "32     D'Arcy McGee's Irish Pub     7.3   \n",
       "33                   Bridgehead     7.3   \n",
       "34                    Mavericks     6.7   \n",
       "35            Lowertown Brewery     6.3   \n",
       "36    Le Moulin de Provence K.D     6.9   \n",
       "37         Laurier Social House     6.8   \n",
       "38     The Grand Pizzeria & Bar     6.4   \n",
       "39                      Pub 101     6.1   \n",
       "40           Earl of Sussex Pub     6.3   \n",
       "41                  Blue Cactus     6.1   \n",
       "42               Hokkaido Sushi     5.7   \n",
       "43  The Cornerstone Bar & Grill     5.8   \n",
       "44        Gyubee Japanese Grill     NaN   \n",
       "45                Feast + Revel     NaN   \n",
       "46                 Thai Express     6.3   \n",
       "47                  Tim Hortons     6.3   \n",
       "48           Dunn's Famous Deli     5.6   \n",
       "49                   Le Mien 樂面     NaN   \n",
       "\n",
       "                                                Hours               Address  \\\n",
       "0                  Open Daily 00:00-2:00, 11:00-23:59         137 Murray St   \n",
       "1            Mon-Wed 16:00-23:59; Thu-Sun 12:00-23:59        81 Clarence St   \n",
       "2                              Open Daily 12:00-23:59            75 York St   \n",
       "3   Mon-Fri 11:30-23:59; Sat-Sun 00:00-1:00, 11:30...         108 Murray St   \n",
       "4   Mon-Wed 10:00-22:00; Thu 10:00-23:00; Fri-Sat ...          69 George St   \n",
       "5                              Open Daily 11:30-22:00      307 Dalhousie St   \n",
       "6                              Open Daily 11:00-18:00  55 by Ward Market Sq   \n",
       "7   Mon-Thu 11:00-21:00; Fri-Sat 11:00-22:00; Sun ...          86 Murray St   \n",
       "8                              Open Daily 17:00-22:30            18 York St   \n",
       "9   Mon-Fri 11:00-23:59; Sat-Sun 00:00-1:00, 11:00...          50 Rideau St   \n",
       "10  Mon 12:00-14:00, 17:30-22:00; Tue-Thu 12:00-14...             1 York St   \n",
       "11                 Open Daily 00:00-2:00, 11:00-23:59            42 York St   \n",
       "12                             Open Daily 00:00-23:59  16 by Ward Market Sq   \n",
       "13                 Mon-Sat 7:00-20:00; Sun 8:00-18:00          50 Rideau St   \n",
       "14  Mon 14:00-23:59; Tue-Sat 00:00-2:00, 14:00-23:...            41 York St   \n",
       "15  Mon 8:00-23:59; Tue-Thu 00:00-1:00, 8:00-23:59...        45 Clarence St   \n",
       "16  Mon-Fri 00:00-2:00, 11:00-23:59; Sat-Sun 00:00...        67 Clarence St   \n",
       "17  Mon-Fri 00:00-1:00, 11:00-23:59; Sat-Sun 00:00...            47 York St   \n",
       "18  Mon-Wed 11:30-22:00; Thu-Fri 11:30-23:00; Sat ...          62 Sparks St   \n",
       "19  Mon-Fri 00:00-1:00, 11:30-23:59; Sat 00:00-1:0...      11 Colonel by Dr   \n",
       "20  Mon-Thu 10:00-20:00; Fri 10:00-18:00; Sat 11:0...      50 Laurier Ave E   \n",
       "21  Mon-Fri 00:00-2:00, 11:00-23:59; Sat-Sun 00:00...         62 William St   \n",
       "22  Mon-Fri 14:00-23:59; Sat-Sun 00:00-1:00, 12:00...           1 Rideau St   \n",
       "23  Mon-Thu 00:00-1:00, 11:00-23:59; Fri 00:00-2:0...         464 Rideau St   \n",
       "24                              Open Daily 7:00-22:00   55 Byward Market Sq   \n",
       "25  Mon-Fri 11:30-14:00, 17:30-23:00; Sat 7:00-11:...           1 Rideau St   \n",
       "26  Mon-Fri 00:00-1:00, 11:00-23:59; Sat-Sun 00:00...          14 Waller St   \n",
       "27  Mon-Tue 8:00-23:59; Wed-Fri 00:00-2:00, 8:00-2...         700 Sussex Dr   \n",
       "28                             Open Daily 11:30-21:00           53 Elgin St   \n",
       "29  Mon-Wed 7:00-19:00; Thu-Sat 7:00-20:00; Sun 7:...            51 York St   \n",
       "30  Mon-Thu 10:00-23:00; Fri-Sat 10:00-23:59; Sun ...         53 William St   \n",
       "31  Mon-Wed 11:00-23:59; Thu-Fri 00:00-3:00, 11:00...      407 Dalhousie St   \n",
       "32  Mon-Wed 00:00-1:00, 11:00-23:59; Thu-Fri 00:00...          44 Sparks St   \n",
       "33             Mon-Fri 6:30-19:00; Sat-Sun 8:00-18:00         100 Sparks St   \n",
       "34  Mon 17:00-23:59; Tue-Fri 00:00-2:00, 17:00-23:...         221 Rideau St   \n",
       "35  Mon-Thu 00:00-1:00, 11:00-23:59; Fri-Sun 00:00...            73 York St   \n",
       "36             Mon-Fri 7:00-19:00; Sat-Sun 7:00-18:00        30 Metcalfe St   \n",
       "37                 Open Daily 00:00-2:00, 16:00-23:59     335 Laurier Ave E   \n",
       "38  Mon-Thu 11:00-23:59; Fri-Sun 00:00-1:00, 11:00...          74 George St   \n",
       "39                 Open Daily 00:00-1:00, 11:30-23:59           101 York St   \n",
       "40  Mon-Tue 11:30-23:59; Wed 11:30-12:00; Thu-Fri ...         431 Sussex Dr   \n",
       "41  Mon-Wed 11:00-22:00; Thu 11:00-23:00; Fri 11:0...   2 by Ward Market Sq   \n",
       "42               Mon-Sat 11:00-22:00; Sun 11:00-21:30      272 Dalhousie St   \n",
       "43                 Open Daily 00:00-2:00, 11:00-23:59        92 Clarence St   \n",
       "44                             Open Daily 11:30-21:00            95 York St   \n",
       "45  Mon-Thu 6:30-10:30, 17:00-22:00; Fri 6:30-10:3...      325 Dalhousie St   \n",
       "46                 Open Daily 00:00-2:00, 11:00-23:59     265 Laurier Ave E   \n",
       "47                                 Mon-Fri 6:00-18:00           90 Elgin St   \n",
       "48                             Open Daily 00:00-23:59      355 Dalhousie St   \n",
       "49                             Open Daily 11:30-20:00         43 William St   \n",
       "\n",
       "      Phone_number                                            website  \n",
       "0   (613) 241-3533                               http://chezlucien.ca  \n",
       "1   (613) 422-5918                             http://eatelcamino.com  \n",
       "2   (613) 241-8514                     https://www.kegsteakhouse.com/  \n",
       "3   (613) 562-2483                     http://www.biteburgerhouse.com  \n",
       "4   (613) 241-1230                     http://www.beavertailsinc.com/  \n",
       "5   (613) 562-2081                               http://www.ahora.ca/  \n",
       "6   (613) 244-1661                 http://www.corazondemaizottawa.com  \n",
       "7   (613) 562-2000                               http://www.fiazza.ca  \n",
       "8   (613) 244-1188                        http://www.restaurant18.com  \n",
       "9   (613) 680-5639  https://joeyrestaurants.com/location/joey-ride...  \n",
       "10  (613) 667-9207                             http://www.playfood.ca  \n",
       "11  (613) 241-4747                              http://www.thelaff.ca  \n",
       "12  (613) 241-2401                          http://www.zaksdiner.com/  \n",
       "13  (613) 789-1676                                                NaN  \n",
       "14  (613) 789-1624                       http://www.thelookoutbar.com  \n",
       "15  (613) 680-1700                     http://www.kingeddyburgers.com  \n",
       "16  (613) 562-0674                        http://www.heartandcrown.ca  \n",
       "17  (613) 241-8805                          http://www.luxebistro.com  \n",
       "18  (613) 233-6262                         http://www.dineriviera.com  \n",
       "19  (613) 569-5050                         http://www.theshoreclub.ca  \n",
       "20  (613) 695-5600                           https://www.freshii.com/  \n",
       "21  (613) 241-0066         http://www.auldedubliner.com/dubliner.aspx  \n",
       "22  (613) 241-1414                            http://www.fairmont.com  \n",
       "23  (613) 789-9533                      http://www.shawarmapalace.ca/  \n",
       "24  (613) 241-9152                        http://moulindeprovence.com  \n",
       "25  (613) 241-1414  http://www.fairmont.com/laurier-ottawa/dining/...  \n",
       "26  (613) 680-7529                     http://www.levelonegamepub.com  \n",
       "27  (613) 562-1160              http://www.metropolitainbrasserie.com  \n",
       "28  (613) 594-5127                        http://nac-cna.ca/en/lecafe  \n",
       "29  (613) 789-7172                          http://www.olivechili.com  \n",
       "30  (613) 860-1991                              http://cacao70.ca/en/  \n",
       "31  (613) 789-2873                        http://smokespoutinerie.com  \n",
       "32  (613) 230-4433                     http://ottawa.darcymcgees.com/  \n",
       "33  (613) 232-4936                           http://www.bridgehead.ca  \n",
       "34  (613) 562-3941                        http://www.mavericksbar.com  \n",
       "35  (613) 722-1454                    http://www.lowertownbrewery.ca/  \n",
       "36  (613) 695-2253                       http://moulindeprovencekd.ca  \n",
       "37  (613) 680-3999                http://www.lauriersocial-house.com/  \n",
       "38  (613) 244-9995                    http://www.thegrandpizzeria.com  \n",
       "39  (613) 789-3515                                  http://pub101.com  \n",
       "40  (613) 562-5544                         http://www.earlofsussex.ca  \n",
       "41  (613) 241-7061               http://www.bluecactusbarandgrill.com  \n",
       "42  (613) 860-9898                  http://www.hokkaidosushiottawa.ca  \n",
       "43  (613) 241-6835               http://www.cornerstonebarandgrill.ca  \n",
       "44  (613) 367-5065                 http://www.gyubeejapanesegrill.com  \n",
       "45  (613) 321-1234  https://ottawa.andaz.hyatt.com/en/hotel/dining...  \n",
       "46  (613) 233-2119                  https://thaiexpress.ca/locations/  \n",
       "47  (613) 238-6444                         http://www.timhortons.com/  \n",
       "48  (613) 562-4966                        http://www.dunnsfamous.com/  \n",
       "49             NaN                                                NaN  "
      ]
     },
     "execution_count": 22,
     "metadata": {},
     "output_type": "execute_result"
    }
   ],
   "source": [
    "#Putting Data into pandas Dataframe and flattning out using normalize json for results \n",
    "\n",
    "df_f0 = pd.json_normalize(FSQ_Data_Json, record_path='results', errors='ignore')\n",
    "FSQ_dF = df_f0[['name', 'rating', 'hours.display', 'location.address', 'tel', 'website']].copy()\n",
    "FSQ_dF.rename(columns={'name': 'Name','hours.display': 'Hours', 'location.address': 'Address', 'tel': 'Phone_number'}, inplace=True)  \n",
    "FSQ_dF\n",
    "\n",
    "#FSQ_dF.sort_values(['rating'], ascending=False).head(10)\n"
   ]
  },
  {
   "cell_type": "code",
   "execution_count": null,
   "metadata": {},
   "outputs": [],
   "source": []
  },
  {
   "cell_type": "code",
   "execution_count": 11,
   "metadata": {},
   "outputs": [],
   "source": []
  },
  {
   "cell_type": "code",
   "execution_count": null,
   "metadata": {},
   "outputs": [],
   "source": []
  },
  {
   "cell_type": "markdown",
   "metadata": {},
   "source": [
    "# Yelp"
   ]
  },
  {
   "cell_type": "markdown",
   "metadata": {},
   "source": [
    "Send a request with the same location paramaters (location, radius, etc)"
   ]
  },
  {
   "cell_type": "code",
   "execution_count": 6,
   "metadata": {},
   "outputs": [],
   "source": [
    "#  YELP API\n",
    "YELP_key = os.environ['YELPAPIKEY']\n",
    "YELP_header = {'Authorization': 'Bearer %s' %YELP_key}\n",
    "YELP_Url = 'https://api.yelp.com/v3/businesses/search'"
   ]
  },
  {
   "cell_type": "code",
   "execution_count": 8,
   "metadata": {},
   "outputs": [],
   "source": [
    "# Setting wanted parameters to fetch from the request \n",
    "Y_param = {\n",
    "    'location': '45.429999200432945,-75.69109581618784',\n",
    "    'radius': '10000',\n",
    "    'categories': 'restaurants',\n",
    "    'limit': '50'\n",
    "}\n",
    "\n",
    "\n",
    "# Data Requests\n",
    "\n",
    "YELP_Data = requests.get(YELP_Url, params = Y_param, headers=YELP_header)"
   ]
  },
  {
   "cell_type": "markdown",
   "metadata": {},
   "source": [
    "Parse through your result and get POI details"
   ]
  },
  {
   "cell_type": "code",
   "execution_count": 11,
   "metadata": {},
   "outputs": [
    {
     "data": {
      "text/plain": [
       "200"
      ]
     },
     "execution_count": 11,
     "metadata": {},
     "output_type": "execute_result"
    }
   ],
   "source": [
    "# checkthe request was successful \n",
    "YELP_Data.status_code"
   ]
  },
  {
   "cell_type": "code",
   "execution_count": 13,
   "metadata": {},
   "outputs": [
    {
     "data": {
      "text/plain": [
       "dict"
      ]
     },
     "execution_count": 13,
     "metadata": {},
     "output_type": "execute_result"
    }
   ],
   "source": [
    "# Export the information that was returned using method .json()\n",
    "YELP_Data_Json = YELP_Data.json()\n",
    "type(YELP_Data_Json)"
   ]
  },
  {
   "cell_type": "code",
   "execution_count": 14,
   "metadata": {},
   "outputs": [
    {
     "data": {
      "application/json": {
       "businesses": [
        {
         "alias": "beavertails-ottawa-7",
         "categories": [
          {
           "alias": "desserts",
           "title": "Desserts"
          },
          {
           "alias": "chocolate",
           "title": "Chocolatiers & Shops"
          },
          {
           "alias": "hotdog",
           "title": "Hot Dogs"
          }
         ],
         "coordinates": {
          "latitude": 45.4272123,
          "longitude": -75.6919436
         },
         "display_phone": "+1 613-241-1230",
         "distance": 293.6028793292466,
         "id": "3M7TCxDoFJVZe9OHpyy7jQ",
         "image_url": "https://s3-media2.fl.yelpcdn.com/bphoto/TukIZNmLqyookQuhac39bg/o.jpg",
         "is_closed": false,
         "location": {
          "address1": "69 George Street",
          "address2": "",
          "address3": null,
          "city": "Ottawa",
          "country": "CA",
          "display_address": [
           "69 George Street",
           "Ottawa, ON K1N 1K1",
           "Canada"
          ],
          "state": "ON",
          "zip_code": "K1N 1K1"
         },
         "name": "BeaverTails",
         "phone": "+16132411230",
         "price": "$",
         "rating": 4.5,
         "review_count": 252,
         "transactions": [],
         "url": "https://www.yelp.com/biz/beavertails-ottawa-7?adjust_creative=Lo1vDDSapBzft8v086Lrdw&utm_campaign=yelp_api_v3&utm_medium=api_v3_business_search&utm_source=Lo1vDDSapBzft8v086Lrdw"
        },
        {
         "alias": "la-bottega-nicastro-fine-food-shop-ottawa",
         "categories": [
          {
           "alias": "delis",
           "title": "Delis"
          },
          {
           "alias": "sandwiches",
           "title": "Sandwiches"
          },
          {
           "alias": "gourmet",
           "title": "Specialty Food"
          }
         ],
         "coordinates": {
          "latitude": 45.42685,
          "longitude": -75.69184
         },
         "display_phone": "+1 613-789-7575",
         "distance": 354.64833075989367,
         "id": "-maNgjX_BRLmmc4CpP9BwQ",
         "image_url": "https://s3-media2.fl.yelpcdn.com/bphoto/GwfVxtuCOjQqnFUpm9kxmQ/o.jpg",
         "is_closed": false,
         "location": {
          "address1": "64 George St",
          "address2": "",
          "address3": "",
          "city": "Ottawa",
          "country": "CA",
          "display_address": [
           "64 George St",
           "Ottawa, ON K1N 5V9",
           "Canada"
          ],
          "state": "ON",
          "zip_code": "K1N 5V9"
         },
         "name": "La Bottega Nicastro Fine Food Shop",
         "phone": "+16137897575",
         "price": "$$",
         "rating": 4.5,
         "review_count": 161,
         "transactions": [],
         "url": "https://www.yelp.com/biz/la-bottega-nicastro-fine-food-shop-ottawa?adjust_creative=Lo1vDDSapBzft8v086Lrdw&utm_campaign=yelp_api_v3&utm_medium=api_v3_business_search&utm_source=Lo1vDDSapBzft8v086Lrdw"
        },
        {
         "alias": "play-food-and-wine-ottawa",
         "categories": [
          {
           "alias": "wine_bars",
           "title": "Wine Bars"
          },
          {
           "alias": "newcanadian",
           "title": "Canadian (New)"
          },
          {
           "alias": "tapasmallplates",
           "title": "Tapas/Small Plates"
          }
         ],
         "coordinates": {
          "latitude": 45.4276304284579,
          "longitude": -75.6948116927303
         },
         "display_phone": "+1 613-667-9207",
         "distance": 378.8241750310451,
         "id": "J1B_vEvWgkYyYt7D3rmVJQ",
         "image_url": "https://s3-media1.fl.yelpcdn.com/bphoto/kM6I288idXODjCy1JJ-P8w/o.jpg",
         "is_closed": false,
         "location": {
          "address1": "1 York Street",
          "address2": "",
          "address3": "",
          "city": "Ottawa",
          "country": "CA",
          "display_address": [
           "1 York Street",
           "Ottawa, ON K1N 5S7",
           "Canada"
          ],
          "state": "ON",
          "zip_code": "K1N 5S7"
         },
         "name": "Play Food And Wine",
         "phone": "+16136679207",
         "price": "$$$",
         "rating": 4,
         "review_count": 225,
         "transactions": [],
         "url": "https://www.yelp.com/biz/play-food-and-wine-ottawa?adjust_creative=Lo1vDDSapBzft8v086Lrdw&utm_campaign=yelp_api_v3&utm_medium=api_v3_business_search&utm_source=Lo1vDDSapBzft8v086Lrdw"
        },
        {
         "alias": "the-sconewitch-ottawa",
         "categories": [
          {
           "alias": "cafes",
           "title": "Cafes"
          },
          {
           "alias": "bakeries",
           "title": "Bakeries"
          },
          {
           "alias": "breakfast_brunch",
           "title": "Breakfast & Brunch"
          }
         ],
         "coordinates": {
          "latitude": 45.4200346487294,
          "longitude": -75.6938213185417
         },
         "display_phone": "+1 613-232-2173",
         "distance": 1126.0135663608132,
         "id": "QzMjdq-y_q-n13cdzJTlgw",
         "image_url": "https://s3-media3.fl.yelpcdn.com/bphoto/jtT_9eAYhvbQNaNqjgl-Dw/o.jpg",
         "is_closed": false,
         "location": {
          "address1": "150 Elgin Street",
          "address2": "",
          "address3": "",
          "city": "Ottawa",
          "country": "CA",
          "display_address": [
           "150 Elgin Street",
           "Ottawa, ON K1P 1L4",
           "Canada"
          ],
          "state": "ON",
          "zip_code": "K1P 1L4"
         },
         "name": "The SconeWitch",
         "phone": "+16132322173",
         "price": "$$",
         "rating": 4,
         "review_count": 213,
         "transactions": [],
         "url": "https://www.yelp.com/biz/the-sconewitch-ottawa?adjust_creative=Lo1vDDSapBzft8v086Lrdw&utm_campaign=yelp_api_v3&utm_medium=api_v3_business_search&utm_source=Lo1vDDSapBzft8v086Lrdw"
        },
        {
         "alias": "shawarma-palace-ottawa",
         "categories": [
          {
           "alias": "mideastern",
           "title": "Middle Eastern"
          },
          {
           "alias": "mediterranean",
           "title": "Mediterranean"
          }
         ],
         "coordinates": {
          "latitude": 45.4309,
          "longitude": -75.6799
         },
         "display_phone": "+1 613-789-9533",
         "distance": 898.5559971252696,
         "id": "HkGcLoxiTSRTmblJwlFd5g",
         "image_url": "https://s3-media1.fl.yelpcdn.com/bphoto/XZl-QoWtaJyNHvvZZWvXXA/o.jpg",
         "is_closed": false,
         "location": {
          "address1": "464 Rideau Street",
          "address2": "",
          "address3": "",
          "city": "Ottawa",
          "country": "CA",
          "display_address": [
           "464 Rideau Street",
           "Ottawa, ON K1N 5Z4",
           "Canada"
          ],
          "state": "ON",
          "zip_code": "K1N 5Z4"
         },
         "name": "Shawarma Palace",
         "phone": "+16137899533",
         "price": "$$",
         "rating": 4,
         "review_count": 235,
         "transactions": [],
         "url": "https://www.yelp.com/biz/shawarma-palace-ottawa?adjust_creative=Lo1vDDSapBzft8v086Lrdw&utm_campaign=yelp_api_v3&utm_medium=api_v3_business_search&utm_source=Lo1vDDSapBzft8v086Lrdw"
        },
        {
         "alias": "sansotei-ramen-ottawa",
         "categories": [
          {
           "alias": "ramen",
           "title": "Ramen"
          }
         ],
         "coordinates": {
          "latitude": 45.41898,
          "longitude": -75.69908
         },
         "display_phone": "+1 613-695-1718",
         "distance": 1377.9876467664214,
         "id": "CNAi8osKxH-Y9sp66-svdg",
         "image_url": "https://s3-media2.fl.yelpcdn.com/bphoto/T9HyCZrYH2T43FrpGBIlFg/o.jpg",
         "is_closed": false,
         "location": {
          "address1": "153 Bank Street",
          "address2": "",
          "address3": "",
          "city": "Ottawa",
          "country": "CA",
          "display_address": [
           "153 Bank Street",
           "Ottawa, ON K1P 5N7",
           "Canada"
          ],
          "state": "ON",
          "zip_code": "K1P 5N7"
         },
         "name": "Sansotei Ramen",
         "phone": "+16136951718",
         "price": "$$",
         "rating": 4.5,
         "review_count": 323,
         "transactions": [],
         "url": "https://www.yelp.com/biz/sansotei-ramen-ottawa?adjust_creative=Lo1vDDSapBzft8v086Lrdw&utm_campaign=yelp_api_v3&utm_medium=api_v3_business_search&utm_source=Lo1vDDSapBzft8v086Lrdw"
        },
        {
         "alias": "wilf-and-adas-ottawa",
         "categories": [
          {
           "alias": "diners",
           "title": "Diners"
          },
          {
           "alias": "breakfast_brunch",
           "title": "Breakfast & Brunch"
          }
         ],
         "coordinates": {
          "latitude": 45.41021,
          "longitude": -75.69287
         },
         "display_phone": "+1 613-231-7959",
         "distance": 2201.0329826092548,
         "id": "du0bCR907qLiB6cGeVFOew",
         "image_url": "https://s3-media4.fl.yelpcdn.com/bphoto/PKXUN6fb7wWvebVYIR1VhA/o.jpg",
         "is_closed": false,
         "location": {
          "address1": "510 Bank Street",
          "address2": "",
          "address3": "",
          "city": "Ottawa",
          "country": "CA",
          "display_address": [
           "510 Bank Street",
           "Ottawa, ON K2P 1Z4",
           "Canada"
          ],
          "state": "ON",
          "zip_code": "K2P 1Z4"
         },
         "name": "Wilf & Ada's",
         "phone": "+16132317959",
         "price": "$$",
         "rating": 4.5,
         "review_count": 355,
         "transactions": [],
         "url": "https://www.yelp.com/biz/wilf-and-adas-ottawa?adjust_creative=Lo1vDDSapBzft8v086Lrdw&utm_campaign=yelp_api_v3&utm_medium=api_v3_business_search&utm_source=Lo1vDDSapBzft8v086Lrdw"
        },
        {
         "alias": "bennys-bistro-ottawa",
         "categories": [
          {
           "alias": "bistros",
           "title": "Bistros"
          }
         ],
         "coordinates": {
          "latitude": 45.4301472,
          "longitude": -75.6926331
         },
         "display_phone": "+1 613-789-7941",
         "distance": 102.23944651998059,
         "id": "84y9MEGv4sqbtxgbIbvWAg",
         "image_url": "https://s3-media2.fl.yelpcdn.com/bphoto/wgeheQXdMy2LVAxV2tMF_Q/o.jpg",
         "is_closed": false,
         "location": {
          "address1": "119 Murray St",
          "address2": "",
          "address3": "",
          "city": "Ottawa",
          "country": "CA",
          "display_address": [
           "119 Murray St",
           "Ottawa, ON K1N 5M5",
           "Canada"
          ],
          "state": "ON",
          "zip_code": "K1N 5M5"
         },
         "name": "Benny's Bistro",
         "phone": "+16137897941",
         "price": "$$",
         "rating": 4.5,
         "review_count": 115,
         "transactions": [],
         "url": "https://www.yelp.com/biz/bennys-bistro-ottawa?adjust_creative=Lo1vDDSapBzft8v086Lrdw&utm_campaign=yelp_api_v3&utm_medium=api_v3_business_search&utm_source=Lo1vDDSapBzft8v086Lrdw"
        },
        {
         "alias": "fiazza-fresh-fired-ottawa",
         "categories": [
          {
           "alias": "pizza",
           "title": "Pizza"
          }
         ],
         "coordinates": {
          "latitude": 45.4295,
          "longitude": -75.6934
         },
         "display_phone": "+1 613-562-2000",
         "distance": 171.219970539394,
         "id": "IPcVjpzX_E6g2jvP9BiGow",
         "image_url": "https://s3-media4.fl.yelpcdn.com/bphoto/bWjZXcSyNQ_Q7P5w_kkzSQ/o.jpg",
         "is_closed": false,
         "location": {
          "address1": "86 Murray Street",
          "address2": "Ground Floor",
          "address3": "",
          "city": "Ottawa",
          "country": "CA",
          "display_address": [
           "86 Murray Street",
           "Ground Floor",
           "Ottawa, ON K1N 5M6",
           "Canada"
          ],
          "state": "ON",
          "zip_code": "K1N 5M6"
         },
         "name": "Fiazza Fresh Fired",
         "phone": "+16135622000",
         "price": "$$",
         "rating": 4,
         "review_count": 140,
         "transactions": [],
         "url": "https://www.yelp.com/biz/fiazza-fresh-fired-ottawa?adjust_creative=Lo1vDDSapBzft8v086Lrdw&utm_campaign=yelp_api_v3&utm_medium=api_v3_business_search&utm_source=Lo1vDDSapBzft8v086Lrdw"
        },
        {
         "alias": "riviera-ottawa",
         "categories": [
          {
           "alias": "newcanadian",
           "title": "Canadian (New)"
          }
         ],
         "coordinates": {
          "latitude": 45.42274,
          "longitude": -75.69598
         },
         "display_phone": "+1 613-233-6262",
         "distance": 865.6426853997472,
         "id": "PCz2kippn2fTs5-pAwEJ_Q",
         "image_url": "https://s3-media2.fl.yelpcdn.com/bphoto/87R0vjDZiadbps8sMfGixg/o.jpg",
         "is_closed": false,
         "location": {
          "address1": "62 Sparks Street",
          "address2": "",
          "address3": null,
          "city": "Ottawa",
          "country": "CA",
          "display_address": [
           "62 Sparks Street",
           "Ottawa, ON K1P 5A5",
           "Canada"
          ],
          "state": "ON",
          "zip_code": "K1P 5A5"
         },
         "name": "Riviera",
         "phone": "+16132336262",
         "price": "$$$",
         "rating": 4.5,
         "review_count": 103,
         "transactions": [],
         "url": "https://www.yelp.com/biz/riviera-ottawa?adjust_creative=Lo1vDDSapBzft8v086Lrdw&utm_campaign=yelp_api_v3&utm_medium=api_v3_business_search&utm_source=Lo1vDDSapBzft8v086Lrdw"
        },
        {
         "alias": "bite-burger-house-ottawa",
         "categories": [
          {
           "alias": "burgers",
           "title": "Burgers"
          }
         ],
         "coordinates": {
          "latitude": 45.4299812,
          "longitude": -75.6925507
         },
         "display_phone": "+1 613-562-2483",
         "distance": 119.2747855442197,
         "id": "cso4NHnm-lnX8kLo1Hhdvw",
         "image_url": "https://s3-media4.fl.yelpcdn.com/bphoto/_-a9fgFzzP4N80hDJlOU-A/o.jpg",
         "is_closed": false,
         "location": {
          "address1": "108 Murray Street",
          "address2": "",
          "address3": "",
          "city": "Ottawa",
          "country": "CA",
          "display_address": [
           "108 Murray Street",
           "Ottawa, ON K1N 5M7",
           "Canada"
          ],
          "state": "ON",
          "zip_code": "K1N 5M7"
         },
         "name": "Bite Burger House",
         "phone": "+16135622483",
         "price": "$$",
         "rating": 4.5,
         "review_count": 97,
         "transactions": [],
         "url": "https://www.yelp.com/biz/bite-burger-house-ottawa?adjust_creative=Lo1vDDSapBzft8v086Lrdw&utm_campaign=yelp_api_v3&utm_medium=api_v3_business_search&utm_source=Lo1vDDSapBzft8v086Lrdw"
        },
        {
         "alias": "corazón-de-maíz-ottawa-2",
         "categories": [
          {
           "alias": "mexican",
           "title": "Mexican"
          }
         ],
         "coordinates": {
          "latitude": 45.4277696,
          "longitude": -75.6924445
         },
         "display_phone": "+1 613-244-1661",
         "distance": 263.6688888068842,
         "id": "sR85arLLZegQydCEO-8F2w",
         "image_url": "https://s3-media3.fl.yelpcdn.com/bphoto/ijp_2-WRVTKRWDTLVTCG6w/o.jpg",
         "is_closed": false,
         "location": {
          "address1": "55 ByWard Market Sq",
          "address2": "Byward Market Square",
          "address3": "",
          "city": "Ottawa",
          "country": "CA",
          "display_address": [
           "55 ByWard Market Sq",
           "Byward Market Square",
           "Ottawa, ON K1N 9C3",
           "Canada"
          ],
          "state": "ON",
          "zip_code": "K1N 9C3"
         },
         "name": "Corazón De Maíz",
         "phone": "+16132441661",
         "price": "$",
         "rating": 4.5,
         "review_count": 96,
         "transactions": [],
         "url": "https://www.yelp.com/biz/coraz%C3%B3n-de-ma%C3%ADz-ottawa-2?adjust_creative=Lo1vDDSapBzft8v086Lrdw&utm_campaign=yelp_api_v3&utm_medium=api_v3_business_search&utm_source=Lo1vDDSapBzft8v086Lrdw"
        },
        {
         "alias": "the-brig-pub-ottawa",
         "categories": [
          {
           "alias": "pubs",
           "title": "Pubs"
          },
          {
           "alias": "tradamerican",
           "title": "American (Traditional)"
          },
          {
           "alias": "newcanadian",
           "title": "Canadian (New)"
          }
         ],
         "coordinates": {
          "latitude": 45.427836140633,
          "longitude": -75.694200925761
         },
         "display_phone": "+1 613-562-6666",
         "distance": 329.1732744799621,
         "id": "7Wwtm26N7P3s1qDkqSw_Jw",
         "image_url": "https://s3-media2.fl.yelpcdn.com/bphoto/F_iPoFQBjfZO-boVAxVf7Q/o.jpg",
         "is_closed": false,
         "location": {
          "address1": "23 York Street",
          "address2": "",
          "address3": "",
          "city": "Ottawa",
          "country": "CA",
          "display_address": [
           "23 York Street",
           "Ottawa, ON K1N 5S7",
           "Canada"
          ],
          "state": "ON",
          "zip_code": "K1N 5S7"
         },
         "name": "The Brig Pub",
         "phone": "+16135626666",
         "price": "$$",
         "rating": 4,
         "review_count": 107,
         "transactions": [],
         "url": "https://www.yelp.com/biz/the-brig-pub-ottawa?adjust_creative=Lo1vDDSapBzft8v086Lrdw&utm_campaign=yelp_api_v3&utm_medium=api_v3_business_search&utm_source=Lo1vDDSapBzft8v086Lrdw"
        },
        {
         "alias": "ahora-mexican-cuisine-ottawa",
         "categories": [
          {
           "alias": "mexican",
           "title": "Mexican"
          },
          {
           "alias": "tex-mex",
           "title": "Tex-Mex"
          },
          {
           "alias": "hotdogs",
           "title": "Fast Food"
          }
         ],
         "coordinates": {
          "latitude": 45.42942,
          "longitude": -75.69129
         },
         "display_phone": "+1 613-562-2081",
         "distance": 66.61038743250872,
         "id": "1Vfco23TycTIiHc30rg1Xg",
         "image_url": "https://s3-media3.fl.yelpcdn.com/bphoto/xqOTatGbFbfFPNUidSjAQQ/o.jpg",
         "is_closed": false,
         "location": {
          "address1": "307 Dalhousie Street",
          "address2": "",
          "address3": "",
          "city": "Ottawa",
          "country": "CA",
          "display_address": [
           "307 Dalhousie Street",
           "Ottawa, ON K1N 7E8",
           "Canada"
          ],
          "state": "ON",
          "zip_code": "K1N 7E8"
         },
         "name": "Ahora Mexican Cuisine",
         "phone": "+16135622081",
         "price": "$$",
         "rating": 3.5,
         "review_count": 185,
         "transactions": [],
         "url": "https://www.yelp.com/biz/ahora-mexican-cuisine-ottawa?adjust_creative=Lo1vDDSapBzft8v086Lrdw&utm_campaign=yelp_api_v3&utm_medium=api_v3_business_search&utm_source=Lo1vDDSapBzft8v086Lrdw"
        },
        {
         "alias": "town-ottawa",
         "categories": [
          {
           "alias": "italian",
           "title": "Italian"
          }
         ],
         "coordinates": {
          "latitude": 45.4166878,
          "longitude": -75.6896973
         },
         "display_phone": "+1 613-695-8696",
         "distance": 1486.877870517712,
         "id": "IeQNKf1szPuLtq23u9BXyA",
         "image_url": "https://s3-media2.fl.yelpcdn.com/bphoto/GHFHeKh1SSUdI72MAzlBzw/o.jpg",
         "is_closed": false,
         "location": {
          "address1": "296 Elgin Street",
          "address2": "",
          "address3": "",
          "city": "Ottawa",
          "country": "CA",
          "display_address": [
           "296 Elgin Street",
           "Ottawa, ON K2P 1M3",
           "Canada"
          ],
          "state": "ON",
          "zip_code": "K2P 1M3"
         },
         "name": "Town",
         "phone": "+16136958696",
         "price": "$$$",
         "rating": 4.5,
         "review_count": 153,
         "transactions": [],
         "url": "https://www.yelp.com/biz/town-ottawa?adjust_creative=Lo1vDDSapBzft8v086Lrdw&utm_campaign=yelp_api_v3&utm_medium=api_v3_business_search&utm_source=Lo1vDDSapBzft8v086Lrdw"
        },
        {
         "alias": "sidedoor-contemporary-kitchen-and-bar-ottawa",
         "categories": [
          {
           "alias": "tapasmallplates",
           "title": "Tapas/Small Plates"
          }
         ],
         "coordinates": {
          "latitude": 45.4273346,
          "longitude": -75.6940098
         },
         "display_phone": "+1 613-562-9331",
         "distance": 363.29551854584014,
         "id": "y6lPwbf8GAYM_M4XdxXCRA",
         "image_url": "https://s3-media3.fl.yelpcdn.com/bphoto/0BOo2x-2ioUOOkNiqSYv6Q/o.jpg",
         "is_closed": false,
         "location": {
          "address1": "18B York St",
          "address2": "",
          "address3": "",
          "city": "Ottawa",
          "country": "CA",
          "display_address": [
           "18B York St",
           "Ottawa, ON K1N 5T5",
           "Canada"
          ],
          "state": "ON",
          "zip_code": "K1N 5T5"
         },
         "name": "Sidedoor Contemporary Kitchen & Bar",
         "phone": "+16135629331",
         "price": "$$$",
         "rating": 4,
         "review_count": 137,
         "transactions": [],
         "url": "https://www.yelp.com/biz/sidedoor-contemporary-kitchen-and-bar-ottawa?adjust_creative=Lo1vDDSapBzft8v086Lrdw&utm_campaign=yelp_api_v3&utm_medium=api_v3_business_search&utm_source=Lo1vDDSapBzft8v086Lrdw"
        },
        {
         "alias": "el-camino-ottawa",
         "categories": [
          {
           "alias": "mexican",
           "title": "Mexican"
          }
         ],
         "coordinates": {
          "latitude": 45.4147939746995,
          "longitude": -75.6879332269847
         },
         "display_phone": "+1 613-422-2800",
         "distance": 1712.674805217626,
         "id": "X1BPPEUTBOnF4jVEJ_LDnw",
         "image_url": "https://s3-media1.fl.yelpcdn.com/bphoto/-1Tzkyp560ZevXAQ4Pvmlw/o.jpg",
         "is_closed": false,
         "location": {
          "address1": "380 Elgin Street",
          "address2": "Unit D",
          "address3": "",
          "city": "Ottawa",
          "country": "CA",
          "display_address": [
           "380 Elgin Street",
           "Unit D",
           "Ottawa, ON K2P 1M9",
           "Canada"
          ],
          "state": "ON",
          "zip_code": "K2P 1M9"
         },
         "name": "El Camino",
         "phone": "+16134222800",
         "price": "$$",
         "rating": 4,
         "review_count": 299,
         "transactions": [],
         "url": "https://www.yelp.com/biz/el-camino-ottawa?adjust_creative=Lo1vDDSapBzft8v086Lrdw&utm_campaign=yelp_api_v3&utm_medium=api_v3_business_search&utm_source=Lo1vDDSapBzft8v086Lrdw"
        },
        {
         "alias": "shanghai-wonton-noodle-ottawa-2",
         "categories": [
          {
           "alias": "noodles",
           "title": "Noodles"
          },
          {
           "alias": "chinese",
           "title": "Chinese"
          }
         ],
         "coordinates": {
          "latitude": 45.4270979937672,
          "longitude": -75.6890030577779
         },
         "display_phone": "+1 613-233-9900",
         "distance": 371.52872284234627,
         "id": "jM7KV3QyTI_ruexJzYRIXQ",
         "image_url": "https://s3-media1.fl.yelpcdn.com/bphoto/UGKK5QPMhRRJI5jMReAJJw/o.jpg",
         "is_closed": false,
         "location": {
          "address1": "178 Rideau Street",
          "address2": "",
          "address3": null,
          "city": "Ottawa",
          "country": "CA",
          "display_address": [
           "178 Rideau Street",
           "Ottawa, ON K1N 5X6",
           "Canada"
          ],
          "state": "ON",
          "zip_code": "K1N 5X6"
         },
         "name": "Shanghai Wonton Noodle",
         "phone": "+16132339900",
         "price": "$",
         "rating": 4.5,
         "review_count": 73,
         "transactions": [],
         "url": "https://www.yelp.com/biz/shanghai-wonton-noodle-ottawa-2?adjust_creative=Lo1vDDSapBzft8v086Lrdw&utm_campaign=yelp_api_v3&utm_medium=api_v3_business_search&utm_source=Lo1vDDSapBzft8v086Lrdw"
        },
        {
         "alias": "food-mood-korean-and-japanese-kitchen-ottawa",
         "categories": [
          {
           "alias": "japanese",
           "title": "Japanese"
          },
          {
           "alias": "korean",
           "title": "Korean"
          }
         ],
         "coordinates": {
          "latitude": 45.4270979937672,
          "longitude": -75.6890030577779
         },
         "display_phone": "+1 613-789-0009",
         "distance": 371.52872284234627,
         "id": "mlIto2CDC54V4y6C6LAc-A",
         "image_url": "https://s3-media4.fl.yelpcdn.com/bphoto/gjO4MJOL6j-Nsc7WjdXEog/o.jpg",
         "is_closed": false,
         "location": {
          "address1": "178 Rideau Street",
          "address2": "",
          "address3": null,
          "city": "Ottawa",
          "country": "CA",
          "display_address": [
           "178 Rideau Street",
           "Ottawa, ON K1N 5X6",
           "Canada"
          ],
          "state": "ON",
          "zip_code": "K1N 5X6"
         },
         "name": "Food Mood: Korean & Japanese Kitchen",
         "phone": "+16137890009",
         "price": "$$",
         "rating": 4.5,
         "review_count": 56,
         "transactions": [],
         "url": "https://www.yelp.com/biz/food-mood-korean-and-japanese-kitchen-ottawa?adjust_creative=Lo1vDDSapBzft8v086Lrdw&utm_campaign=yelp_api_v3&utm_medium=api_v3_business_search&utm_source=Lo1vDDSapBzft8v086Lrdw"
        },
        {
         "alias": "art-is-in-bakery-ottawa-2",
         "categories": [
          {
           "alias": "bakeries",
           "title": "Bakeries"
          },
          {
           "alias": "sandwiches",
           "title": "Sandwiches"
          }
         ],
         "coordinates": {
          "latitude": 45.409177,
          "longitude": -75.71782
         },
         "display_phone": "+1 613-695-1226",
         "distance": 3104.5786322133063,
         "id": "TvH2AEOafSPW1HvC3lGBow",
         "image_url": "https://s3-media3.fl.yelpcdn.com/bphoto/qjLbxH96tw-C0O_fiAD_1Q/o.jpg",
         "is_closed": false,
         "location": {
          "address1": "250 City Centre Avenue",
          "address2": "Unit 112",
          "address3": "",
          "city": "Ottawa",
          "country": "CA",
          "display_address": [
           "250 City Centre Avenue",
           "Unit 112",
           "Ottawa, ON K1R 1C7",
           "Canada"
          ],
          "state": "ON",
          "zip_code": "K1R 1C7"
         },
         "name": "Art Is In Bakery",
         "phone": "+16136951226",
         "price": "$$",
         "rating": 4,
         "review_count": 302,
         "transactions": [],
         "url": "https://www.yelp.com/biz/art-is-in-bakery-ottawa-2?adjust_creative=Lo1vDDSapBzft8v086Lrdw&utm_campaign=yelp_api_v3&utm_medium=api_v3_business_search&utm_source=Lo1vDDSapBzft8v086Lrdw"
        },
        {
         "alias": "kochin-kitchen-ottawa",
         "categories": [
          {
           "alias": "indpak",
           "title": "Indian"
          }
         ],
         "coordinates": {
          "latitude": 45.4301987,
          "longitude": -75.6919403
         },
         "display_phone": "+1 613-562-4461",
         "distance": 55.14580424924764,
         "id": "DySre2A-UxXEucdXIxxODw",
         "image_url": "https://s3-media2.fl.yelpcdn.com/bphoto/9FAkppW8XRgmJvQ4ax8UZA/o.jpg",
         "is_closed": false,
         "location": {
          "address1": "271 Dalhousie Street",
          "address2": null,
          "address3": "",
          "city": "Ottawa",
          "country": "CA",
          "display_address": [
           "271 Dalhousie Street",
           "Ottawa, ON K1N 7E5",
           "Canada"
          ],
          "state": "ON",
          "zip_code": "K1N 7E5"
         },
         "name": "Kochin Kitchen",
         "phone": "+16135624461",
         "price": "$$",
         "rating": 4,
         "review_count": 73,
         "transactions": [],
         "url": "https://www.yelp.com/biz/kochin-kitchen-ottawa?adjust_creative=Lo1vDDSapBzft8v086Lrdw&utm_campaign=yelp_api_v3&utm_medium=api_v3_business_search&utm_source=Lo1vDDSapBzft8v086Lrdw"
        },
        {
         "alias": "the-keg-steakhouse-and-bar-ottawa-3",
         "categories": [
          {
           "alias": "steak",
           "title": "Steakhouses"
          },
          {
           "alias": "bars",
           "title": "Bars"
          },
          {
           "alias": "seafood",
           "title": "Seafood"
          }
         ],
         "coordinates": {
          "latitude": 45.42880444372409,
          "longitude": -75.69197047497123
         },
         "display_phone": "+1 613-241-8514",
         "distance": 142.85761389969477,
         "id": "1Awidw4gQhsk10eNm3n0MQ",
         "image_url": "https://s3-media3.fl.yelpcdn.com/bphoto/D2TTypcMpNMmvUneQhoPMw/o.jpg",
         "is_closed": false,
         "location": {
          "address1": "75 York Street",
          "address2": "",
          "address3": "",
          "city": "Ottawa",
          "country": "CA",
          "display_address": [
           "75 York Street",
           "Ottawa, ON K1N 5T2",
           "Canada"
          ],
          "state": "ON",
          "zip_code": "K1N 5T2"
         },
         "name": "The Keg Steakhouse And Bar",
         "phone": "+16132418514",
         "price": "$$$",
         "rating": 4,
         "review_count": 72,
         "transactions": [],
         "url": "https://www.yelp.com/biz/the-keg-steakhouse-and-bar-ottawa-3?adjust_creative=Lo1vDDSapBzft8v086Lrdw&utm_campaign=yelp_api_v3&utm_medium=api_v3_business_search&utm_source=Lo1vDDSapBzft8v086Lrdw"
        },
        {
         "alias": "zaks-diner-ottawa",
         "categories": [
          {
           "alias": "diners",
           "title": "Diners"
          }
         ],
         "coordinates": {
          "latitude": 45.4283342859617,
          "longitude": -75.6935446547828
         },
         "display_phone": "+1 613-241-2401",
         "distance": 253.7346052777941,
         "id": "atrJdohtkbaTATA_w5Na3w",
         "image_url": "https://s3-media2.fl.yelpcdn.com/bphoto/iVWtpJ9LctFVV1c1mpZOow/o.jpg",
         "is_closed": false,
         "location": {
          "address1": "14 ByWard Market Square",
          "address2": "",
          "address3": "",
          "city": "Ottawa",
          "country": "CA",
          "display_address": [
           "14 ByWard Market Square",
           "Ottawa, ON K1N 7A1",
           "Canada"
          ],
          "state": "ON",
          "zip_code": "K1N 7A1"
         },
         "name": "Zak's Diner",
         "phone": "+16132412401",
         "price": "$$",
         "rating": 3.5,
         "review_count": 201,
         "transactions": [],
         "url": "https://www.yelp.com/biz/zaks-diner-ottawa?adjust_creative=Lo1vDDSapBzft8v086Lrdw&utm_campaign=yelp_api_v3&utm_medium=api_v3_business_search&utm_source=Lo1vDDSapBzft8v086Lrdw"
        },
        {
         "alias": "joey-rideau-ottawa",
         "categories": [
          {
           "alias": "newcanadian",
           "title": "Canadian (New)"
          }
         ],
         "coordinates": {
          "latitude": 45.4263960461085,
          "longitude": -75.6905810407226
         },
         "display_phone": "+1 613-680-5639",
         "distance": 406.1640897502148,
         "id": "CWwXzZu_ITzyRgX2sv0IRw",
         "image_url": "https://s3-media3.fl.yelpcdn.com/bphoto/Izo_5AbVnoY6Wl5aoNoA-Q/o.jpg",
         "is_closed": false,
         "location": {
          "address1": "50 Rideau Street",
          "address2": "E106",
          "address3": null,
          "city": "OTTAWA",
          "country": "CA",
          "display_address": [
           "50 Rideau Street",
           "E106",
           "OTTAWA, ON K1N 9J7",
           "Canada"
          ],
          "state": "ON",
          "zip_code": "K1N 9J7"
         },
         "name": "JOEY Rideau",
         "phone": "+16136805639",
         "price": "$$$",
         "rating": 4,
         "review_count": 88,
         "transactions": [],
         "url": "https://www.yelp.com/biz/joey-rideau-ottawa?adjust_creative=Lo1vDDSapBzft8v086Lrdw&utm_campaign=yelp_api_v3&utm_medium=api_v3_business_search&utm_source=Lo1vDDSapBzft8v086Lrdw"
        },
        {
         "alias": "level-one-game-pub-ottawa",
         "categories": [
          {
           "alias": "lounges",
           "title": "Lounges"
          },
          {
           "alias": "cafes",
           "title": "Cafes"
          },
          {
           "alias": "arcades",
           "title": "Arcades"
          }
         ],
         "coordinates": {
          "latitude": 45.4270152,
          "longitude": -75.6886615
         },
         "display_phone": "+1 613-695-7529",
         "distance": 393.0677545356184,
         "id": "X-ODCAcUn03dgSZ_QnjcLQ",
         "image_url": "https://s3-media2.fl.yelpcdn.com/bphoto/nnSdzqDAuke8vb0sxTNaxA/o.jpg",
         "is_closed": false,
         "location": {
          "address1": "14 Waller Street",
          "address2": "",
          "address3": "",
          "city": "Ottawa",
          "country": "CA",
          "display_address": [
           "14 Waller Street",
           "Ottawa, ON K1N 9C4",
           "Canada"
          ],
          "state": "ON",
          "zip_code": "K1N 9C4"
         },
         "name": "Level One Game Pub",
         "phone": "+16136957529",
         "price": "$$",
         "rating": 4.5,
         "review_count": 57,
         "transactions": [],
         "url": "https://www.yelp.com/biz/level-one-game-pub-ottawa?adjust_creative=Lo1vDDSapBzft8v086Lrdw&utm_campaign=yelp_api_v3&utm_medium=api_v3_business_search&utm_source=Lo1vDDSapBzft8v086Lrdw"
        },
        {
         "alias": "fairouz-ottawa",
         "categories": [
          {
           "alias": "mideastern",
           "title": "Middle Eastern"
          }
         ],
         "coordinates": {
          "latitude": 45.4283732,
          "longitude": -75.695106
         },
         "display_phone": "+1 613-422-7700",
         "distance": 345.8344731926348,
         "id": "Ey1azXaPPCdfcHDezNEFkA",
         "image_url": "https://s3-media2.fl.yelpcdn.com/bphoto/tujtN1Km1Rc2ji3pECsIjQ/o.jpg",
         "is_closed": false,
         "location": {
          "address1": "15 Clarence Street",
          "address2": "",
          "address3": "Byward Market",
          "city": "Ottawa",
          "country": "CA",
          "display_address": [
           "15 Clarence Street",
           "Byward Market",
           "Ottawa, ON K2P 0J8",
           "Canada"
          ],
          "state": "ON",
          "zip_code": "K2P 0J8"
         },
         "name": "Fairouz",
         "phone": "+16134227700",
         "price": "$$$",
         "rating": 4,
         "review_count": 58,
         "transactions": [],
         "url": "https://www.yelp.com/biz/fairouz-ottawa?adjust_creative=Lo1vDDSapBzft8v086Lrdw&utm_campaign=yelp_api_v3&utm_medium=api_v3_business_search&utm_source=Lo1vDDSapBzft8v086Lrdw"
        },
        {
         "alias": "stella-luna-gelato-cafe-ottawa-2",
         "categories": [
          {
           "alias": "icecream",
           "title": "Ice Cream & Frozen Yogurt"
          },
          {
           "alias": "desserts",
           "title": "Desserts"
          },
          {
           "alias": "cafes",
           "title": "Cafes"
          }
         ],
         "coordinates": {
          "latitude": 45.39391493204746,
          "longitude": -75.68306450194642
         },
         "display_phone": "+1 613-523-1116",
         "distance": 4065.2037858409685,
         "id": "fagiz7VJJZvSSL_9w6KGQA",
         "image_url": "https://s3-media3.fl.yelpcdn.com/bphoto/IJ8E4dRcHXonlL4B-c3gBQ/o.jpg",
         "is_closed": false,
         "location": {
          "address1": "1103 Bank St",
          "address2": "",
          "address3": "",
          "city": "Ottawa",
          "country": "CA",
          "display_address": [
           "1103 Bank St",
           "Ottawa, ON K1S 3X4",
           "Canada"
          ],
          "state": "ON",
          "zip_code": "K1S 3X4"
         },
         "name": "Stella Luna Gelato Cafe",
         "phone": "+16135231116",
         "price": "$",
         "rating": 4.5,
         "review_count": 124,
         "transactions": [],
         "url": "https://www.yelp.com/biz/stella-luna-gelato-cafe-ottawa-2?adjust_creative=Lo1vDDSapBzft8v086Lrdw&utm_campaign=yelp_api_v3&utm_medium=api_v3_business_search&utm_source=Lo1vDDSapBzft8v086Lrdw"
        },
        {
         "alias": "the-green-door-vegetarian-restaurant-ottawa",
         "categories": [
          {
           "alias": "vegetarian",
           "title": "Vegetarian"
          },
          {
           "alias": "buffets",
           "title": "Buffets"
          },
          {
           "alias": "vegan",
           "title": "Vegan"
          }
         ],
         "coordinates": {
          "latitude": 45.4082384,
          "longitude": -75.6777072
         },
         "display_phone": "+1 613-234-9597",
         "distance": 2633.9909537039925,
         "id": "9O2VS-rFKig4diiYkMYstw",
         "image_url": "https://s3-media1.fl.yelpcdn.com/bphoto/HTOapWKPKiXFWjAKuznmug/o.jpg",
         "is_closed": false,
         "location": {
          "address1": "198 Main Street",
          "address2": "",
          "address3": "",
          "city": "Ottawa",
          "country": "CA",
          "display_address": [
           "198 Main Street",
           "Ottawa, ON K1S 1C6",
           "Canada"
          ],
          "state": "ON",
          "zip_code": "K1S 1C6"
         },
         "name": "The Green Door Vegetarian Restaurant",
         "phone": "+16132349597",
         "price": "$$",
         "rating": 4.5,
         "review_count": 136,
         "transactions": [],
         "url": "https://www.yelp.com/biz/the-green-door-vegetarian-restaurant-ottawa?adjust_creative=Lo1vDDSapBzft8v086Lrdw&utm_campaign=yelp_api_v3&utm_medium=api_v3_business_search&utm_source=Lo1vDDSapBzft8v086Lrdw"
        },
        {
         "alias": "luxe-bistro-ottawa",
         "categories": [
          {
           "alias": "steak",
           "title": "Steakhouses"
          }
         ],
         "coordinates": {
          "latitude": 45.4282281,
          "longitude": -75.6934303
         },
         "display_phone": "+1 613-241-8805",
         "distance": 255.66311017234207,
         "id": "wZdaZD6cHWLg8n8Ln33rRg",
         "image_url": "https://s3-media4.fl.yelpcdn.com/bphoto/FDI3o2TbHwJby1w6gaGE6w/o.jpg",
         "is_closed": false,
         "location": {
          "address1": "47 York St",
          "address2": "",
          "address3": "",
          "city": "Ottawa",
          "country": "CA",
          "display_address": [
           "47 York St",
           "Ottawa, ON K1N 5S7",
           "Canada"
          ],
          "state": "ON",
          "zip_code": "K1N 5S7"
         },
         "name": "Luxe Bistro",
         "phone": "+16132418805",
         "price": "$$$",
         "rating": 4,
         "review_count": 84,
         "transactions": [],
         "url": "https://www.yelp.com/biz/luxe-bistro-ottawa?adjust_creative=Lo1vDDSapBzft8v086Lrdw&utm_campaign=yelp_api_v3&utm_medium=api_v3_business_search&utm_source=Lo1vDDSapBzft8v086Lrdw"
        },
        {
         "alias": "the-whalesbone-oyster-house-ottawa",
         "categories": [
          {
           "alias": "seafood",
           "title": "Seafood"
          }
         ],
         "coordinates": {
          "latitude": 45.41217,
          "longitude": -75.69399
         },
         "display_phone": "+1 613-231-8569",
         "distance": 1985.032705445184,
         "id": "pDfm17CHCGbFz5syjJdctg",
         "image_url": "https://s3-media4.fl.yelpcdn.com/bphoto/DWO_De0Bi5UepQ0ua9TLPA/o.jpg",
         "is_closed": false,
         "location": {
          "address1": "430 Bank Street",
          "address2": "",
          "address3": "",
          "city": "Ottawa",
          "country": "CA",
          "display_address": [
           "430 Bank Street",
           "Ottawa, ON K2P 1Y8",
           "Canada"
          ],
          "state": "ON",
          "zip_code": "K2P 1Y8"
         },
         "name": "The Whalesbone Oyster House",
         "phone": "+16132318569",
         "price": "$$$",
         "rating": 4.5,
         "review_count": 104,
         "transactions": [],
         "url": "https://www.yelp.com/biz/the-whalesbone-oyster-house-ottawa?adjust_creative=Lo1vDDSapBzft8v086Lrdw&utm_campaign=yelp_api_v3&utm_medium=api_v3_business_search&utm_source=Lo1vDDSapBzft8v086Lrdw"
        },
        {
         "alias": "pili-pili-ottawa-2",
         "categories": [
          {
           "alias": "bbq",
           "title": "Barbeque"
          }
         ],
         "coordinates": {
          "latitude": 45.4318924,
          "longitude": -75.6935577
         },
         "display_phone": "+1 613-695-7404",
         "distance": 284.33425600595035,
         "id": "j_pQ5Tui1FJ9TnKGpDqnnA",
         "image_url": "https://s3-media3.fl.yelpcdn.com/bphoto/OurwpX4cRMtigHPx6FyaIg/o.jpg",
         "is_closed": false,
         "location": {
          "address1": "205 Dalhousie Street",
          "address2": "",
          "address3": "",
          "city": "Ottawa",
          "country": "CA",
          "display_address": [
           "205 Dalhousie Street",
           "Ottawa, ON K1N 7C9",
           "Canada"
          ],
          "state": "ON",
          "zip_code": "K1N 7C9"
         },
         "name": "Pili Pili",
         "phone": "+16136957404",
         "price": "$$",
         "rating": 4.5,
         "review_count": 48,
         "transactions": [],
         "url": "https://www.yelp.com/biz/pili-pili-ottawa-2?adjust_creative=Lo1vDDSapBzft8v086Lrdw&utm_campaign=yelp_api_v3&utm_medium=api_v3_business_search&utm_source=Lo1vDDSapBzft8v086Lrdw"
        },
        {
         "alias": "das-lokal-ottawa",
         "categories": [
          {
           "alias": "german",
           "title": "German"
          },
          {
           "alias": "modern_european",
           "title": "Modern European"
          },
          {
           "alias": "newcanadian",
           "title": "Canadian (New)"
          }
         ],
         "coordinates": {
          "latitude": 45.4320605429586,
          "longitude": -75.6940825204347
         },
         "display_phone": "+1 613-695-1688",
         "distance": 312.84043449225464,
         "id": "wJiE_KLTx6aryIG2lVoy-w",
         "image_url": "https://s3-media2.fl.yelpcdn.com/bphoto/mNey6Vi0fKBHLxeJnBofMw/o.jpg",
         "is_closed": false,
         "location": {
          "address1": "190 Dalhousie Street",
          "address2": "",
          "address3": "",
          "city": "Ottawa",
          "country": "CA",
          "display_address": [
           "190 Dalhousie Street",
           "Ottawa, ON K1N 7C7",
           "Canada"
          ],
          "state": "ON",
          "zip_code": "K1N 7C7"
         },
         "name": "Das Lokal",
         "phone": "+16136951688",
         "price": "$$",
         "rating": 4,
         "review_count": 56,
         "transactions": [],
         "url": "https://www.yelp.com/biz/das-lokal-ottawa?adjust_creative=Lo1vDDSapBzft8v086Lrdw&utm_campaign=yelp_api_v3&utm_medium=api_v3_business_search&utm_source=Lo1vDDSapBzft8v086Lrdw"
        },
        {
         "alias": "the-king-eddy-ottawa",
         "categories": [
          {
           "alias": "burgers",
           "title": "Burgers"
          },
          {
           "alias": "diners",
           "title": "Diners"
          },
          {
           "alias": "breakfast_brunch",
           "title": "Breakfast & Brunch"
          }
         ],
         "coordinates": {
          "latitude": 45.4287909819952,
          "longitude": -75.6939682959368
         },
         "display_phone": "+1 613-680-1700",
         "distance": 245.99961493002374,
         "id": "cgsUHKiNrqBu7TLQfmt5FA",
         "image_url": "https://s3-media1.fl.yelpcdn.com/bphoto/Tl5soqDDzvjNVJJMLuui5w/o.jpg",
         "is_closed": false,
         "location": {
          "address1": "45 Clarence Street",
          "address2": null,
          "address3": "",
          "city": "Ottawa",
          "country": "CA",
          "display_address": [
           "45 Clarence Street",
           "Ottawa, ON K1N 5P4",
           "Canada"
          ],
          "state": "ON",
          "zip_code": "K1N 5P4"
         },
         "name": "The King Eddy",
         "phone": "+16136801700",
         "price": "$$",
         "rating": 3.5,
         "review_count": 98,
         "transactions": [],
         "url": "https://www.yelp.com/biz/the-king-eddy-ottawa?adjust_creative=Lo1vDDSapBzft8v086Lrdw&utm_campaign=yelp_api_v3&utm_medium=api_v3_business_search&utm_source=Lo1vDDSapBzft8v086Lrdw"
        },
        {
         "alias": "the-grand-pizzeria-ottawa",
         "categories": [
          {
           "alias": "italian",
           "title": "Italian"
          },
          {
           "alias": "pizza",
           "title": "Pizza"
          },
          {
           "alias": "bars",
           "title": "Bars"
          }
         ],
         "coordinates": {
          "latitude": 45.4271412,
          "longitude": -75.6914101
         },
         "display_phone": "+1 613-244-9995",
         "distance": 319.04334791131896,
         "id": "WIK4rgZR_oQ_gooCE4W_4A",
         "image_url": "https://s3-media2.fl.yelpcdn.com/bphoto/Kvfx7xMMm8UIfKjKw_mkMQ/o.jpg",
         "is_closed": false,
         "location": {
          "address1": "74 George Street",
          "address2": "",
          "address3": "",
          "city": "Ottawa",
          "country": "CA",
          "display_address": [
           "74 George Street",
           "Ottawa, ON K1N 5W1",
           "Canada"
          ],
          "state": "ON",
          "zip_code": "K1N 5W1"
         },
         "name": "The Grand Pizzeria",
         "phone": "+16132449995",
         "price": "$$",
         "rating": 3.5,
         "review_count": 146,
         "transactions": [],
         "url": "https://www.yelp.com/biz/the-grand-pizzeria-ottawa?adjust_creative=Lo1vDDSapBzft8v086Lrdw&utm_campaign=yelp_api_v3&utm_medium=api_v3_business_search&utm_source=Lo1vDDSapBzft8v086Lrdw"
        },
        {
         "alias": "oz-kafe-ottawa",
         "categories": [
          {
           "alias": "lounges",
           "title": "Lounges"
          },
          {
           "alias": "newcanadian",
           "title": "Canadian (New)"
          }
         ],
         "coordinates": {
          "latitude": 45.4274174,
          "longitude": -75.6944421
         },
         "display_phone": "+1 613-234-0907",
         "distance": 376.5606798123743,
         "id": "1w0Cf2CzNmTCtiWe0fbNCg",
         "image_url": "https://s3-media4.fl.yelpcdn.com/bphoto/Za6zZnJcLEmE-UckciOW9w/o.jpg",
         "is_closed": false,
         "location": {
          "address1": "10 York St",
          "address2": "",
          "address3": "",
          "city": "Ottawa",
          "country": "CA",
          "display_address": [
           "10 York St",
           "Ottawa, ON K1N 5S6",
           "Canada"
          ],
          "state": "ON",
          "zip_code": "K1N 5S6"
         },
         "name": "Oz Kafe",
         "phone": "+16132340907",
         "price": "$$$",
         "rating": 4.5,
         "review_count": 47,
         "transactions": [],
         "url": "https://www.yelp.com/biz/oz-kafe-ottawa?adjust_creative=Lo1vDDSapBzft8v086Lrdw&utm_campaign=yelp_api_v3&utm_medium=api_v3_business_search&utm_source=Lo1vDDSapBzft8v086Lrdw"
        },
        {
         "alias": "milestones-restaurants-ottawa-3",
         "categories": [
          {
           "alias": "newcanadian",
           "title": "Canadian (New)"
          },
          {
           "alias": "comfortfood",
           "title": "Comfort Food"
          },
          {
           "alias": "bars",
           "title": "Bars"
          }
         ],
         "coordinates": {
          "latitude": 45.42559662033439,
          "longitude": -75.6941517354431
         },
         "display_phone": "+1 613-789-5432",
         "distance": 537.639390121535,
         "id": "_W9Wr7_ru8rPe_ATdqIH7w",
         "image_url": "https://s3-media1.fl.yelpcdn.com/bphoto/dRjnU0PMVk1caFhNtuo3dg/o.jpg",
         "is_closed": false,
         "location": {
          "address1": "700 Sussex Dr",
          "address2": "Unit 201",
          "address3": "",
          "city": "Ottawa",
          "country": "CA",
          "display_address": [
           "700 Sussex Dr",
           "Unit 201",
           "Ottawa, ON K1N 1K4",
           "Canada"
          ],
          "state": "ON",
          "zip_code": "K1N 1K4"
         },
         "name": "Milestones Restaurants",
         "phone": "+16137895432",
         "price": "$$",
         "rating": 4,
         "review_count": 99,
         "transactions": [],
         "url": "https://www.yelp.com/biz/milestones-restaurants-ottawa-3?adjust_creative=Lo1vDDSapBzft8v086Lrdw&utm_campaign=yelp_api_v3&utm_medium=api_v3_business_search&utm_source=Lo1vDDSapBzft8v086Lrdw"
        },
        {
         "alias": "elgin-street-diner-ottawa",
         "categories": [
          {
           "alias": "diners",
           "title": "Diners"
          },
          {
           "alias": "newcanadian",
           "title": "Canadian (New)"
          }
         ],
         "coordinates": {
          "latitude": 45.414916047858,
          "longitude": -75.6880245901671
         },
         "display_phone": "+1 613-237-9700",
         "distance": 1698.166209320535,
         "id": "Cv1b8K_dTgcOFBS2e2C9fA",
         "image_url": "https://s3-media4.fl.yelpcdn.com/bphoto/VXpvsH0y-8QqE5oF66md8g/o.jpg",
         "is_closed": false,
         "location": {
          "address1": "374 Elgin Street",
          "address2": "",
          "address3": "",
          "city": "Ottawa",
          "country": "CA",
          "display_address": [
           "374 Elgin Street",
           "Ottawa, ON K2P 1N1",
           "Canada"
          ],
          "state": "ON",
          "zip_code": "K2P 1N1"
         },
         "name": "Elgin Street Diner",
         "phone": "+16132379700",
         "price": "$$",
         "rating": 3.5,
         "review_count": 229,
         "transactions": [],
         "url": "https://www.yelp.com/biz/elgin-street-diner-ottawa?adjust_creative=Lo1vDDSapBzft8v086Lrdw&utm_campaign=yelp_api_v3&utm_medium=api_v3_business_search&utm_source=Lo1vDDSapBzft8v086Lrdw"
        },
        {
         "alias": "pure-kitchen-elgin-ottawa-3",
         "categories": [
          {
           "alias": "vegetarian",
           "title": "Vegetarian"
          },
          {
           "alias": "juicebars",
           "title": "Juice Bars & Smoothies"
          }
         ],
         "coordinates": {
          "latitude": 45.41584,
          "longitude": -75.68896
         },
         "display_phone": "+1 613-233-7873",
         "distance": 1583.3740192411929,
         "id": "ILqJF1ZXyFjROw50XgkqGw",
         "image_url": "https://s3-media4.fl.yelpcdn.com/bphoto/wPomHRNyK3MnvksnjZwjgw/o.jpg",
         "is_closed": false,
         "location": {
          "address1": "340 Elgin Street",
          "address2": "",
          "address3": "",
          "city": "Ottawa",
          "country": "CA",
          "display_address": [
           "340 Elgin Street",
           "Ottawa, ON K2P 1M6",
           "Canada"
          ],
          "state": "ON",
          "zip_code": "K2P 1M6"
         },
         "name": "Pure Kitchen Elgin",
         "phone": "+16132337873",
         "price": "$$",
         "rating": 4,
         "review_count": 105,
         "transactions": [],
         "url": "https://www.yelp.com/biz/pure-kitchen-elgin-ottawa-3?adjust_creative=Lo1vDDSapBzft8v086Lrdw&utm_campaign=yelp_api_v3&utm_medium=api_v3_business_search&utm_source=Lo1vDDSapBzft8v086Lrdw"
        },
        {
         "alias": "the-ministry-of-coffee-ottawa",
         "categories": [
          {
           "alias": "coffee",
           "title": "Coffee & Tea"
          },
          {
           "alias": "cafes",
           "title": "Cafes"
          }
         ],
         "coordinates": {
          "latitude": 45.4175109,
          "longitude": -75.689959
         },
         "display_phone": "+1 613-255-3180",
         "distance": 1393.9905550225074,
         "id": "Np-XjjizKXxdYXoZ9PBtPQ",
         "image_url": "https://s3-media4.fl.yelpcdn.com/bphoto/45otnBmCkGCI00W4BuJzqw/o.jpg",
         "is_closed": false,
         "location": {
          "address1": "279 Elgin St",
          "address2": "",
          "address3": "",
          "city": "Ottawa",
          "country": "CA",
          "display_address": [
           "279 Elgin St",
           "Ottawa, ON K2P 1M1",
           "Canada"
          ],
          "state": "ON",
          "zip_code": "K2P 1M1"
         },
         "name": "The Ministry of Coffee",
         "phone": "+16132553180",
         "price": "$",
         "rating": 4,
         "review_count": 105,
         "transactions": [],
         "url": "https://www.yelp.com/biz/the-ministry-of-coffee-ottawa?adjust_creative=Lo1vDDSapBzft8v086Lrdw&utm_campaign=yelp_api_v3&utm_medium=api_v3_business_search&utm_source=Lo1vDDSapBzft8v086Lrdw"
        },
        {
         "alias": "bread-and-sons-bakery-ottawa",
         "categories": [
          {
           "alias": "bakeries",
           "title": "Bakeries"
          },
          {
           "alias": "delis",
           "title": "Delis"
          },
          {
           "alias": "pizza",
           "title": "Pizza"
          }
         ],
         "coordinates": {
          "latitude": 45.41774,
          "longitude": -75.69799
         },
         "display_phone": "+1 613-230-5302",
         "distance": 1467.7812335591,
         "id": "0Upvwi8GXG_mnBVfXD0H7w",
         "image_url": "https://s3-media4.fl.yelpcdn.com/bphoto/f5b6ILoQmiUsWVCwXZeeXg/o.jpg",
         "is_closed": false,
         "location": {
          "address1": "195 Bank Street",
          "address2": "",
          "address3": "",
          "city": "Ottawa",
          "country": "CA",
          "display_address": [
           "195 Bank Street",
           "Ottawa, ON K2P 1W7",
           "Canada"
          ],
          "state": "ON",
          "zip_code": "K2P 1W7"
         },
         "name": "Bread & Sons Bakery",
         "phone": "+16132305302",
         "price": "$",
         "rating": 4.5,
         "review_count": 81,
         "transactions": [],
         "url": "https://www.yelp.com/biz/bread-and-sons-bakery-ottawa?adjust_creative=Lo1vDDSapBzft8v086Lrdw&utm_campaign=yelp_api_v3&utm_medium=api_v3_business_search&utm_source=Lo1vDDSapBzft8v086Lrdw"
        },
        {
         "alias": "fraser-cafe-ottawa",
         "categories": [
          {
           "alias": "newcanadian",
           "title": "Canadian (New)"
          },
          {
           "alias": "cafes",
           "title": "Cafes"
          }
         ],
         "coordinates": {
          "latitude": 45.440231,
          "longitude": -75.676136
         },
         "display_phone": "+1 613-749-1444",
         "distance": 1642.7447554073335,
         "id": "aFLZ-otkzWAsrGvBD44B2g",
         "image_url": "https://s3-media2.fl.yelpcdn.com/bphoto/H1qqE5x2MEcgvDz8eTOC1g/o.jpg",
         "is_closed": false,
         "location": {
          "address1": "7 Springfield Road",
          "address2": "",
          "address3": "",
          "city": "Ottawa",
          "country": "CA",
          "display_address": [
           "7 Springfield Road",
           "Ottawa, ON K1M",
           "Canada"
          ],
          "state": "ON",
          "zip_code": "K1M"
         },
         "name": "Fraser Cafe",
         "phone": "+16137491444",
         "price": "$$$",
         "rating": 4.5,
         "review_count": 79,
         "transactions": [],
         "url": "https://www.yelp.com/biz/fraser-cafe-ottawa?adjust_creative=Lo1vDDSapBzft8v086Lrdw&utm_campaign=yelp_api_v3&utm_medium=api_v3_business_search&utm_source=Lo1vDDSapBzft8v086Lrdw"
        },
        {
         "alias": "chez-lucien-ottawa",
         "categories": [
          {
           "alias": "bars",
           "title": "Bars"
          },
          {
           "alias": "french",
           "title": "French"
          },
          {
           "alias": "burgers",
           "title": "Burgers"
          }
         ],
         "coordinates": {
          "latitude": 45.4304905960655,
          "longitude": -75.6920019239325
         },
         "display_phone": "+1 613-241-3533",
         "distance": 74.45510219918273,
         "id": "Zdvjq4DjFzOCK7NgReT0zw",
         "image_url": "https://s3-media2.fl.yelpcdn.com/bphoto/q-YRuZsnmLJicE_HMjn-3A/o.jpg",
         "is_closed": false,
         "location": {
          "address1": "137 Murray St",
          "address2": "",
          "address3": "",
          "city": "Ottawa",
          "country": "CA",
          "display_address": [
           "137 Murray St",
           "Ottawa, ON K1N 5M7",
           "Canada"
          ],
          "state": "ON",
          "zip_code": "K1N 5M7"
         },
         "name": "Chez Lucien",
         "phone": "+16132413533",
         "price": "$$",
         "rating": 3.5,
         "review_count": 97,
         "transactions": [],
         "url": "https://www.yelp.com/biz/chez-lucien-ottawa?adjust_creative=Lo1vDDSapBzft8v086Lrdw&utm_campaign=yelp_api_v3&utm_medium=api_v3_business_search&utm_source=Lo1vDDSapBzft8v086Lrdw"
        },
        {
         "alias": "india-curry-and-kebab-house-ottawa",
         "categories": [
          {
           "alias": "indpak",
           "title": "Indian"
          },
          {
           "alias": "kebab",
           "title": "Kebab"
          }
         ],
         "coordinates": {
          "latitude": 45.4287,
          "longitude": -75.69455
         },
         "display_phone": "+1 613-680-0800",
         "distance": 282.5188539743744,
         "id": "_MsF3sbus-xor0ly6PqOmw",
         "image_url": "https://s3-media4.fl.yelpcdn.com/bphoto/g0wZfo_3c8MAHU6o0kN-xA/o.jpg",
         "is_closed": false,
         "location": {
          "address1": "39 Clarence Street",
          "address2": null,
          "address3": "",
          "city": "Ottawa",
          "country": "CA",
          "display_address": [
           "39 Clarence Street",
           "Ottawa, ON K1N 5P4",
           "Canada"
          ],
          "state": "ON",
          "zip_code": "K1N 5P4"
         },
         "name": "India Curry And Kebab House",
         "phone": "+16136800800",
         "price": "$$",
         "rating": 4,
         "review_count": 49,
         "transactions": [],
         "url": "https://www.yelp.com/biz/india-curry-and-kebab-house-ottawa?adjust_creative=Lo1vDDSapBzft8v086Lrdw&utm_campaign=yelp_api_v3&utm_medium=api_v3_business_search&utm_source=Lo1vDDSapBzft8v086Lrdw"
        },
        {
         "alias": "the-whalesbone-ottawa",
         "categories": [
          {
           "alias": "seafood",
           "title": "Seafood"
          },
          {
           "alias": "seafoodmarkets",
           "title": "Seafood Markets"
          }
         ],
         "coordinates": {
          "latitude": 45.4188883,
          "longitude": -75.691076
         },
         "display_phone": "+1 613-505-4300",
         "distance": 1236.841240591685,
         "id": "0n-Ar7Luogp49oqxO5Rwmw",
         "image_url": "https://s3-media4.fl.yelpcdn.com/bphoto/4s60egS_FZ7TXy4mb3j9Vg/o.jpg",
         "is_closed": false,
         "location": {
          "address1": "231 Elgin Street",
          "address2": "",
          "address3": "",
          "city": "Ottawa",
          "country": "CA",
          "display_address": [
           "231 Elgin Street",
           "Ottawa, ON K2P 1L6",
           "Canada"
          ],
          "state": "ON",
          "zip_code": "K2P 1L6"
         },
         "name": "The Whalesbone",
         "phone": "+16135054300",
         "price": "$$$",
         "rating": 4,
         "review_count": 90,
         "transactions": [],
         "url": "https://www.yelp.com/biz/the-whalesbone-ottawa?adjust_creative=Lo1vDDSapBzft8v086Lrdw&utm_campaign=yelp_api_v3&utm_medium=api_v3_business_search&utm_source=Lo1vDDSapBzft8v086Lrdw"
        },
        {
         "alias": "metropolitain-brasserie-ottawa-2",
         "categories": [
          {
           "alias": "french",
           "title": "French"
          },
          {
           "alias": "seafood",
           "title": "Seafood"
          },
          {
           "alias": "brasseries",
           "title": "Brasseries"
          }
         ],
         "coordinates": {
          "latitude": 45.4254955,
          "longitude": -75.6934855
         },
         "display_phone": "+1 613-562-1160",
         "distance": 529.2315982002585,
         "id": "qYvdmdzxVVRR-GjNBlnBag",
         "image_url": "https://s3-media2.fl.yelpcdn.com/bphoto/HwDu5RBdn9-juhxiyPGBDQ/o.jpg",
         "is_closed": false,
         "location": {
          "address1": "700 Sussex Drive",
          "address2": "",
          "address3": "",
          "city": "Ottawa",
          "country": "CA",
          "display_address": [
           "700 Sussex Drive",
           "Ottawa, ON K1N 1K4",
           "Canada"
          ],
          "state": "ON",
          "zip_code": "K1N 1K4"
         },
         "name": "Metropolitain Brasserie",
         "phone": "+16135621160",
         "price": "$$$",
         "rating": 3.5,
         "review_count": 87,
         "transactions": [],
         "url": "https://www.yelp.com/biz/metropolitain-brasserie-ottawa-2?adjust_creative=Lo1vDDSapBzft8v086Lrdw&utm_campaign=yelp_api_v3&utm_medium=api_v3_business_search&utm_source=Lo1vDDSapBzft8v086Lrdw"
        },
        {
         "alias": "union-local-613-ottawa-2",
         "categories": [
          {
           "alias": "southern",
           "title": "Southern"
          },
          {
           "alias": "bars",
           "title": "Bars"
          },
          {
           "alias": "breakfast_brunch",
           "title": "Breakfast & Brunch"
          }
         ],
         "coordinates": {
          "latitude": 45.41621,
          "longitude": -75.6949999
         },
         "display_phone": "+1 613-231-1010",
         "distance": 1564.6089656107029,
         "id": "oFx41YR2a31uJEAjYA1zdg",
         "image_url": "https://s3-media3.fl.yelpcdn.com/bphoto/m-MF3-GbeFq9Rh459kGEfA/o.jpg",
         "is_closed": false,
         "location": {
          "address1": "315 Somerset Street W",
          "address2": "",
          "address3": "",
          "city": "Ottawa",
          "country": "CA",
          "display_address": [
           "315 Somerset Street W",
           "Ottawa, ON K2P 0J8",
           "Canada"
          ],
          "state": "ON",
          "zip_code": "K2P 0J8"
         },
         "name": "Union Local 613",
         "phone": "+16132311010",
         "price": "$$$",
         "rating": 4,
         "review_count": 133,
         "transactions": [],
         "url": "https://www.yelp.com/biz/union-local-613-ottawa-2?adjust_creative=Lo1vDDSapBzft8v086Lrdw&utm_campaign=yelp_api_v3&utm_medium=api_v3_business_search&utm_source=Lo1vDDSapBzft8v086Lrdw"
        },
        {
         "alias": "shinka-sushi-bar-ottawa",
         "categories": [
          {
           "alias": "sushi",
           "title": "Sushi Bars"
          }
         ],
         "coordinates": {
          "latitude": 45.42049,
          "longitude": -75.69371
         },
         "display_phone": "+1 613-565-8998",
         "distance": 1066.8960792884043,
         "id": "VAmykadYXJUujcPr5InUZA",
         "image_url": "https://s3-media1.fl.yelpcdn.com/bphoto/LzczcRDUjOBEoaCeadnD4Q/o.jpg",
         "is_closed": false,
         "location": {
          "address1": "150 Laurier Avenue W",
          "address2": "",
          "address3": "",
          "city": "Ottawa",
          "country": "CA",
          "display_address": [
           "150 Laurier Avenue W",
           "Ottawa, ON K1P 5J4",
           "Canada"
          ],
          "state": "ON",
          "zip_code": "K1P 5J4"
         },
         "name": "Shinka Sushi Bar",
         "phone": "+16135658998",
         "price": "$$",
         "rating": 4,
         "review_count": 62,
         "transactions": [],
         "url": "https://www.yelp.com/biz/shinka-sushi-bar-ottawa?adjust_creative=Lo1vDDSapBzft8v086Lrdw&utm_campaign=yelp_api_v3&utm_medium=api_v3_business_search&utm_source=Lo1vDDSapBzft8v086Lrdw"
        },
        {
         "alias": "social-restaurant-and-lounge-ottawa",
         "categories": [
          {
           "alias": "french",
           "title": "French"
          },
          {
           "alias": "lounges",
           "title": "Lounges"
          },
          {
           "alias": "newcanadian",
           "title": "Canadian (New)"
          }
         ],
         "coordinates": {
          "latitude": 45.4267006,
          "longitude": -75.6942005
         },
         "display_phone": "+1 613-789-7355",
         "distance": 430.49546068756604,
         "id": "dLim6ecsanGkkbwj_bLskA",
         "image_url": "https://s3-media2.fl.yelpcdn.com/bphoto/MYW0F2sd0vVVwOIWgXBg_w/o.jpg",
         "is_closed": false,
         "location": {
          "address1": "537 Sussex Drive",
          "address2": "",
          "address3": "",
          "city": "Ottawa",
          "country": "CA",
          "display_address": [
           "537 Sussex Drive",
           "Ottawa, ON K1N 6Z6",
           "Canada"
          ],
          "state": "ON",
          "zip_code": "K1N 6Z6"
         },
         "name": "Social Restaurant and Lounge",
         "phone": "+16137897355",
         "price": "$$$",
         "rating": 3.5,
         "review_count": 83,
         "transactions": [],
         "url": "https://www.yelp.com/biz/social-restaurant-and-lounge-ottawa?adjust_creative=Lo1vDDSapBzft8v086Lrdw&utm_campaign=yelp_api_v3&utm_medium=api_v3_business_search&utm_source=Lo1vDDSapBzft8v086Lrdw"
        },
        {
         "alias": "the-manx-ottawa",
         "categories": [
          {
           "alias": "pubs",
           "title": "Pubs"
          },
          {
           "alias": "tradamerican",
           "title": "American (Traditional)"
          }
         ],
         "coordinates": {
          "latitude": 45.415139308011,
          "longitude": -75.687943952135
         },
         "display_phone": "+1 613-231-2070",
         "distance": 1674.618289994306,
         "id": "tovP-b31wOsm0NjW5n1FjQ",
         "image_url": "https://s3-media2.fl.yelpcdn.com/bphoto/9JvjiHsJGqsHZcTuHBK2Pg/o.jpg",
         "is_closed": false,
         "location": {
          "address1": "370 Elgin Street",
          "address2": "",
          "address3": "",
          "city": "Ottawa",
          "country": "CA",
          "display_address": [
           "370 Elgin Street",
           "Ottawa, ON K2P 1N1",
           "Canada"
          ],
          "state": "ON",
          "zip_code": "K2P 1N1"
         },
         "name": "The Manx",
         "phone": "+16132312070",
         "price": "$$",
         "rating": 4,
         "review_count": 112,
         "transactions": [],
         "url": "https://www.yelp.com/biz/the-manx-ottawa?adjust_creative=Lo1vDDSapBzft8v086Lrdw&utm_campaign=yelp_api_v3&utm_medium=api_v3_business_search&utm_source=Lo1vDDSapBzft8v086Lrdw"
        },
        {
         "alias": "johnny-farina-restaurant-ottawa",
         "categories": [
          {
           "alias": "italian",
           "title": "Italian"
          },
          {
           "alias": "pizza",
           "title": "Pizza"
          },
          {
           "alias": "delis",
           "title": "Delis"
          }
         ],
         "coordinates": {
          "latitude": 45.41886,
          "longitude": -75.69158
         },
         "display_phone": "+1 613-565-5155",
         "distance": 1237.8864727550779,
         "id": "MX3dSfJf4FBJUNCB0ujoDQ",
         "image_url": "https://s3-media3.fl.yelpcdn.com/bphoto/RpjPqfdDLKgXR2RU82vKkA/o.jpg",
         "is_closed": false,
         "location": {
          "address1": "216 Elgin Street",
          "address2": "",
          "address3": "",
          "city": "Ottawa",
          "country": "CA",
          "display_address": [
           "216 Elgin Street",
           "Ottawa, ON K2P 1L7",
           "Canada"
          ],
          "state": "ON",
          "zip_code": "K2P 1L7"
         },
         "name": "Johnny Farina Restaurant",
         "phone": "+16135655155",
         "price": "$$",
         "rating": 4,
         "review_count": 141,
         "transactions": [],
         "url": "https://www.yelp.com/biz/johnny-farina-restaurant-ottawa?adjust_creative=Lo1vDDSapBzft8v086Lrdw&utm_campaign=yelp_api_v3&utm_medium=api_v3_business_search&utm_source=Lo1vDDSapBzft8v086Lrdw"
        }
       ],
       "region": {
        "center": {
         "latitude": 45.43000997759238,
         "longitude": -75.69133758544922
        }
       },
       "total": 1600
      },
      "text/plain": [
       "<IPython.core.display.JSON object>"
      ]
     },
     "execution_count": 14,
     "metadata": {
      "application/json": {
       "expanded": false,
       "root": "root"
      }
     },
     "output_type": "execute_result"
    }
   ],
   "source": [
    "# Using JSON IPython.display to take a clearer look at nested Json Data \n",
    "JSON(YELP_Data_Json)"
   ]
  },
  {
   "cell_type": "markdown",
   "metadata": {},
   "source": [
    "Put your parsed results into a DataFrame"
   ]
  },
  {
   "cell_type": "code",
   "execution_count": 15,
   "metadata": {},
   "outputs": [
    {
     "data": {
      "text/html": [
       "<div>\n",
       "<style scoped>\n",
       "    .dataframe tbody tr th:only-of-type {\n",
       "        vertical-align: middle;\n",
       "    }\n",
       "\n",
       "    .dataframe tbody tr th {\n",
       "        vertical-align: top;\n",
       "    }\n",
       "\n",
       "    .dataframe thead th {\n",
       "        text-align: right;\n",
       "    }\n",
       "</style>\n",
       "<table border=\"1\" class=\"dataframe\">\n",
       "  <thead>\n",
       "    <tr style=\"text-align: right;\">\n",
       "      <th></th>\n",
       "      <th>Name</th>\n",
       "      <th>rating</th>\n",
       "      <th>Address</th>\n",
       "      <th>Phone_number</th>\n",
       "      <th>review_count</th>\n",
       "    </tr>\n",
       "  </thead>\n",
       "  <tbody>\n",
       "    <tr>\n",
       "      <th>0</th>\n",
       "      <td>BeaverTails</td>\n",
       "      <td>4.5</td>\n",
       "      <td>69 George Street</td>\n",
       "      <td>+1 613-241-1230</td>\n",
       "      <td>252</td>\n",
       "    </tr>\n",
       "    <tr>\n",
       "      <th>1</th>\n",
       "      <td>La Bottega Nicastro Fine Food Shop</td>\n",
       "      <td>4.5</td>\n",
       "      <td>64 George St</td>\n",
       "      <td>+1 613-789-7575</td>\n",
       "      <td>161</td>\n",
       "    </tr>\n",
       "    <tr>\n",
       "      <th>2</th>\n",
       "      <td>Play Food And Wine</td>\n",
       "      <td>4.0</td>\n",
       "      <td>1 York Street</td>\n",
       "      <td>+1 613-667-9207</td>\n",
       "      <td>225</td>\n",
       "    </tr>\n",
       "    <tr>\n",
       "      <th>3</th>\n",
       "      <td>The SconeWitch</td>\n",
       "      <td>4.0</td>\n",
       "      <td>150 Elgin Street</td>\n",
       "      <td>+1 613-232-2173</td>\n",
       "      <td>213</td>\n",
       "    </tr>\n",
       "    <tr>\n",
       "      <th>4</th>\n",
       "      <td>Shawarma Palace</td>\n",
       "      <td>4.0</td>\n",
       "      <td>464 Rideau Street</td>\n",
       "      <td>+1 613-789-9533</td>\n",
       "      <td>235</td>\n",
       "    </tr>\n",
       "    <tr>\n",
       "      <th>5</th>\n",
       "      <td>Sansotei Ramen</td>\n",
       "      <td>4.5</td>\n",
       "      <td>153 Bank Street</td>\n",
       "      <td>+1 613-695-1718</td>\n",
       "      <td>323</td>\n",
       "    </tr>\n",
       "    <tr>\n",
       "      <th>6</th>\n",
       "      <td>Wilf &amp; Ada's</td>\n",
       "      <td>4.5</td>\n",
       "      <td>510 Bank Street</td>\n",
       "      <td>+1 613-231-7959</td>\n",
       "      <td>355</td>\n",
       "    </tr>\n",
       "    <tr>\n",
       "      <th>7</th>\n",
       "      <td>Benny's Bistro</td>\n",
       "      <td>4.5</td>\n",
       "      <td>119 Murray St</td>\n",
       "      <td>+1 613-789-7941</td>\n",
       "      <td>115</td>\n",
       "    </tr>\n",
       "    <tr>\n",
       "      <th>8</th>\n",
       "      <td>Fiazza Fresh Fired</td>\n",
       "      <td>4.0</td>\n",
       "      <td>86 Murray Street</td>\n",
       "      <td>+1 613-562-2000</td>\n",
       "      <td>140</td>\n",
       "    </tr>\n",
       "    <tr>\n",
       "      <th>9</th>\n",
       "      <td>Riviera</td>\n",
       "      <td>4.5</td>\n",
       "      <td>62 Sparks Street</td>\n",
       "      <td>+1 613-233-6262</td>\n",
       "      <td>103</td>\n",
       "    </tr>\n",
       "    <tr>\n",
       "      <th>10</th>\n",
       "      <td>Bite Burger House</td>\n",
       "      <td>4.5</td>\n",
       "      <td>108 Murray Street</td>\n",
       "      <td>+1 613-562-2483</td>\n",
       "      <td>97</td>\n",
       "    </tr>\n",
       "    <tr>\n",
       "      <th>11</th>\n",
       "      <td>Corazón De Maíz</td>\n",
       "      <td>4.5</td>\n",
       "      <td>55 ByWard Market Sq</td>\n",
       "      <td>+1 613-244-1661</td>\n",
       "      <td>96</td>\n",
       "    </tr>\n",
       "    <tr>\n",
       "      <th>12</th>\n",
       "      <td>The Brig Pub</td>\n",
       "      <td>4.0</td>\n",
       "      <td>23 York Street</td>\n",
       "      <td>+1 613-562-6666</td>\n",
       "      <td>107</td>\n",
       "    </tr>\n",
       "    <tr>\n",
       "      <th>13</th>\n",
       "      <td>Ahora Mexican Cuisine</td>\n",
       "      <td>3.5</td>\n",
       "      <td>307 Dalhousie Street</td>\n",
       "      <td>+1 613-562-2081</td>\n",
       "      <td>185</td>\n",
       "    </tr>\n",
       "    <tr>\n",
       "      <th>14</th>\n",
       "      <td>Town</td>\n",
       "      <td>4.5</td>\n",
       "      <td>296 Elgin Street</td>\n",
       "      <td>+1 613-695-8696</td>\n",
       "      <td>153</td>\n",
       "    </tr>\n",
       "    <tr>\n",
       "      <th>15</th>\n",
       "      <td>Sidedoor Contemporary Kitchen &amp; Bar</td>\n",
       "      <td>4.0</td>\n",
       "      <td>18B York St</td>\n",
       "      <td>+1 613-562-9331</td>\n",
       "      <td>137</td>\n",
       "    </tr>\n",
       "    <tr>\n",
       "      <th>16</th>\n",
       "      <td>El Camino</td>\n",
       "      <td>4.0</td>\n",
       "      <td>380 Elgin Street</td>\n",
       "      <td>+1 613-422-2800</td>\n",
       "      <td>299</td>\n",
       "    </tr>\n",
       "    <tr>\n",
       "      <th>17</th>\n",
       "      <td>Shanghai Wonton Noodle</td>\n",
       "      <td>4.5</td>\n",
       "      <td>178 Rideau Street</td>\n",
       "      <td>+1 613-233-9900</td>\n",
       "      <td>73</td>\n",
       "    </tr>\n",
       "    <tr>\n",
       "      <th>18</th>\n",
       "      <td>Food Mood: Korean &amp; Japanese Kitchen</td>\n",
       "      <td>4.5</td>\n",
       "      <td>178 Rideau Street</td>\n",
       "      <td>+1 613-789-0009</td>\n",
       "      <td>56</td>\n",
       "    </tr>\n",
       "    <tr>\n",
       "      <th>19</th>\n",
       "      <td>Art Is In Bakery</td>\n",
       "      <td>4.0</td>\n",
       "      <td>250 City Centre Avenue</td>\n",
       "      <td>+1 613-695-1226</td>\n",
       "      <td>302</td>\n",
       "    </tr>\n",
       "    <tr>\n",
       "      <th>20</th>\n",
       "      <td>Kochin Kitchen</td>\n",
       "      <td>4.0</td>\n",
       "      <td>271 Dalhousie Street</td>\n",
       "      <td>+1 613-562-4461</td>\n",
       "      <td>73</td>\n",
       "    </tr>\n",
       "    <tr>\n",
       "      <th>21</th>\n",
       "      <td>The Keg Steakhouse And Bar</td>\n",
       "      <td>4.0</td>\n",
       "      <td>75 York Street</td>\n",
       "      <td>+1 613-241-8514</td>\n",
       "      <td>72</td>\n",
       "    </tr>\n",
       "    <tr>\n",
       "      <th>22</th>\n",
       "      <td>Zak's Diner</td>\n",
       "      <td>3.5</td>\n",
       "      <td>14 ByWard Market Square</td>\n",
       "      <td>+1 613-241-2401</td>\n",
       "      <td>201</td>\n",
       "    </tr>\n",
       "    <tr>\n",
       "      <th>23</th>\n",
       "      <td>JOEY Rideau</td>\n",
       "      <td>4.0</td>\n",
       "      <td>50 Rideau Street</td>\n",
       "      <td>+1 613-680-5639</td>\n",
       "      <td>88</td>\n",
       "    </tr>\n",
       "    <tr>\n",
       "      <th>24</th>\n",
       "      <td>Level One Game Pub</td>\n",
       "      <td>4.5</td>\n",
       "      <td>14 Waller Street</td>\n",
       "      <td>+1 613-695-7529</td>\n",
       "      <td>57</td>\n",
       "    </tr>\n",
       "    <tr>\n",
       "      <th>25</th>\n",
       "      <td>Fairouz</td>\n",
       "      <td>4.0</td>\n",
       "      <td>15 Clarence Street</td>\n",
       "      <td>+1 613-422-7700</td>\n",
       "      <td>58</td>\n",
       "    </tr>\n",
       "    <tr>\n",
       "      <th>26</th>\n",
       "      <td>Stella Luna Gelato Cafe</td>\n",
       "      <td>4.5</td>\n",
       "      <td>1103 Bank St</td>\n",
       "      <td>+1 613-523-1116</td>\n",
       "      <td>124</td>\n",
       "    </tr>\n",
       "    <tr>\n",
       "      <th>27</th>\n",
       "      <td>The Green Door Vegetarian Restaurant</td>\n",
       "      <td>4.5</td>\n",
       "      <td>198 Main Street</td>\n",
       "      <td>+1 613-234-9597</td>\n",
       "      <td>136</td>\n",
       "    </tr>\n",
       "    <tr>\n",
       "      <th>28</th>\n",
       "      <td>Luxe Bistro</td>\n",
       "      <td>4.0</td>\n",
       "      <td>47 York St</td>\n",
       "      <td>+1 613-241-8805</td>\n",
       "      <td>84</td>\n",
       "    </tr>\n",
       "    <tr>\n",
       "      <th>29</th>\n",
       "      <td>The Whalesbone Oyster House</td>\n",
       "      <td>4.5</td>\n",
       "      <td>430 Bank Street</td>\n",
       "      <td>+1 613-231-8569</td>\n",
       "      <td>104</td>\n",
       "    </tr>\n",
       "    <tr>\n",
       "      <th>30</th>\n",
       "      <td>Pili Pili</td>\n",
       "      <td>4.5</td>\n",
       "      <td>205 Dalhousie Street</td>\n",
       "      <td>+1 613-695-7404</td>\n",
       "      <td>48</td>\n",
       "    </tr>\n",
       "    <tr>\n",
       "      <th>31</th>\n",
       "      <td>Das Lokal</td>\n",
       "      <td>4.0</td>\n",
       "      <td>190 Dalhousie Street</td>\n",
       "      <td>+1 613-695-1688</td>\n",
       "      <td>56</td>\n",
       "    </tr>\n",
       "    <tr>\n",
       "      <th>32</th>\n",
       "      <td>The King Eddy</td>\n",
       "      <td>3.5</td>\n",
       "      <td>45 Clarence Street</td>\n",
       "      <td>+1 613-680-1700</td>\n",
       "      <td>98</td>\n",
       "    </tr>\n",
       "    <tr>\n",
       "      <th>33</th>\n",
       "      <td>The Grand Pizzeria</td>\n",
       "      <td>3.5</td>\n",
       "      <td>74 George Street</td>\n",
       "      <td>+1 613-244-9995</td>\n",
       "      <td>146</td>\n",
       "    </tr>\n",
       "    <tr>\n",
       "      <th>34</th>\n",
       "      <td>Oz Kafe</td>\n",
       "      <td>4.5</td>\n",
       "      <td>10 York St</td>\n",
       "      <td>+1 613-234-0907</td>\n",
       "      <td>47</td>\n",
       "    </tr>\n",
       "    <tr>\n",
       "      <th>35</th>\n",
       "      <td>Milestones Restaurants</td>\n",
       "      <td>4.0</td>\n",
       "      <td>700 Sussex Dr</td>\n",
       "      <td>+1 613-789-5432</td>\n",
       "      <td>99</td>\n",
       "    </tr>\n",
       "    <tr>\n",
       "      <th>36</th>\n",
       "      <td>Elgin Street Diner</td>\n",
       "      <td>3.5</td>\n",
       "      <td>374 Elgin Street</td>\n",
       "      <td>+1 613-237-9700</td>\n",
       "      <td>229</td>\n",
       "    </tr>\n",
       "    <tr>\n",
       "      <th>37</th>\n",
       "      <td>Pure Kitchen Elgin</td>\n",
       "      <td>4.0</td>\n",
       "      <td>340 Elgin Street</td>\n",
       "      <td>+1 613-233-7873</td>\n",
       "      <td>105</td>\n",
       "    </tr>\n",
       "    <tr>\n",
       "      <th>38</th>\n",
       "      <td>The Ministry of Coffee</td>\n",
       "      <td>4.0</td>\n",
       "      <td>279 Elgin St</td>\n",
       "      <td>+1 613-255-3180</td>\n",
       "      <td>105</td>\n",
       "    </tr>\n",
       "    <tr>\n",
       "      <th>39</th>\n",
       "      <td>Bread &amp; Sons Bakery</td>\n",
       "      <td>4.5</td>\n",
       "      <td>195 Bank Street</td>\n",
       "      <td>+1 613-230-5302</td>\n",
       "      <td>81</td>\n",
       "    </tr>\n",
       "    <tr>\n",
       "      <th>40</th>\n",
       "      <td>Fraser Cafe</td>\n",
       "      <td>4.5</td>\n",
       "      <td>7 Springfield Road</td>\n",
       "      <td>+1 613-749-1444</td>\n",
       "      <td>79</td>\n",
       "    </tr>\n",
       "    <tr>\n",
       "      <th>41</th>\n",
       "      <td>Chez Lucien</td>\n",
       "      <td>3.5</td>\n",
       "      <td>137 Murray St</td>\n",
       "      <td>+1 613-241-3533</td>\n",
       "      <td>97</td>\n",
       "    </tr>\n",
       "    <tr>\n",
       "      <th>42</th>\n",
       "      <td>India Curry And Kebab House</td>\n",
       "      <td>4.0</td>\n",
       "      <td>39 Clarence Street</td>\n",
       "      <td>+1 613-680-0800</td>\n",
       "      <td>49</td>\n",
       "    </tr>\n",
       "    <tr>\n",
       "      <th>43</th>\n",
       "      <td>The Whalesbone</td>\n",
       "      <td>4.0</td>\n",
       "      <td>231 Elgin Street</td>\n",
       "      <td>+1 613-505-4300</td>\n",
       "      <td>90</td>\n",
       "    </tr>\n",
       "    <tr>\n",
       "      <th>44</th>\n",
       "      <td>Metropolitain Brasserie</td>\n",
       "      <td>3.5</td>\n",
       "      <td>700 Sussex Drive</td>\n",
       "      <td>+1 613-562-1160</td>\n",
       "      <td>87</td>\n",
       "    </tr>\n",
       "    <tr>\n",
       "      <th>45</th>\n",
       "      <td>Union Local 613</td>\n",
       "      <td>4.0</td>\n",
       "      <td>315 Somerset Street W</td>\n",
       "      <td>+1 613-231-1010</td>\n",
       "      <td>133</td>\n",
       "    </tr>\n",
       "    <tr>\n",
       "      <th>46</th>\n",
       "      <td>Shinka Sushi Bar</td>\n",
       "      <td>4.0</td>\n",
       "      <td>150 Laurier Avenue W</td>\n",
       "      <td>+1 613-565-8998</td>\n",
       "      <td>62</td>\n",
       "    </tr>\n",
       "    <tr>\n",
       "      <th>47</th>\n",
       "      <td>Social Restaurant and Lounge</td>\n",
       "      <td>3.5</td>\n",
       "      <td>537 Sussex Drive</td>\n",
       "      <td>+1 613-789-7355</td>\n",
       "      <td>83</td>\n",
       "    </tr>\n",
       "    <tr>\n",
       "      <th>48</th>\n",
       "      <td>The Manx</td>\n",
       "      <td>4.0</td>\n",
       "      <td>370 Elgin Street</td>\n",
       "      <td>+1 613-231-2070</td>\n",
       "      <td>112</td>\n",
       "    </tr>\n",
       "    <tr>\n",
       "      <th>49</th>\n",
       "      <td>Johnny Farina Restaurant</td>\n",
       "      <td>4.0</td>\n",
       "      <td>216 Elgin Street</td>\n",
       "      <td>+1 613-565-5155</td>\n",
       "      <td>141</td>\n",
       "    </tr>\n",
       "  </tbody>\n",
       "</table>\n",
       "</div>"
      ],
      "text/plain": [
       "                                    Name  rating                  Address  \\\n",
       "0                            BeaverTails     4.5         69 George Street   \n",
       "1     La Bottega Nicastro Fine Food Shop     4.5             64 George St   \n",
       "2                     Play Food And Wine     4.0            1 York Street   \n",
       "3                         The SconeWitch     4.0         150 Elgin Street   \n",
       "4                        Shawarma Palace     4.0        464 Rideau Street   \n",
       "5                         Sansotei Ramen     4.5          153 Bank Street   \n",
       "6                           Wilf & Ada's     4.5          510 Bank Street   \n",
       "7                         Benny's Bistro     4.5            119 Murray St   \n",
       "8                     Fiazza Fresh Fired     4.0         86 Murray Street   \n",
       "9                                Riviera     4.5         62 Sparks Street   \n",
       "10                     Bite Burger House     4.5        108 Murray Street   \n",
       "11                       Corazón De Maíz     4.5      55 ByWard Market Sq   \n",
       "12                          The Brig Pub     4.0           23 York Street   \n",
       "13                 Ahora Mexican Cuisine     3.5     307 Dalhousie Street   \n",
       "14                                  Town     4.5         296 Elgin Street   \n",
       "15   Sidedoor Contemporary Kitchen & Bar     4.0              18B York St   \n",
       "16                             El Camino     4.0         380 Elgin Street   \n",
       "17                Shanghai Wonton Noodle     4.5        178 Rideau Street   \n",
       "18  Food Mood: Korean & Japanese Kitchen     4.5        178 Rideau Street   \n",
       "19                      Art Is In Bakery     4.0   250 City Centre Avenue   \n",
       "20                        Kochin Kitchen     4.0     271 Dalhousie Street   \n",
       "21            The Keg Steakhouse And Bar     4.0           75 York Street   \n",
       "22                           Zak's Diner     3.5  14 ByWard Market Square   \n",
       "23                           JOEY Rideau     4.0         50 Rideau Street   \n",
       "24                    Level One Game Pub     4.5         14 Waller Street   \n",
       "25                               Fairouz     4.0       15 Clarence Street   \n",
       "26               Stella Luna Gelato Cafe     4.5             1103 Bank St   \n",
       "27  The Green Door Vegetarian Restaurant     4.5          198 Main Street   \n",
       "28                           Luxe Bistro     4.0               47 York St   \n",
       "29           The Whalesbone Oyster House     4.5          430 Bank Street   \n",
       "30                             Pili Pili     4.5     205 Dalhousie Street   \n",
       "31                             Das Lokal     4.0     190 Dalhousie Street   \n",
       "32                         The King Eddy     3.5       45 Clarence Street   \n",
       "33                    The Grand Pizzeria     3.5         74 George Street   \n",
       "34                               Oz Kafe     4.5               10 York St   \n",
       "35                Milestones Restaurants     4.0            700 Sussex Dr   \n",
       "36                    Elgin Street Diner     3.5         374 Elgin Street   \n",
       "37                    Pure Kitchen Elgin     4.0         340 Elgin Street   \n",
       "38                The Ministry of Coffee     4.0             279 Elgin St   \n",
       "39                   Bread & Sons Bakery     4.5          195 Bank Street   \n",
       "40                           Fraser Cafe     4.5       7 Springfield Road   \n",
       "41                           Chez Lucien     3.5            137 Murray St   \n",
       "42           India Curry And Kebab House     4.0       39 Clarence Street   \n",
       "43                        The Whalesbone     4.0         231 Elgin Street   \n",
       "44               Metropolitain Brasserie     3.5         700 Sussex Drive   \n",
       "45                       Union Local 613     4.0    315 Somerset Street W   \n",
       "46                      Shinka Sushi Bar     4.0     150 Laurier Avenue W   \n",
       "47          Social Restaurant and Lounge     3.5         537 Sussex Drive   \n",
       "48                              The Manx     4.0         370 Elgin Street   \n",
       "49              Johnny Farina Restaurant     4.0         216 Elgin Street   \n",
       "\n",
       "       Phone_number  review_count  \n",
       "0   +1 613-241-1230           252  \n",
       "1   +1 613-789-7575           161  \n",
       "2   +1 613-667-9207           225  \n",
       "3   +1 613-232-2173           213  \n",
       "4   +1 613-789-9533           235  \n",
       "5   +1 613-695-1718           323  \n",
       "6   +1 613-231-7959           355  \n",
       "7   +1 613-789-7941           115  \n",
       "8   +1 613-562-2000           140  \n",
       "9   +1 613-233-6262           103  \n",
       "10  +1 613-562-2483            97  \n",
       "11  +1 613-244-1661            96  \n",
       "12  +1 613-562-6666           107  \n",
       "13  +1 613-562-2081           185  \n",
       "14  +1 613-695-8696           153  \n",
       "15  +1 613-562-9331           137  \n",
       "16  +1 613-422-2800           299  \n",
       "17  +1 613-233-9900            73  \n",
       "18  +1 613-789-0009            56  \n",
       "19  +1 613-695-1226           302  \n",
       "20  +1 613-562-4461            73  \n",
       "21  +1 613-241-8514            72  \n",
       "22  +1 613-241-2401           201  \n",
       "23  +1 613-680-5639            88  \n",
       "24  +1 613-695-7529            57  \n",
       "25  +1 613-422-7700            58  \n",
       "26  +1 613-523-1116           124  \n",
       "27  +1 613-234-9597           136  \n",
       "28  +1 613-241-8805            84  \n",
       "29  +1 613-231-8569           104  \n",
       "30  +1 613-695-7404            48  \n",
       "31  +1 613-695-1688            56  \n",
       "32  +1 613-680-1700            98  \n",
       "33  +1 613-244-9995           146  \n",
       "34  +1 613-234-0907            47  \n",
       "35  +1 613-789-5432            99  \n",
       "36  +1 613-237-9700           229  \n",
       "37  +1 613-233-7873           105  \n",
       "38  +1 613-255-3180           105  \n",
       "39  +1 613-230-5302            81  \n",
       "40  +1 613-749-1444            79  \n",
       "41  +1 613-241-3533            97  \n",
       "42  +1 613-680-0800            49  \n",
       "43  +1 613-505-4300            90  \n",
       "44  +1 613-562-1160            87  \n",
       "45  +1 613-231-1010           133  \n",
       "46  +1 613-565-8998            62  \n",
       "47  +1 613-789-7355            83  \n",
       "48  +1 613-231-2070           112  \n",
       "49  +1 613-565-5155           141  "
      ]
     },
     "execution_count": 15,
     "metadata": {},
     "output_type": "execute_result"
    }
   ],
   "source": [
    "#Putting Data into pandas Dataframe and flattning out using normalize json for results\n",
    "df_y0 = pd.json_normalize(YELP_Data_Json, record_path='businesses', errors='ignore')\n",
    "YELP_dF= df_y0[['name', 'rating','location.address1', 'display_phone', 'review_count']].copy()\n",
    "YELP_dF.rename(columns={'name': 'Name','hours.display': 'Hours', 'location.address1': 'Address', 'display_phone': 'Phone_number'}, inplace=True)  \n",
    "YELP_dF\n",
    "\n",
    "#YELP_dF.sort_values(['rating'], ascending=False).head(10)"
   ]
  },
  {
   "cell_type": "code",
   "execution_count": 35,
   "metadata": {},
   "outputs": [],
   "source": [
    "\n",
    "# For Details on each business I have to run seperate API calls on each id, its how the api requests are setup(from what I have researched) \n",
    "\n",
    "# YELP_id = []\n",
    "# for y in YELP_Data_Json['businesses']:\n",
    "#     YELP_id.append(y['id'])\n",
    "    \n",
    "# #print(len(y_id))\n",
    "# # print(YELP_id)\n",
    "\n",
    "# for i in YELP_id:\n",
    "#     YELP_Detail_URL = f'https://api.yelp.com/v3/businesses/{i}'\n",
    "#     YELP_Detail = requests.get(YELP_Detail_URL, headers=YELP_header).json()\n",
    "    \n",
    "# print(YELP_Detail)\n",
    "\n",
    "# # df =  YELP_Detail\n",
    "# # df_y1 = df[['name', 'rating', 'price','location.address1', 'display_phone', 'review_count']].copy()\n",
    "# # df_y1.rename(columns={'location.address1': 'address', 'display_phone': 'phone_number'}, inplace=True)\n",
    "# # df_y1.sort_values(by=['rating', 'review_count'], ascending=False).head(10)\n"
   ]
  },
  {
   "cell_type": "code",
   "execution_count": 36,
   "metadata": {},
   "outputs": [
    {
     "data": {
      "application/json": {
       "alias": "di-rienzos-ottawa",
       "categories": [
        {
         "alias": "sandwiches",
         "title": "Sandwiches"
        },
        {
         "alias": "grocery",
         "title": "Grocery"
        },
        {
         "alias": "delis",
         "title": "Delis"
        }
       ],
       "coordinates": {
        "latitude": 45.3999927,
        "longitude": -75.7122448
       },
       "display_phone": "+1 613-729-4037",
       "hours": [
        {
         "hours_type": "REGULAR",
         "is_open_now": false,
         "open": [
          {
           "day": 0,
           "end": "1900",
           "is_overnight": false,
           "start": "0730"
          },
          {
           "day": 1,
           "end": "1900",
           "is_overnight": false,
           "start": "0730"
          },
          {
           "day": 2,
           "end": "1900",
           "is_overnight": false,
           "start": "0730"
          },
          {
           "day": 3,
           "end": "1900",
           "is_overnight": false,
           "start": "0730"
          },
          {
           "day": 4,
           "end": "1900",
           "is_overnight": false,
           "start": "0730"
          },
          {
           "day": 5,
           "end": "1900",
           "is_overnight": false,
           "start": "1000"
          },
          {
           "day": 6,
           "end": "1900",
           "is_overnight": false,
           "start": "1000"
          }
         ]
        }
       ],
       "id": "iuv_IvsTtEEwJHi6pOsk0Q",
       "image_url": "https://s3-media3.fl.yelpcdn.com/bphoto/wju4ZhHoQNh1GwoeLfk-2w/o.jpg",
       "is_claimed": true,
       "is_closed": false,
       "location": {
        "address1": "111 Beech Street",
        "address2": "",
        "address3": "",
        "city": "Ottawa",
        "country": "CA",
        "cross_streets": "",
        "display_address": [
         "111 Beech Street",
         "Ottawa, ON K1S 4P1",
         "Canada"
        ],
        "state": "ON",
        "zip_code": "K1S 4P1"
       },
       "messaging": {
        "url": "https://www.yelp.com/raq/iuv_IvsTtEEwJHi6pOsk0Q?adjust_creative=Lo1vDDSapBzft8v086Lrdw&utm_campaign=yelp_api_v3&utm_medium=api_v3_business_lookup&utm_source=Lo1vDDSapBzft8v086Lrdw#popup%3Araq",
        "use_case_text": "Message the Business"
       },
       "name": "Di Rienzo's",
       "phone": "+16137294037",
       "photos": [
        "https://s3-media3.fl.yelpcdn.com/bphoto/wju4ZhHoQNh1GwoeLfk-2w/o.jpg",
        "https://s3-media2.fl.yelpcdn.com/bphoto/DaSGFwxQWEaPQWhOBAvHTw/o.jpg",
        "https://s3-media1.fl.yelpcdn.com/bphoto/3T9XppfAoC3t799YoouNYQ/o.jpg"
       ],
       "price": "$",
       "rating": 4.5,
       "review_count": 79,
       "transactions": [],
       "url": "https://www.yelp.com/biz/di-rienzos-ottawa?adjust_creative=Lo1vDDSapBzft8v086Lrdw&utm_campaign=yelp_api_v3&utm_medium=api_v3_business_lookup&utm_source=Lo1vDDSapBzft8v086Lrdw"
      },
      "text/plain": [
       "<IPython.core.display.JSON object>"
      ]
     },
     "execution_count": 36,
     "metadata": {
      "application/json": {
       "expanded": false,
       "root": "root"
      }
     },
     "output_type": "execute_result"
    }
   ],
   "source": [
    "# Using JSON IPython.display to take a clearer look at nested Json Data \n",
    "JSON(YELP_Detail)"
   ]
  },
  {
   "cell_type": "code",
   "execution_count": null,
   "metadata": {},
   "outputs": [],
   "source": []
  },
  {
   "cell_type": "markdown",
   "metadata": {},
   "source": [
    "# Google (stretch)\n"
   ]
  },
  {
   "cell_type": "markdown",
   "metadata": {},
   "source": [
    "Use the same process as the first two APIs"
   ]
  },
  {
   "cell_type": "markdown",
   "metadata": {},
   "source": [
    "# Database"
   ]
  },
  {
   "cell_type": "markdown",
   "metadata": {},
   "source": [
    "Put all your results in an SQLite3 database (remember, SQLite stores its databases as files in your local machine - make sure to create your database in your project's data/ directory!)"
   ]
  },
  {
   "cell_type": "code",
   "execution_count": 54,
   "metadata": {},
   "outputs": [
    {
     "name": "stdout",
     "output_type": "stream",
     "text": [
      "Connection to SQLite DB successful\n"
     ]
    }
   ],
   "source": [
    "# Creating a database from the Dataframes using SQLite3\n",
    "\n",
    "def create_connection(path):\n",
    "    connection = None\n",
    "    try:\n",
    "        connection = sqlite3.connect(path)\n",
    "        print(\"Connection to SQLite DB successful\")\n",
    "    except Error as e:\n",
    "        print(f\"The error '{e}' occurred\")\n",
    "    return connection\n",
    "\n",
    "FSQ_Connection = create_connection('Byward_Market.db')\n",
    "\n",
    "FSQ_db = FSQ_dF.astype({'Name': 'str', 'rating': 'str','Address': 'str', 'Phone_number': 'str', 'website': 'str'}).copy()\n",
    "FSQ_db.to_sql('FSQ Retaurants', con=FSQ_Connection)\n",
    "  \n",
    "\n",
    "YELP_db =YELP_dF.astype({'Name': 'str', 'rating': 'str','Address': 'str', 'Phone_number': 'str', 'review_count': 'str'}).copy()\n",
    "YELP_db.to_sql('YELP Retaurants', con=FSQ_Connection)\n",
    "\n"
   ]
  },
  {
   "cell_type": "markdown",
   "metadata": {},
   "source": [
    "Get the top 10 restaurants according to their rating"
   ]
  },
  {
   "cell_type": "code",
   "execution_count": 23,
   "metadata": {},
   "outputs": [
    {
     "data": {
      "text/html": [
       "<div>\n",
       "<style scoped>\n",
       "    .dataframe tbody tr th:only-of-type {\n",
       "        vertical-align: middle;\n",
       "    }\n",
       "\n",
       "    .dataframe tbody tr th {\n",
       "        vertical-align: top;\n",
       "    }\n",
       "\n",
       "    .dataframe thead th {\n",
       "        text-align: right;\n",
       "    }\n",
       "</style>\n",
       "<table border=\"1\" class=\"dataframe\">\n",
       "  <thead>\n",
       "    <tr style=\"text-align: right;\">\n",
       "      <th></th>\n",
       "      <th>Name</th>\n",
       "      <th>rating</th>\n",
       "      <th>Address</th>\n",
       "    </tr>\n",
       "  </thead>\n",
       "  <tbody>\n",
       "    <tr>\n",
       "      <th>4</th>\n",
       "      <td>BeaverTails Canada Inc</td>\n",
       "      <td>8.8</td>\n",
       "      <td>69 George St</td>\n",
       "    </tr>\n",
       "    <tr>\n",
       "      <th>0</th>\n",
       "      <td>Chez Lucien</td>\n",
       "      <td>8.7</td>\n",
       "      <td>137 Murray St</td>\n",
       "    </tr>\n",
       "    <tr>\n",
       "      <th>1</th>\n",
       "      <td>El Camino</td>\n",
       "      <td>8.7</td>\n",
       "      <td>81 Clarence St</td>\n",
       "    </tr>\n",
       "    <tr>\n",
       "      <th>18</th>\n",
       "      <td>Riviera</td>\n",
       "      <td>8.6</td>\n",
       "      <td>62 Sparks St</td>\n",
       "    </tr>\n",
       "    <tr>\n",
       "      <th>8</th>\n",
       "      <td>E18hteen</td>\n",
       "      <td>8.6</td>\n",
       "      <td>18 York St</td>\n",
       "    </tr>\n",
       "    <tr>\n",
       "      <th>9</th>\n",
       "      <td>JOEY Rideau</td>\n",
       "      <td>8.6</td>\n",
       "      <td>50 Rideau St</td>\n",
       "    </tr>\n",
       "    <tr>\n",
       "      <th>10</th>\n",
       "      <td>Play Food &amp; Wine</td>\n",
       "      <td>8.6</td>\n",
       "      <td>1 York St</td>\n",
       "    </tr>\n",
       "    <tr>\n",
       "      <th>6</th>\n",
       "      <td>Corazon de Maiz</td>\n",
       "      <td>8.5</td>\n",
       "      <td>55 by Ward Market Sq</td>\n",
       "    </tr>\n",
       "    <tr>\n",
       "      <th>2</th>\n",
       "      <td>The Keg Steakhouse + Bar</td>\n",
       "      <td>8.4</td>\n",
       "      <td>75 York St</td>\n",
       "    </tr>\n",
       "    <tr>\n",
       "      <th>3</th>\n",
       "      <td>Bite Burger House</td>\n",
       "      <td>8.4</td>\n",
       "      <td>108 Murray St</td>\n",
       "    </tr>\n",
       "  </tbody>\n",
       "</table>\n",
       "</div>"
      ],
      "text/plain": [
       "                        Name  rating               Address\n",
       "4     BeaverTails Canada Inc     8.8          69 George St\n",
       "0                Chez Lucien     8.7         137 Murray St\n",
       "1                  El Camino     8.7        81 Clarence St\n",
       "18                   Riviera     8.6          62 Sparks St\n",
       "8                   E18hteen     8.6            18 York St\n",
       "9                JOEY Rideau     8.6          50 Rideau St\n",
       "10          Play Food & Wine     8.6             1 York St\n",
       "6            Corazon de Maiz     8.5  55 by Ward Market Sq\n",
       "2   The Keg Steakhouse + Bar     8.4            75 York St\n",
       "3          Bite Burger House     8.4         108 Murray St"
      ]
     },
     "execution_count": 23,
     "metadata": {},
     "output_type": "execute_result"
    }
   ],
   "source": [
    "# Top 10 \n",
    "\n",
    "FSQ_Sort = (FSQ_dF.sort_values(['rating'], ascending=False))\n",
    "FSQ_Top_10 = FSQ_Sort.loc[ : ,['Name','rating','Address']].head(10)\n",
    "FSQ_Top_10"
   ]
  },
  {
   "cell_type": "code",
   "execution_count": 24,
   "metadata": {},
   "outputs": [
    {
     "data": {
      "text/html": [
       "<div>\n",
       "<style scoped>\n",
       "    .dataframe tbody tr th:only-of-type {\n",
       "        vertical-align: middle;\n",
       "    }\n",
       "\n",
       "    .dataframe tbody tr th {\n",
       "        vertical-align: top;\n",
       "    }\n",
       "\n",
       "    .dataframe thead th {\n",
       "        text-align: right;\n",
       "    }\n",
       "</style>\n",
       "<table border=\"1\" class=\"dataframe\">\n",
       "  <thead>\n",
       "    <tr style=\"text-align: right;\">\n",
       "      <th></th>\n",
       "      <th>Name</th>\n",
       "      <th>rating</th>\n",
       "      <th>Address</th>\n",
       "    </tr>\n",
       "  </thead>\n",
       "  <tbody>\n",
       "    <tr>\n",
       "      <th>0</th>\n",
       "      <td>BeaverTails</td>\n",
       "      <td>4.5</td>\n",
       "      <td>69 George Street</td>\n",
       "    </tr>\n",
       "    <tr>\n",
       "      <th>40</th>\n",
       "      <td>Fraser Cafe</td>\n",
       "      <td>4.5</td>\n",
       "      <td>7 Springfield Road</td>\n",
       "    </tr>\n",
       "    <tr>\n",
       "      <th>26</th>\n",
       "      <td>Stella Luna Gelato Cafe</td>\n",
       "      <td>4.5</td>\n",
       "      <td>1103 Bank St</td>\n",
       "    </tr>\n",
       "    <tr>\n",
       "      <th>1</th>\n",
       "      <td>La Bottega Nicastro Fine Food Shop</td>\n",
       "      <td>4.5</td>\n",
       "      <td>64 George St</td>\n",
       "    </tr>\n",
       "    <tr>\n",
       "      <th>24</th>\n",
       "      <td>Level One Game Pub</td>\n",
       "      <td>4.5</td>\n",
       "      <td>14 Waller Street</td>\n",
       "    </tr>\n",
       "    <tr>\n",
       "      <th>30</th>\n",
       "      <td>Pili Pili</td>\n",
       "      <td>4.5</td>\n",
       "      <td>205 Dalhousie Street</td>\n",
       "    </tr>\n",
       "    <tr>\n",
       "      <th>34</th>\n",
       "      <td>Oz Kafe</td>\n",
       "      <td>4.5</td>\n",
       "      <td>10 York St</td>\n",
       "    </tr>\n",
       "    <tr>\n",
       "      <th>18</th>\n",
       "      <td>Food Mood: Korean &amp; Japanese Kitchen</td>\n",
       "      <td>4.5</td>\n",
       "      <td>178 Rideau Street</td>\n",
       "    </tr>\n",
       "    <tr>\n",
       "      <th>17</th>\n",
       "      <td>Shanghai Wonton Noodle</td>\n",
       "      <td>4.5</td>\n",
       "      <td>178 Rideau Street</td>\n",
       "    </tr>\n",
       "    <tr>\n",
       "      <th>39</th>\n",
       "      <td>Bread &amp; Sons Bakery</td>\n",
       "      <td>4.5</td>\n",
       "      <td>195 Bank Street</td>\n",
       "    </tr>\n",
       "  </tbody>\n",
       "</table>\n",
       "</div>"
      ],
      "text/plain": [
       "                                    Name  rating               Address\n",
       "0                            BeaverTails     4.5      69 George Street\n",
       "40                           Fraser Cafe     4.5    7 Springfield Road\n",
       "26               Stella Luna Gelato Cafe     4.5          1103 Bank St\n",
       "1     La Bottega Nicastro Fine Food Shop     4.5          64 George St\n",
       "24                    Level One Game Pub     4.5      14 Waller Street\n",
       "30                             Pili Pili     4.5  205 Dalhousie Street\n",
       "34                               Oz Kafe     4.5            10 York St\n",
       "18  Food Mood: Korean & Japanese Kitchen     4.5     178 Rideau Street\n",
       "17                Shanghai Wonton Noodle     4.5     178 Rideau Street\n",
       "39                   Bread & Sons Bakery     4.5       195 Bank Street"
      ]
     },
     "execution_count": 24,
     "metadata": {},
     "output_type": "execute_result"
    }
   ],
   "source": [
    "YELP_Sort = (YELP_dF.sort_values(['rating'], ascending=False))\n",
    "YELP_Top_10 = YELP_Sort.loc[:, ['Name','rating','Address']].head(10)\n",
    "YELP_Top_10"
   ]
  },
  {
   "cell_type": "markdown",
   "metadata": {},
   "source": [
    "# Travelling Salesman Problem (stretch)"
   ]
  },
  {
   "cell_type": "markdown",
   "metadata": {},
   "source": [
    "If you have time, follow the steps in the [ortools tutorial](https://developers.google.com/optimization/routing/tsp) using Google's [Directions API](https://developers.google.com/maps/documentation/directions/start)."
   ]
  },
  {
   "cell_type": "code",
   "execution_count": 30,
   "metadata": {},
   "outputs": [
    {
     "name": "stdout",
     "output_type": "stream",
     "text": [
      "x\n"
     ]
    }
   ],
   "source": [
    "print(\"x\")"
   ]
  },
  {
   "cell_type": "code",
   "execution_count": null,
   "metadata": {},
   "outputs": [],
   "source": []
  }
 ],
 "metadata": {
  "kernelspec": {
   "display_name": "Python 3",
   "language": "python",
   "name": "python3"
  },
  "language_info": {
   "codemirror_mode": {
    "name": "ipython",
    "version": 3
   },
   "file_extension": ".py",
   "mimetype": "text/x-python",
   "name": "python",
   "nbconvert_exporter": "python",
   "pygments_lexer": "ipython3",
   "version": "3.8.8"
  }
 },
 "nbformat": 4,
 "nbformat_minor": 4
}
