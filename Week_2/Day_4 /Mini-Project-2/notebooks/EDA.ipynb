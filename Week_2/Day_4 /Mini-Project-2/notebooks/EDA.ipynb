{
 "cells": [
  {
   "cell_type": "code",
   "execution_count": 25,
   "metadata": {},
   "outputs": [],
   "source": [
    "# imports\n",
    "import requests \n",
    "import pandas as pd \n",
    "import json \n",
    "import numpy \n",
    "import os \n",
    "from IPython.display import JSON\n"
   ]
  },
  {
   "cell_type": "markdown",
   "metadata": {},
   "source": [
    "# Foursquare"
   ]
  },
  {
   "cell_type": "markdown",
   "metadata": {},
   "source": [
    "Send a request to Foursquare with a small radius (1000m) with the location of your choice"
   ]
  },
  {
   "cell_type": "code",
   "execution_count": 95,
   "metadata": {},
   "outputs": [],
   "source": [
    "\n",
    "# FSQ API keys \n",
    "\n",
    "FSQ_key = os.environ[\"FourSquareAPI\"]\n",
    "#url = \"https://api.foursquare.com/v3/places/search?ll=45.43011966884903%2C-75.69100998550019&radius=1000&limit=50&categories=13065\"\n",
    "url =\"https://api.foursquare.com/v3/places/search\"\n",
    "\n",
    "headers = {\n",
    "    \"Accept\": \"application/json\",\n",
    "    \"Authorization\": \"fsq3tlezegNwb231locoAbMMWImgmHuuX9ks0JxaSzr/eL8=\"\n",
    "}\n"
   ]
  },
  {
   "cell_type": "markdown",
   "metadata": {},
   "source": [
    "Parse through the response to get the POI details you want (rating, name, location, etc)"
   ]
  },
  {
   "cell_type": "code",
   "execution_count": 94,
   "metadata": {},
   "outputs": [],
   "source": [
    "# Setting wanted parameters to fetch from the request \n",
    "f_param = {\n",
    "    'll': '45.429999200432945,-75.69109581618784',\n",
    "    'radius': '1000',\n",
    "    'categories': '13065',\n",
    "    'fields': 'name,tel,location,categories,website,hours,rating',\n",
    "    'limit': '50'\n",
    "}\n",
    "\n",
    "\n",
    "# Data Request\n",
    "FSQ_Data = requests.get(url, params = f_param, headers=headers)"
   ]
  },
  {
   "cell_type": "code",
   "execution_count": 63,
   "metadata": {},
   "outputs": [
    {
     "data": {
      "text/plain": [
       "200"
      ]
     },
     "execution_count": 63,
     "metadata": {},
     "output_type": "execute_result"
    }
   ],
   "source": [
    "# checkthe request was successful \n",
    "FSQ_Data.status_code"
   ]
  },
  {
   "cell_type": "code",
   "execution_count": 65,
   "metadata": {},
   "outputs": [
    {
     "data": {
      "text/plain": [
       "dict"
      ]
     },
     "execution_count": 65,
     "metadata": {},
     "output_type": "execute_result"
    }
   ],
   "source": [
    "# Export the information that was returned using method .json()\n",
    "FSQ_Data_Json = FSQ_Data.json()\n",
    "type(FSQ_Data_Json)"
   ]
  },
  {
   "cell_type": "code",
   "execution_count": 77,
   "metadata": {},
   "outputs": [
    {
     "data": {
      "application/json": {
       "context": {
        "geo_bounds": {
         "circle": {
          "center": {
           "latitude": 45.429999200432945,
           "longitude": -75.69109581618784
          },
          "radius": 1000
         }
        }
       },
       "results": [
        {
         "categories": [
          {
           "icon": {
            "prefix": "https://ss3.4sqi.net/img/categories_v2/food/burger_",
            "suffix": ".png"
           },
           "id": 13031,
           "name": "Burger Joint"
          },
          {
           "icon": {
            "prefix": "https://ss3.4sqi.net/img/categories_v2/food/gastropub_",
            "suffix": ".png"
           },
           "id": 13057,
           "name": "Gastropub"
          },
          {
           "icon": {
            "prefix": "https://ss3.4sqi.net/img/categories_v2/food/french_",
            "suffix": ".png"
           },
           "id": 13148,
           "name": "French Restaurant"
          }
         ],
         "hours": {
          "display": "Open Daily 00:00-2:00, 11:00-23:59",
          "is_local_holiday": false,
          "open_now": true,
          "regular": [
           {
            "close": "0200",
            "day": 1,
            "open": "0000"
           },
           {
            "close": "2359",
            "day": 1,
            "open": "1100"
           },
           {
            "close": "0200",
            "day": 2,
            "open": "0000"
           },
           {
            "close": "2359",
            "day": 2,
            "open": "1100"
           },
           {
            "close": "0200",
            "day": 3,
            "open": "0000"
           },
           {
            "close": "2359",
            "day": 3,
            "open": "1100"
           },
           {
            "close": "0200",
            "day": 4,
            "open": "0000"
           },
           {
            "close": "2359",
            "day": 4,
            "open": "1100"
           },
           {
            "close": "0200",
            "day": 5,
            "open": "0000"
           },
           {
            "close": "2359",
            "day": 5,
            "open": "1100"
           },
           {
            "close": "0200",
            "day": 6,
            "open": "0000"
           },
           {
            "close": "2359",
            "day": 6,
            "open": "1100"
           },
           {
            "close": "0200",
            "day": 7,
            "open": "0000"
           },
           {
            "close": "2359",
            "day": 7,
            "open": "1100"
           }
          ],
          "seasonal": []
         },
         "location": {
          "address": "137 Murray St",
          "country": "CA",
          "cross_street": "at Dalhousie St",
          "formatted_address": "137 Murray St (at Dalhousie St), Ottawa ON K1N 5M7",
          "locality": "Ottawa",
          "neighborhood": [
           "Byward Village"
          ],
          "postcode": "K1N 5M7",
          "region": "ON"
         },
         "name": "Chez Lucien",
         "rating": 8.7,
         "tel": "(613) 241-3533",
         "website": "http://chezlucien.ca"
        },
        {
         "categories": [
          {
           "icon": {
            "prefix": "https://ss3.4sqi.net/img/categories_v2/food/taco_",
            "suffix": ".png"
           },
           "id": 13306,
           "name": "Taco Restaurant"
          }
         ],
         "hours": {
          "display": "Mon-Wed 16:00-23:59; Thu-Sun 12:00-23:59",
          "is_local_holiday": false,
          "open_now": true,
          "regular": [
           {
            "close": "2359",
            "day": 1,
            "open": "1600"
           },
           {
            "close": "2359",
            "day": 2,
            "open": "1600"
           },
           {
            "close": "2359",
            "day": 3,
            "open": "1600"
           },
           {
            "close": "2359",
            "day": 4,
            "open": "1200"
           },
           {
            "close": "2359",
            "day": 5,
            "open": "1200"
           },
           {
            "close": "2359",
            "day": 6,
            "open": "1200"
           },
           {
            "close": "2359",
            "day": 7,
            "open": "1200"
           }
          ],
          "seasonal": []
         },
         "location": {
          "address": "81 Clarence St",
          "country": "CA",
          "cross_street": "William St",
          "formatted_address": "81 Clarence St (William St), Ottawa ON K1N 5P5",
          "locality": "Ottawa",
          "neighborhood": [
           "Lower Town"
          ],
          "postcode": "K1N 5P5",
          "region": "ON"
         },
         "name": "El Camino",
         "rating": 8.7,
         "tel": "(613) 422-5918",
         "website": "http://eatelcamino.com"
        },
        {
         "categories": [
          {
           "icon": {
            "prefix": "https://ss3.4sqi.net/img/categories_v2/food/default_",
            "suffix": ".png"
           },
           "id": 13068,
           "name": "American Restaurant"
          },
          {
           "icon": {
            "prefix": "https://ss3.4sqi.net/img/categories_v2/food/steakhouse_",
            "suffix": ".png"
           },
           "id": 13383,
           "name": "Steakhouse"
          }
         ],
         "hours": {
          "display": "Open Daily 12:00-23:59",
          "is_local_holiday": false,
          "open_now": true,
          "regular": [
           {
            "close": "2359",
            "day": 1,
            "open": "1200"
           },
           {
            "close": "2359",
            "day": 2,
            "open": "1200"
           },
           {
            "close": "2359",
            "day": 3,
            "open": "1200"
           },
           {
            "close": "2359",
            "day": 4,
            "open": "1200"
           },
           {
            "close": "2359",
            "day": 5,
            "open": "1200"
           },
           {
            "close": "2359",
            "day": 6,
            "open": "1200"
           },
           {
            "close": "2359",
            "day": 7,
            "open": "1200"
           }
          ],
          "seasonal": []
         },
         "location": {
          "address": "75 York St",
          "country": "CA",
          "cross_street": "",
          "formatted_address": "75 York St, Ottawa ON K1N 5T2",
          "locality": "Ottawa",
          "neighborhood": [
           "Byward market"
          ],
          "postcode": "K1N 5T2",
          "region": "ON"
         },
         "name": "The Keg Steakhouse + Bar",
         "rating": 8.4,
         "tel": "(613) 241-8514",
         "website": "https://www.kegsteakhouse.com/"
        },
        {
         "categories": [
          {
           "icon": {
            "prefix": "https://ss3.4sqi.net/img/categories_v2/food/burger_",
            "suffix": ".png"
           },
           "id": 13031,
           "name": "Burger Joint"
          },
          {
           "icon": {
            "prefix": "https://ss3.4sqi.net/img/categories_v2/food/fastfood_",
            "suffix": ".png"
           },
           "id": 13145,
           "name": "Fast Food Restaurant"
          }
         ],
         "hours": {
          "display": "Mon-Fri 11:30-23:59; Sat-Sun 00:00-1:00, 11:30-23:59",
          "is_local_holiday": false,
          "open_now": true,
          "regular": [
           {
            "close": "2359",
            "day": 1,
            "open": "1130"
           },
           {
            "close": "2359",
            "day": 2,
            "open": "1130"
           },
           {
            "close": "2359",
            "day": 3,
            "open": "1130"
           },
           {
            "close": "2359",
            "day": 4,
            "open": "1130"
           },
           {
            "close": "2359",
            "day": 5,
            "open": "1130"
           },
           {
            "close": "0100",
            "day": 6,
            "open": "0000"
           },
           {
            "close": "2359",
            "day": 6,
            "open": "1130"
           },
           {
            "close": "0100",
            "day": 7,
            "open": "0000"
           },
           {
            "close": "2359",
            "day": 7,
            "open": "1130"
           }
          ],
          "seasonal": []
         },
         "location": {
          "address": "108 Murray St",
          "country": "CA",
          "cross_street": "Dalhousie St",
          "formatted_address": "108 Murray St (Dalhousie St), Ottawa ON K1N 5M6",
          "locality": "Ottawa",
          "neighborhood": [
           "Lower Town"
          ],
          "postcode": "K1N 5M6",
          "region": "ON"
         },
         "name": "Bite Burger House",
         "rating": 8.4,
         "tel": "(613) 562-2483",
         "website": "http://www.biteburgerhouse.com"
        },
        {
         "categories": [
          {
           "icon": {
            "prefix": "https://ss3.4sqi.net/img/categories_v2/food/fastfood_",
            "suffix": ".png"
           },
           "id": 13145,
           "name": "Fast Food Restaurant"
          }
         ],
         "hours": {
          "display": "Mon-Wed 10:00-22:00; Thu 10:00-23:00; Fri-Sat 10:00-23:59; Sun 10:00-22:00",
          "is_local_holiday": false,
          "open_now": true,
          "regular": [
           {
            "close": "2200",
            "day": 1,
            "open": "1000"
           },
           {
            "close": "2200",
            "day": 2,
            "open": "1000"
           },
           {
            "close": "2200",
            "day": 3,
            "open": "1000"
           },
           {
            "close": "2300",
            "day": 4,
            "open": "1000"
           },
           {
            "close": "2359",
            "day": 5,
            "open": "1000"
           },
           {
            "close": "2359",
            "day": 6,
            "open": "1000"
           },
           {
            "close": "2200",
            "day": 7,
            "open": "1000"
           }
          ],
          "seasonal": [
           {
            "closed": true,
            "hours": [
             {
              "close": "+0000",
              "day": 1,
              "open": "0000"
             }
            ]
           },
           {
            "closed": true,
            "hours": [
             {
              "close": "+0000",
              "day": 2,
              "open": "0000"
             }
            ]
           },
           {
            "closed": true,
            "hours": [
             {
              "close": "+0000",
              "day": 3,
              "open": "0000"
             }
            ]
           },
           {
            "closed": true,
            "hours": [
             {
              "close": "+0000",
              "day": 4,
              "open": "0000"
             }
            ]
           },
           {
            "closed": true,
            "hours": [
             {
              "close": "+0000",
              "day": 5,
              "open": "0000"
             }
            ]
           },
           {
            "closed": true,
            "hours": [
             {
              "close": "+0000",
              "day": 6,
              "open": "0000"
             }
            ]
           },
           {
            "closed": true,
            "hours": [
             {
              "close": "+0000",
              "day": 7,
              "open": "0000"
             }
            ]
           },
           {
            "closed": true,
            "hours": [
             {
              "close": "+0000",
              "day": 1,
              "open": "0000"
             }
            ]
           },
           {
            "closed": true,
            "hours": [
             {
              "close": "+0000",
              "day": 2,
              "open": "0000"
             }
            ]
           },
           {
            "closed": true,
            "hours": [
             {
              "close": "+0000",
              "day": 3,
              "open": "0000"
             }
            ]
           },
           {
            "closed": true,
            "hours": [
             {
              "close": "+0000",
              "day": 4,
              "open": "0000"
             }
            ]
           },
           {
            "closed": true,
            "hours": [
             {
              "close": "+0000",
              "day": 5,
              "open": "0000"
             }
            ]
           },
           {
            "closed": true,
            "hours": [
             {
              "close": "+0000",
              "day": 6,
              "open": "0000"
             }
            ]
           },
           {
            "closed": true,
            "hours": [
             {
              "close": "+0000",
              "day": 7,
              "open": "0000"
             }
            ]
           },
           {
            "closed": true,
            "hours": [
             {
              "close": "+0000",
              "day": 1,
              "open": "0000"
             }
            ]
           },
           {
            "closed": true,
            "hours": [
             {
              "close": "+0000",
              "day": 2,
              "open": "0000"
             }
            ]
           },
           {
            "closed": true,
            "hours": [
             {
              "close": "+0000",
              "day": 3,
              "open": "0000"
             }
            ]
           },
           {
            "closed": true,
            "hours": [
             {
              "close": "+0000",
              "day": 4,
              "open": "0000"
             }
            ]
           },
           {
            "closed": true,
            "hours": [
             {
              "close": "+0000",
              "day": 5,
              "open": "0000"
             }
            ]
           },
           {
            "closed": true,
            "hours": [
             {
              "close": "+0000",
              "day": 6,
              "open": "0000"
             }
            ]
           },
           {
            "closed": true,
            "hours": [
             {
              "close": "+0000",
              "day": 7,
              "open": "0000"
             }
            ]
           },
           {
            "closed": true,
            "hours": [
             {
              "close": "+0000",
              "day": 1,
              "open": "0000"
             }
            ]
           }
          ]
         },
         "location": {
          "address": "69 George St",
          "country": "CA",
          "cross_street": "at William St",
          "formatted_address": "69 George St (at William St), Ottawa ON K1N 1K1",
          "locality": "Ottawa",
          "neighborhood": [
           "Byward Market - Parliament Hill"
          ],
          "postcode": "K1N 1K1",
          "region": "ON"
         },
         "name": "BeaverTails Canada Inc",
         "rating": 8.8,
         "tel": "(613) 241-1230",
         "website": "http://www.beavertailsinc.com/"
        },
        {
         "categories": [
          {
           "icon": {
            "prefix": "https://ss3.4sqi.net/img/categories_v2/food/mexican_",
            "suffix": ".png"
           },
           "id": 13303,
           "name": "Mexican Restaurant"
          }
         ],
         "hours": {
          "display": "Open Daily 11:30-22:00",
          "is_local_holiday": false,
          "open_now": true,
          "regular": [
           {
            "close": "2200",
            "day": 1,
            "open": "1130"
           },
           {
            "close": "2200",
            "day": 2,
            "open": "1130"
           },
           {
            "close": "2200",
            "day": 3,
            "open": "1130"
           },
           {
            "close": "2200",
            "day": 4,
            "open": "1130"
           },
           {
            "close": "2200",
            "day": 5,
            "open": "1130"
           },
           {
            "close": "2200",
            "day": 6,
            "open": "1130"
           },
           {
            "close": "2200",
            "day": 7,
            "open": "1130"
           }
          ],
          "seasonal": []
         },
         "location": {
          "address": "307 Dalhousie St",
          "country": "CA",
          "cross_street": "Clarence St",
          "formatted_address": "307 Dalhousie St (Clarence St), Ottawa ON K1N 7E8",
          "locality": "Ottawa",
          "neighborhood": [
           "Byward Market - Parliament Hill"
          ],
          "postcode": "K1N 7E8",
          "region": "ON"
         },
         "name": "Ahora Mexican Cuisine",
         "rating": 8,
         "tel": "(613) 562-2081",
         "website": "http://www.ahora.ca/"
        },
        {
         "categories": [
          {
           "icon": {
            "prefix": "https://ss3.4sqi.net/img/categories_v2/food/fastfood_",
            "suffix": ".png"
           },
           "id": 13145,
           "name": "Fast Food Restaurant"
          },
          {
           "icon": {
            "prefix": "https://ss3.4sqi.net/img/categories_v2/food/mexican_",
            "suffix": ".png"
           },
           "id": 13307,
           "name": "Tex-Mex Restaurant"
          }
         ],
         "hours": {
          "display": "Open Daily 11:00-18:00",
          "is_local_holiday": false,
          "open_now": true,
          "regular": [
           {
            "close": "1800",
            "day": 1,
            "open": "1100"
           },
           {
            "close": "1800",
            "day": 2,
            "open": "1100"
           },
           {
            "close": "1800",
            "day": 3,
            "open": "1100"
           },
           {
            "close": "1800",
            "day": 4,
            "open": "1100"
           },
           {
            "close": "1800",
            "day": 5,
            "open": "1100"
           },
           {
            "close": "1800",
            "day": 6,
            "open": "1100"
           },
           {
            "close": "1800",
            "day": 7,
            "open": "1100"
           }
          ],
          "seasonal": []
         },
         "location": {
          "address": "55 by Ward Market Sq",
          "country": "CA",
          "cross_street": "",
          "formatted_address": "55 by Ward Market Sq, Ottawa ON K1N 9C3",
          "locality": "Ottawa",
          "neighborhood": [
           "Lower Town"
          ],
          "postcode": "K1N 9C3",
          "region": "ON"
         },
         "name": "Corazon de Maiz",
         "rating": 8.5,
         "tel": "(613) 244-1661",
         "website": "http://www.corazondemaizottawa.com"
        },
        {
         "categories": [
          {
           "icon": {
            "prefix": "https://ss3.4sqi.net/img/categories_v2/food/french_",
            "suffix": ".png"
           },
           "id": 13148,
           "name": "French Restaurant"
          }
         ],
         "hours": {
          "display": "Open Daily 17:00-22:30",
          "is_local_holiday": false,
          "open_now": false,
          "regular": [
           {
            "close": "2230",
            "day": 1,
            "open": "1700"
           },
           {
            "close": "2230",
            "day": 2,
            "open": "1700"
           },
           {
            "close": "2230",
            "day": 3,
            "open": "1700"
           },
           {
            "close": "2230",
            "day": 4,
            "open": "1700"
           },
           {
            "close": "2230",
            "day": 5,
            "open": "1700"
           },
           {
            "close": "2230",
            "day": 6,
            "open": "1700"
           },
           {
            "close": "2230",
            "day": 7,
            "open": "1700"
           }
          ],
          "seasonal": []
         },
         "location": {
          "address": "18 York St",
          "country": "CA",
          "cross_street": "Sussex Dr",
          "formatted_address": "18 York St (Sussex Dr), Ottawa ON K1N 5S6",
          "locality": "Ottawa",
          "neighborhood": [
           "Byward Market-Parliament Hill, Ottawa, ON"
          ],
          "postcode": "K1N 5S6",
          "region": "ON"
         },
         "name": "E18hteen",
         "rating": 8.6,
         "tel": "(613) 244-1188",
         "website": "http://www.restaurant18.com"
        },
        {
         "categories": [
          {
           "icon": {
            "prefix": "https://ss3.4sqi.net/img/categories_v2/food/default_",
            "suffix": ".png"
           },
           "id": 13065,
           "name": "Restaurant"
          }
         ],
         "hours": {
          "display": "Mon-Fri 11:00-23:59; Sat-Sun 00:00-1:00, 11:00-23:59",
          "is_local_holiday": false,
          "open_now": true,
          "regular": [
           {
            "close": "2359",
            "day": 1,
            "open": "1100"
           },
           {
            "close": "2359",
            "day": 2,
            "open": "1100"
           },
           {
            "close": "2359",
            "day": 3,
            "open": "1100"
           },
           {
            "close": "2359",
            "day": 4,
            "open": "1100"
           },
           {
            "close": "2359",
            "day": 5,
            "open": "1100"
           },
           {
            "close": "0100",
            "day": 6,
            "open": "0000"
           },
           {
            "close": "2359",
            "day": 6,
            "open": "1100"
           },
           {
            "close": "0100",
            "day": 7,
            "open": "0000"
           },
           {
            "close": "2359",
            "day": 7,
            "open": "1100"
           }
          ],
          "seasonal": []
         },
         "location": {
          "address": "50 Rideau St",
          "address_extended": "E106",
          "country": "CA",
          "cross_street": "",
          "formatted_address": "50 Rideau St, Ottawa ON K1N 9J7",
          "locality": "Ottawa",
          "neighborhood": [
           "Lower Town"
          ],
          "postcode": "K1N 9J7",
          "region": "ON"
         },
         "name": "JOEY Rideau",
         "rating": 8.6,
         "tel": "(613) 680-5639",
         "website": "https://joeyrestaurants.com/location/joey-rideau/menu#food"
        },
        {
         "categories": [
          {
           "icon": {
            "prefix": "https://ss3.4sqi.net/img/categories_v2/food/burger_",
            "suffix": ".png"
           },
           "id": 13031,
           "name": "Burger Joint"
          },
          {
           "icon": {
            "prefix": "https://ss3.4sqi.net/img/categories_v2/food/tapas_",
            "suffix": ".png"
           },
           "id": 13347,
           "name": "Tapas Restaurant"
          }
         ],
         "hours": {
          "display": "Mon 12:00-14:00, 17:30-22:00; Tue-Thu 12:00-14:00, 17:30-23:00; Fri 12:00-14:00, 17:30-23:59; Sat 12:00-23:59; Sun 12:00-22:00",
          "is_local_holiday": false,
          "open_now": true,
          "regular": [
           {
            "close": "1400",
            "day": 1,
            "open": "1200"
           },
           {
            "close": "2200",
            "day": 1,
            "open": "1730"
           },
           {
            "close": "1400",
            "day": 2,
            "open": "1200"
           },
           {
            "close": "2300",
            "day": 2,
            "open": "1730"
           },
           {
            "close": "1400",
            "day": 3,
            "open": "1200"
           },
           {
            "close": "2300",
            "day": 3,
            "open": "1730"
           },
           {
            "close": "1400",
            "day": 4,
            "open": "1200"
           },
           {
            "close": "2300",
            "day": 4,
            "open": "1730"
           },
           {
            "close": "1400",
            "day": 5,
            "open": "1200"
           },
           {
            "close": "2359",
            "day": 5,
            "open": "1730"
           },
           {
            "close": "2359",
            "day": 6,
            "open": "1200"
           },
           {
            "close": "2200",
            "day": 7,
            "open": "1200"
           }
          ],
          "seasonal": []
         },
         "location": {
          "address": "1 York St",
          "country": "CA",
          "cross_street": "@ Sussex Dr",
          "formatted_address": "1 York St (@ Sussex Dr), Ottawa ON K1N 5S7",
          "locality": "Ottawa",
          "neighborhood": [
           "Byward market"
          ],
          "postcode": "K1N 5S7",
          "region": "ON"
         },
         "name": "Play Food & Wine",
         "rating": 8.6,
         "tel": "(613) 667-9207",
         "website": "http://www.playfood.ca"
        },
        {
         "categories": [
          {
           "icon": {
            "prefix": "https://ss3.4sqi.net/img/categories_v2/nightlife/divebar_",
            "suffix": ".png"
           },
           "id": 13010,
           "name": "Dive Bar"
          },
          {
           "icon": {
            "prefix": "https://ss3.4sqi.net/img/categories_v2/food/default_",
            "suffix": ".png"
           },
           "id": 13065,
           "name": "Restaurant"
          }
         ],
         "hours": {
          "display": "Open Daily 00:00-2:00, 11:00-23:59",
          "is_local_holiday": false,
          "open_now": true,
          "regular": [
           {
            "close": "0200",
            "day": 1,
            "open": "0000"
           },
           {
            "close": "2359",
            "day": 1,
            "open": "1100"
           },
           {
            "close": "0200",
            "day": 2,
            "open": "0000"
           },
           {
            "close": "2359",
            "day": 2,
            "open": "1100"
           },
           {
            "close": "0200",
            "day": 3,
            "open": "0000"
           },
           {
            "close": "2359",
            "day": 3,
            "open": "1100"
           },
           {
            "close": "0200",
            "day": 4,
            "open": "0000"
           },
           {
            "close": "2359",
            "day": 4,
            "open": "1100"
           },
           {
            "close": "0200",
            "day": 5,
            "open": "0000"
           },
           {
            "close": "2359",
            "day": 5,
            "open": "1100"
           },
           {
            "close": "0200",
            "day": 6,
            "open": "0000"
           },
           {
            "close": "2359",
            "day": 6,
            "open": "1100"
           },
           {
            "close": "0200",
            "day": 7,
            "open": "0000"
           },
           {
            "close": "2359",
            "day": 7,
            "open": "1100"
           }
          ],
          "seasonal": []
         },
         "location": {
          "address": "42 York St",
          "country": "CA",
          "cross_street": "Byward Market Square",
          "formatted_address": "42 York St (Byward Market Square), Ottawa ON K1N 5S6",
          "locality": "Ottawa",
          "neighborhood": [
           "Rockcliffe Park"
          ],
          "postcode": "K1N 5S6",
          "region": "ON"
         },
         "name": "Chateau Lafayette",
         "rating": 8.1,
         "tel": "(613) 241-4747",
         "website": "http://www.thelaff.ca"
        },
        {
         "categories": [
          {
           "icon": {
            "prefix": "https://ss3.4sqi.net/img/categories_v2/food/diner_",
            "suffix": ".png"
           },
           "id": 13049,
           "name": "Diner"
          },
          {
           "icon": {
            "prefix": "https://ss3.4sqi.net/img/categories_v2/food/default_",
            "suffix": ".png"
           },
           "id": 13068,
           "name": "American Restaurant"
          }
         ],
         "hours": {
          "display": "Open Daily 00:00-23:59",
          "is_local_holiday": false,
          "open_now": true,
          "regular": [
           {
            "close": "2359",
            "day": 1,
            "open": "0000"
           },
           {
            "close": "2359",
            "day": 2,
            "open": "0000"
           },
           {
            "close": "2359",
            "day": 3,
            "open": "0000"
           },
           {
            "close": "2359",
            "day": 4,
            "open": "0000"
           },
           {
            "close": "2359",
            "day": 5,
            "open": "0000"
           },
           {
            "close": "2359",
            "day": 6,
            "open": "0000"
           },
           {
            "close": "2359",
            "day": 7,
            "open": "0000"
           }
          ],
          "seasonal": []
         },
         "location": {
          "address": "16 by Ward Market Sq",
          "country": "CA",
          "cross_street": "at York St",
          "formatted_address": "16 by Ward Market Sq (at York St), Ottawa ON K1N 7A1",
          "locality": "Ottawa",
          "neighborhood": [
           "Byward market"
          ],
          "postcode": "K1N 7A1",
          "region": "ON"
         },
         "name": "Zak's Diner",
         "rating": 8,
         "tel": "(613) 241-2401",
         "website": "http://www.zaksdiner.com/"
        },
        {
         "categories": [
          {
           "icon": {
            "prefix": "https://ss3.4sqi.net/img/categories_v2/food/cafe_",
            "suffix": ".png"
           },
           "id": 13034,
           "name": "Café"
          },
          {
           "icon": {
            "prefix": "https://ss3.4sqi.net/img/categories_v2/food/coffeeshop_",
            "suffix": ".png"
           },
           "id": 13035,
           "name": "Coffee Shop"
          },
          {
           "icon": {
            "prefix": "https://ss3.4sqi.net/img/categories_v2/food/default_",
            "suffix": ".png"
           },
           "id": 13065,
           "name": "Restaurant"
          }
         ],
         "hours": {
          "display": "Mon-Sat 7:00-20:00; Sun 8:00-18:00",
          "is_local_holiday": false,
          "open_now": true,
          "regular": [
           {
            "close": "2000",
            "day": 1,
            "open": "0700"
           },
           {
            "close": "2000",
            "day": 2,
            "open": "0700"
           },
           {
            "close": "2000",
            "day": 3,
            "open": "0700"
           },
           {
            "close": "2000",
            "day": 4,
            "open": "0700"
           },
           {
            "close": "2000",
            "day": 5,
            "open": "0700"
           },
           {
            "close": "2000",
            "day": 6,
            "open": "0700"
           },
           {
            "close": "1800",
            "day": 7,
            "open": "0800"
           }
          ],
          "seasonal": []
         },
         "location": {
          "address": "50 Rideau St",
          "country": "CA",
          "cross_street": "",
          "formatted_address": "50 Rideau St, Ottawa ON K1N 9J7",
          "locality": "Ottawa",
          "neighborhood": [
           "Byward Market-Parliament Hill"
          ],
          "postcode": "K1N 9J7",
          "region": "ON"
         },
         "name": "Bridgehead",
         "rating": 8.1,
         "tel": "(613) 789-1676"
        },
        {
         "categories": [
          {
           "icon": {
            "prefix": "https://ss3.4sqi.net/img/categories_v2/nightlife/gaybar_",
            "suffix": ".png"
           },
           "id": 13011,
           "name": "Gay Bar"
          },
          {
           "icon": {
            "prefix": "https://ss3.4sqi.net/img/categories_v2/food/default_",
            "suffix": ".png"
           },
           "id": 13027,
           "name": "Bistro"
          }
         ],
         "hours": {
          "display": "Mon 14:00-23:59; Tue-Sat 00:00-2:00, 14:00-23:59; Sun 00:00-2:00, 14:00-21:00",
          "is_local_holiday": false,
          "open_now": false,
          "regular": [
           {
            "close": "2359",
            "day": 1,
            "open": "1400"
           },
           {
            "close": "0200",
            "day": 2,
            "open": "0000"
           },
           {
            "close": "2359",
            "day": 2,
            "open": "1400"
           },
           {
            "close": "0200",
            "day": 3,
            "open": "0000"
           },
           {
            "close": "2359",
            "day": 3,
            "open": "1400"
           },
           {
            "close": "0200",
            "day": 4,
            "open": "0000"
           },
           {
            "close": "2359",
            "day": 4,
            "open": "1400"
           },
           {
            "close": "0200",
            "day": 5,
            "open": "0000"
           },
           {
            "close": "2359",
            "day": 5,
            "open": "1400"
           },
           {
            "close": "0200",
            "day": 6,
            "open": "0000"
           },
           {
            "close": "2359",
            "day": 6,
            "open": "1400"
           },
           {
            "close": "0200",
            "day": 7,
            "open": "0000"
           },
           {
            "close": "2100",
            "day": 7,
            "open": "1400"
           }
          ],
          "seasonal": []
         },
         "location": {
          "address": "41 York St",
          "country": "CA",
          "cross_street": "",
          "formatted_address": "41 York St, Ottawa ON K1N 5S7",
          "locality": "Ottawa",
          "neighborhood": [
           "Lower Town"
          ],
          "postcode": "K1N 5S7",
          "region": "ON"
         },
         "name": "The Lookout Bar & Bistro",
         "rating": 7.8,
         "tel": "(613) 789-1624",
         "website": "http://www.thelookoutbar.com"
        },
        {
         "categories": [
          {
           "icon": {
            "prefix": "https://ss3.4sqi.net/img/categories_v2/food/burger_",
            "suffix": ".png"
           },
           "id": 13031,
           "name": "Burger Joint"
          },
          {
           "icon": {
            "prefix": "https://ss3.4sqi.net/img/categories_v2/food/diner_",
            "suffix": ".png"
           },
           "id": 13049,
           "name": "Diner"
          }
         ],
         "hours": {
          "display": "Mon 8:00-23:59; Tue-Thu 00:00-1:00, 8:00-23:59; Fri-Sat 00:00-23:59; Sun 00:00-1:00",
          "is_local_holiday": false,
          "open_now": true,
          "regular": [
           {
            "close": "2359",
            "day": 1,
            "open": "0800"
           },
           {
            "close": "0100",
            "day": 2,
            "open": "0000"
           },
           {
            "close": "2359",
            "day": 2,
            "open": "0800"
           },
           {
            "close": "0100",
            "day": 3,
            "open": "0000"
           },
           {
            "close": "2359",
            "day": 3,
            "open": "0800"
           },
           {
            "close": "0100",
            "day": 4,
            "open": "0000"
           },
           {
            "close": "2359",
            "day": 4,
            "open": "0800"
           },
           {
            "close": "2359",
            "day": 5,
            "open": "0000"
           },
           {
            "close": "2359",
            "day": 6,
            "open": "0000"
           },
           {
            "close": "0100",
            "day": 7,
            "open": "0000"
           }
          ],
          "seasonal": []
         },
         "location": {
          "address": "45 Clarence St",
          "country": "CA",
          "cross_street": "at Byward Street",
          "formatted_address": "45 Clarence St (at Byward Street), Ottawa ON K1N 5P4",
          "locality": "Ottawa",
          "neighborhood": [
           "Lower Town"
          ],
          "postcode": "K1N 5P4",
          "region": "ON"
         },
         "name": "The King Eddy",
         "rating": 7.7,
         "tel": "(613) 680-1700",
         "website": "http://www.kingeddyburgers.com"
        },
        {
         "categories": [
          {
           "icon": {
            "prefix": "https://ss3.4sqi.net/img/categories_v2/nightlife/pub_",
            "suffix": ".png"
           },
           "id": 13018,
           "name": "Pub"
          },
          {
           "icon": {
            "prefix": "https://ss3.4sqi.net/img/categories_v2/food/diner_",
            "suffix": ".png"
           },
           "id": 13049,
           "name": "Diner"
          }
         ],
         "hours": {
          "display": "Mon-Fri 00:00-2:00, 11:00-23:59; Sat-Sun 00:00-2:00, 9:00-23:59",
          "is_local_holiday": false,
          "open_now": true,
          "regular": [
           {
            "close": "0200",
            "day": 1,
            "open": "0000"
           },
           {
            "close": "2359",
            "day": 1,
            "open": "1100"
           },
           {
            "close": "0200",
            "day": 2,
            "open": "0000"
           },
           {
            "close": "2359",
            "day": 2,
            "open": "1100"
           },
           {
            "close": "0200",
            "day": 3,
            "open": "0000"
           },
           {
            "close": "2359",
            "day": 3,
            "open": "1100"
           },
           {
            "close": "0200",
            "day": 4,
            "open": "0000"
           },
           {
            "close": "2359",
            "day": 4,
            "open": "1100"
           },
           {
            "close": "0200",
            "day": 5,
            "open": "0000"
           },
           {
            "close": "2359",
            "day": 5,
            "open": "1100"
           },
           {
            "close": "0200",
            "day": 6,
            "open": "0000"
           },
           {
            "close": "2359",
            "day": 6,
            "open": "0900"
           },
           {
            "close": "0200",
            "day": 7,
            "open": "0000"
           },
           {
            "close": "2359",
            "day": 7,
            "open": "0900"
           }
          ],
          "seasonal": []
         },
         "location": {
          "address": "67 Clarence St",
          "country": "CA",
          "cross_street": "at Parent Ave",
          "formatted_address": "67 Clarence St (at Parent Ave), Ottawa ON K1N 5P5",
          "locality": "Ottawa",
          "neighborhood": [
           "Byward market"
          ],
          "postcode": "K1N 5P5",
          "region": "ON"
         },
         "name": "Heart & Crown",
         "rating": 7.7,
         "tel": "(613) 562-0674",
         "website": "http://www.heartandcrown.ca"
        },
        {
         "categories": [
          {
           "icon": {
            "prefix": "https://ss3.4sqi.net/img/categories_v2/food/default_",
            "suffix": ".png"
           },
           "id": 13027,
           "name": "Bistro"
          },
          {
           "icon": {
            "prefix": "https://ss3.4sqi.net/img/categories_v2/food/french_",
            "suffix": ".png"
           },
           "id": 13148,
           "name": "French Restaurant"
          },
          {
           "icon": {
            "prefix": "https://ss3.4sqi.net/img/categories_v2/food/steakhouse_",
            "suffix": ".png"
           },
           "id": 13383,
           "name": "Steakhouse"
          }
         ],
         "hours": {
          "display": "Mon-Fri 00:00-1:00, 11:00-23:59; Sat-Sun 00:00-1:00, 9:00-23:59",
          "is_local_holiday": false,
          "open_now": true,
          "regular": [
           {
            "close": "0100",
            "day": 1,
            "open": "0000"
           },
           {
            "close": "2359",
            "day": 1,
            "open": "1100"
           },
           {
            "close": "0100",
            "day": 2,
            "open": "0000"
           },
           {
            "close": "2359",
            "day": 2,
            "open": "1100"
           },
           {
            "close": "0100",
            "day": 3,
            "open": "0000"
           },
           {
            "close": "2359",
            "day": 3,
            "open": "1100"
           },
           {
            "close": "0100",
            "day": 4,
            "open": "0000"
           },
           {
            "close": "2359",
            "day": 4,
            "open": "1100"
           },
           {
            "close": "0100",
            "day": 5,
            "open": "0000"
           },
           {
            "close": "2359",
            "day": 5,
            "open": "1100"
           },
           {
            "close": "0100",
            "day": 6,
            "open": "0000"
           },
           {
            "close": "2359",
            "day": 6,
            "open": "0900"
           },
           {
            "close": "0100",
            "day": 7,
            "open": "0000"
           },
           {
            "close": "2359",
            "day": 7,
            "open": "0900"
           }
          ],
          "seasonal": []
         },
         "location": {
          "address": "47 York St",
          "country": "CA",
          "cross_street": "Byward Market Square",
          "formatted_address": "47 York St (Byward Market Square), Ottawa ON K1N 5S7",
          "locality": "Ottawa",
          "neighborhood": [
           "Rockcliffe Park"
          ],
          "postcode": "K1N 5S7",
          "region": "ON"
         },
         "name": "Luxe Bistro",
         "rating": 7.7,
         "tel": "(613) 241-8805",
         "website": "http://www.luxebistro.com"
        },
        {
         "categories": [
          {
           "icon": {
            "prefix": "https://ss3.4sqi.net/img/categories_v2/food/default_",
            "suffix": ".png"
           },
           "id": 13310,
           "name": "Modern European Restaurant"
          }
         ],
         "hours": {
          "display": "Mon-Wed 11:30-22:00; Thu-Fri 11:30-23:00; Sat 17:00-23:00; Sun 17:00-22:00",
          "is_local_holiday": false,
          "open_now": true,
          "regular": [
           {
            "close": "2200",
            "day": 1,
            "open": "1130"
           },
           {
            "close": "2200",
            "day": 2,
            "open": "1130"
           },
           {
            "close": "2200",
            "day": 3,
            "open": "1130"
           },
           {
            "close": "2300",
            "day": 4,
            "open": "1130"
           },
           {
            "close": "2300",
            "day": 5,
            "open": "1130"
           },
           {
            "close": "2300",
            "day": 6,
            "open": "1700"
           },
           {
            "close": "2200",
            "day": 7,
            "open": "1700"
           }
          ],
          "seasonal": []
         },
         "location": {
          "address": "62 Sparks St",
          "country": "CA",
          "cross_street": "",
          "formatted_address": "62 Sparks St, Ottawa ON K1P 5A8",
          "locality": "Ottawa",
          "neighborhood": [
           "Parliament Hill"
          ],
          "postcode": "K1P 5A8",
          "region": "ON"
         },
         "name": "Riviera",
         "rating": 8.6,
         "tel": "(613) 233-6262",
         "website": "http://www.dineriviera.com"
        },
        {
         "categories": [
          {
           "icon": {
            "prefix": "https://ss3.4sqi.net/img/categories_v2/food/african_",
            "suffix": ".png"
           },
           "id": 13067,
           "name": "African Restaurant"
          },
          {
           "icon": {
            "prefix": "https://ss3.4sqi.net/img/categories_v2/food/seafood_",
            "suffix": ".png"
           },
           "id": 13338,
           "name": "Seafood Restaurant"
          },
          {
           "icon": {
            "prefix": "https://ss3.4sqi.net/img/categories_v2/food/steakhouse_",
            "suffix": ".png"
           },
           "id": 13383,
           "name": "Steakhouse"
          }
         ],
         "hours": {
          "display": "Mon-Fri 00:00-1:00, 11:30-23:59; Sat 00:00-1:00, 13:00-23:59; Sun 00:00-1:00, 14:00-23:59",
          "is_local_holiday": false,
          "open_now": true,
          "regular": [
           {
            "close": "0100",
            "day": 1,
            "open": "0000"
           },
           {
            "close": "2359",
            "day": 1,
            "open": "1130"
           },
           {
            "close": "0100",
            "day": 2,
            "open": "0000"
           },
           {
            "close": "2359",
            "day": 2,
            "open": "1130"
           },
           {
            "close": "0100",
            "day": 3,
            "open": "0000"
           },
           {
            "close": "2359",
            "day": 3,
            "open": "1130"
           },
           {
            "close": "0100",
            "day": 4,
            "open": "0000"
           },
           {
            "close": "2359",
            "day": 4,
            "open": "1130"
           },
           {
            "close": "0100",
            "day": 5,
            "open": "0000"
           },
           {
            "close": "2359",
            "day": 5,
            "open": "1130"
           },
           {
            "close": "0100",
            "day": 6,
            "open": "0000"
           },
           {
            "close": "2359",
            "day": 6,
            "open": "1300"
           },
           {
            "close": "0100",
            "day": 7,
            "open": "0000"
           },
           {
            "close": "2359",
            "day": 7,
            "open": "1400"
           }
          ],
          "seasonal": []
         },
         "location": {
          "address": "11 Colonel by Dr",
          "address_extended": "# 1",
          "country": "CA",
          "cross_street": "",
          "formatted_address": "11 Colonel by Dr, Ottawa ON K1N 9H4",
          "locality": "Ottawa",
          "neighborhood": [
           "Byward Market - Parliament Hill"
          ],
          "postcode": "K1N 9H4",
          "region": "ON"
         },
         "name": "The Shore Club",
         "rating": 8.1,
         "tel": "(613) 569-5050",
         "website": "http://www.theshoreclub.ca"
        },
        {
         "categories": [
          {
           "icon": {
            "prefix": "https://ss3.4sqi.net/img/categories_v2/nightlife/default_",
            "suffix": ".png"
           },
           "id": 13016,
           "name": "Lounge"
          },
          {
           "icon": {
            "prefix": "https://ss3.4sqi.net/img/categories_v2/food/tapas_",
            "suffix": ".png"
           },
           "id": 13347,
           "name": "Tapas Restaurant"
          }
         ],
         "hours": {
          "display": "Mon-Fri 11:30-14:30, 16:30-23:59; Sat-Sun 16:30-23:59",
          "is_local_holiday": false,
          "open_now": true,
          "regular": [
           {
            "close": "1430",
            "day": 1,
            "open": "1130"
           },
           {
            "close": "2359",
            "day": 1,
            "open": "1630"
           },
           {
            "close": "1430",
            "day": 2,
            "open": "1130"
           },
           {
            "close": "2359",
            "day": 2,
            "open": "1630"
           },
           {
            "close": "1430",
            "day": 3,
            "open": "1130"
           },
           {
            "close": "2359",
            "day": 3,
            "open": "1630"
           },
           {
            "close": "1430",
            "day": 4,
            "open": "1130"
           },
           {
            "close": "2359",
            "day": 4,
            "open": "1630"
           },
           {
            "close": "1430",
            "day": 5,
            "open": "1130"
           },
           {
            "close": "2359",
            "day": 5,
            "open": "1630"
           },
           {
            "close": "2359",
            "day": 6,
            "open": "1630"
           },
           {
            "close": "2359",
            "day": 7,
            "open": "1630"
           }
          ],
          "seasonal": []
         },
         "location": {
          "address": "18B York St",
          "country": "CA",
          "cross_street": "at Sussex Dr",
          "formatted_address": "18B York St (at Sussex Dr), Ottawa ON K1N 5T5",
          "locality": "Ottawa",
          "neighborhood": [
           "Byward Market - Parliament Hill"
          ],
          "postcode": "K1N 5T5",
          "region": "ON"
         },
         "name": "Sidedoor Contemporary Kitchen & Bar",
         "rating": 7.7,
         "tel": "(613) 562-9331",
         "website": "http://www.sidedoorrestaurant.com"
        },
        {
         "categories": [
          {
           "icon": {
            "prefix": "https://ss3.4sqi.net/img/categories_v2/nightlife/pub_",
            "suffix": ".png"
           },
           "id": 13018,
           "name": "Pub"
          },
          {
           "icon": {
            "prefix": "https://ss3.4sqi.net/img/categories_v2/food/diner_",
            "suffix": ".png"
           },
           "id": 13049,
           "name": "Diner"
          }
         ],
         "hours": {
          "display": "Mon-Fri 00:00-2:00, 11:00-23:59; Sat-Sun 00:00-2:00, 8:30-23:59",
          "is_local_holiday": false,
          "open_now": true,
          "regular": [
           {
            "close": "0200",
            "day": 1,
            "open": "0000"
           },
           {
            "close": "2359",
            "day": 1,
            "open": "1100"
           },
           {
            "close": "0200",
            "day": 2,
            "open": "0000"
           },
           {
            "close": "2359",
            "day": 2,
            "open": "1100"
           },
           {
            "close": "0200",
            "day": 3,
            "open": "0000"
           },
           {
            "close": "2359",
            "day": 3,
            "open": "1100"
           },
           {
            "close": "0200",
            "day": 4,
            "open": "0000"
           },
           {
            "close": "2359",
            "day": 4,
            "open": "1100"
           },
           {
            "close": "0200",
            "day": 5,
            "open": "0000"
           },
           {
            "close": "2359",
            "day": 5,
            "open": "1100"
           },
           {
            "close": "0200",
            "day": 6,
            "open": "0000"
           },
           {
            "close": "2359",
            "day": 6,
            "open": "0830"
           },
           {
            "close": "0200",
            "day": 7,
            "open": "0000"
           },
           {
            "close": "2359",
            "day": 7,
            "open": "0830"
           }
          ],
          "seasonal": []
         },
         "location": {
          "address": "62 William St",
          "country": "CA",
          "cross_street": "at George St",
          "formatted_address": "62 William St (at George St), Ottawa ON K1N 7A3",
          "locality": "Ottawa",
          "neighborhood": [
           "Lower Town"
          ],
          "postcode": "K1N 7A3",
          "region": "ON"
         },
         "name": "Aulde Dubliner & Pour House",
         "rating": 7.6,
         "tel": "(613) 241-0066",
         "website": "http://www.auldedubliner.com/dubliner.aspx"
        },
        {
         "categories": [
          {
           "icon": {
            "prefix": "https://ss3.4sqi.net/img/categories_v2/nightlife/default_",
            "suffix": ".png"
           },
           "id": 13016,
           "name": "Lounge"
          },
          {
           "icon": {
            "prefix": "https://ss3.4sqi.net/img/categories_v2/food/default_",
            "suffix": ".png"
           },
           "id": 13032,
           "name": "Cafes, Coffee, and Tea Houses"
          },
          {
           "icon": {
            "prefix": "https://ss3.4sqi.net/img/categories_v2/food/default_",
            "suffix": ".png"
           },
           "id": 13065,
           "name": "Restaurant"
          }
         ],
         "hours": {
          "display": "Mon-Fri 14:00-23:59; Sat-Sun 00:00-1:00, 12:00-23:59",
          "is_local_holiday": false,
          "open_now": false,
          "regular": [
           {
            "close": "2359",
            "day": 1,
            "open": "1400"
           },
           {
            "close": "2359",
            "day": 2,
            "open": "1400"
           },
           {
            "close": "2359",
            "day": 3,
            "open": "1400"
           },
           {
            "close": "2359",
            "day": 4,
            "open": "1400"
           },
           {
            "close": "2359",
            "day": 5,
            "open": "1400"
           },
           {
            "close": "0100",
            "day": 6,
            "open": "0000"
           },
           {
            "close": "2359",
            "day": 6,
            "open": "1200"
           },
           {
            "close": "0100",
            "day": 7,
            "open": "0000"
           },
           {
            "close": "2359",
            "day": 7,
            "open": "1200"
           }
          ],
          "seasonal": []
         },
         "location": {
          "address": "1 Rideau St",
          "country": "CA",
          "cross_street": "at MacKenzie Ave",
          "formatted_address": "1 Rideau St (at MacKenzie Ave), Ottawa ON K1N 8S7",
          "locality": "Ottawa",
          "neighborhood": [
           "Lower Town"
          ],
          "postcode": "K1N 8S7",
          "region": "ON"
         },
         "name": "Zoe's Lounge",
         "rating": 7.9,
         "tel": "(613) 241-1414",
         "website": "http://www.fairmont.com"
        },
        {
         "categories": [
          {
           "icon": {
            "prefix": "https://ss3.4sqi.net/img/categories_v2/food/middleeastern_",
            "suffix": ".png"
           },
           "id": 13298,
           "name": "Lebanese Restaurant"
          },
          {
           "icon": {
            "prefix": "https://ss3.4sqi.net/img/categories_v2/food/middleeastern_",
            "suffix": ".png"
           },
           "id": 13309,
           "name": "Middle Eastern Restaurant"
          },
          {
           "icon": {
            "prefix": "https://ss3.4sqi.net/img/categories_v2/food/deli_",
            "suffix": ".png"
           },
           "id": 13334,
           "name": "Sandwich Restaurant"
          }
         ],
         "hours": {
          "display": "Mon-Thu 00:00-1:00, 11:00-23:59; Fri 00:00-2:00, 11:00-23:59; Sat-Sun 00:00-3:00, 12:00-23:59",
          "is_local_holiday": false,
          "open_now": true,
          "regular": [
           {
            "close": "0100",
            "day": 1,
            "open": "0000"
           },
           {
            "close": "2359",
            "day": 1,
            "open": "1100"
           },
           {
            "close": "0100",
            "day": 2,
            "open": "0000"
           },
           {
            "close": "2359",
            "day": 2,
            "open": "1100"
           },
           {
            "close": "0100",
            "day": 3,
            "open": "0000"
           },
           {
            "close": "2359",
            "day": 3,
            "open": "1100"
           },
           {
            "close": "0100",
            "day": 4,
            "open": "0000"
           },
           {
            "close": "2359",
            "day": 4,
            "open": "1100"
           },
           {
            "close": "0200",
            "day": 5,
            "open": "0000"
           },
           {
            "close": "2359",
            "day": 5,
            "open": "1100"
           },
           {
            "close": "0300",
            "day": 6,
            "open": "0000"
           },
           {
            "close": "2359",
            "day": 6,
            "open": "1200"
           },
           {
            "close": "0300",
            "day": 7,
            "open": "0000"
           },
           {
            "close": "2359",
            "day": 7,
            "open": "1200"
           }
          ],
          "seasonal": []
         },
         "location": {
          "address": "464 Rideau St",
          "country": "CA",
          "cross_street": "btwn Chapel & Augusta",
          "formatted_address": "464 Rideau St (btwn Chapel & Augusta), Ottawa ON K1N 5Z4",
          "locality": "Ottawa",
          "neighborhood": [
           "Rideau-Vanier"
          ],
          "postcode": "K1N 5Z4",
          "region": "ON"
         },
         "name": "Shawarma Palace",
         "rating": 8.2,
         "tel": "(613) 789-9533",
         "website": "http://www.shawarmapalace.ca/"
        },
        {
         "categories": [
          {
           "icon": {
            "prefix": "https://ss3.4sqi.net/img/categories_v2/food/default_",
            "suffix": ".png"
           },
           "id": 13027,
           "name": "Bistro"
          },
          {
           "icon": {
            "prefix": "https://ss3.4sqi.net/img/categories_v2/food/cafe_",
            "suffix": ".png"
           },
           "id": 13034,
           "name": "Café"
          }
         ],
         "hours": {
          "display": "Open Daily 7:00-22:00",
          "is_local_holiday": false,
          "open_now": true,
          "regular": [
           {
            "close": "2200",
            "day": 1,
            "open": "0700"
           },
           {
            "close": "2200",
            "day": 2,
            "open": "0700"
           },
           {
            "close": "2200",
            "day": 3,
            "open": "0700"
           },
           {
            "close": "2200",
            "day": 4,
            "open": "0700"
           },
           {
            "close": "2200",
            "day": 5,
            "open": "0700"
           },
           {
            "close": "2200",
            "day": 6,
            "open": "0700"
           },
           {
            "close": "2200",
            "day": 7,
            "open": "0700"
           }
          ],
          "seasonal": []
         },
         "location": {
          "address": "55 Byward Market Sq",
          "country": "CA",
          "cross_street": "at York St",
          "formatted_address": "55 Byward Market Sq (at York St), Ottawa ON K1N 9C3",
          "locality": "Ottawa",
          "postcode": "K1N 9C3",
          "region": "ON"
         },
         "name": "Le Moulin de Provence",
         "rating": 7.3,
         "tel": "(613) 241-9152",
         "website": "http://moulindeprovence.com"
        },
        {
         "categories": [
          {
           "icon": {
            "prefix": "https://ss3.4sqi.net/img/categories_v2/food/default_",
            "suffix": ".png"
           },
           "id": 13065,
           "name": "Restaurant"
          }
         ],
         "hours": {
          "display": "Mon-Fri 11:30-14:00, 17:30-23:00; Sat 7:00-11:00, 11:30-14:00, 17:30-22:00; Sun 7:00-10:30, 11:00-12:30",
          "is_local_holiday": false,
          "open_now": true,
          "regular": [
           {
            "close": "1400",
            "day": 1,
            "open": "1130"
           },
           {
            "close": "2300",
            "day": 1,
            "open": "1730"
           },
           {
            "close": "1400",
            "day": 2,
            "open": "1130"
           },
           {
            "close": "2300",
            "day": 2,
            "open": "1730"
           },
           {
            "close": "1400",
            "day": 3,
            "open": "1130"
           },
           {
            "close": "2300",
            "day": 3,
            "open": "1730"
           },
           {
            "close": "1400",
            "day": 4,
            "open": "1130"
           },
           {
            "close": "2300",
            "day": 4,
            "open": "1730"
           },
           {
            "close": "1400",
            "day": 5,
            "open": "1130"
           },
           {
            "close": "2300",
            "day": 5,
            "open": "1730"
           },
           {
            "close": "1100",
            "day": 6,
            "open": "0700"
           },
           {
            "close": "1400",
            "day": 6,
            "open": "1130"
           },
           {
            "close": "2200",
            "day": 6,
            "open": "1730"
           },
           {
            "close": "1030",
            "day": 7,
            "open": "0700"
           },
           {
            "close": "1230",
            "day": 7,
            "open": "1100"
           }
          ],
          "seasonal": []
         },
         "location": {
          "address": "1 Rideau St",
          "country": "CA",
          "formatted_address": "1 Rideau St, Ottawa ON K1N 8S7",
          "locality": "Ottawa",
          "neighborhood": [
           "Byward Market-Parliament Hill, Ottawa, ON"
          ],
          "postcode": "K1N 8S7",
          "region": "ON"
         },
         "name": "Wilfrid's",
         "rating": 7.7,
         "tel": "(613) 241-1414",
         "website": "http://www.fairmont.com/laurier-ottawa/dining/wilfrids/"
        },
        {
         "categories": [
          {
           "icon": {
            "prefix": "https://ss3.4sqi.net/img/categories_v2/nightlife/pub_",
            "suffix": ".png"
           },
           "id": 13018,
           "name": "Pub"
          },
          {
           "icon": {
            "prefix": "https://ss3.4sqi.net/img/categories_v2/food/default_",
            "suffix": ".png"
           },
           "id": 13065,
           "name": "Restaurant"
          }
         ],
         "hours": {
          "display": "Mon-Fri 00:00-1:00, 11:00-23:59; Sat-Sun 00:00-2:00, 11:00-23:59",
          "is_local_holiday": false,
          "open_now": true,
          "regular": [
           {
            "close": "0100",
            "day": 1,
            "open": "0000"
           },
           {
            "close": "2359",
            "day": 1,
            "open": "1100"
           },
           {
            "close": "0100",
            "day": 2,
            "open": "0000"
           },
           {
            "close": "2359",
            "day": 2,
            "open": "1100"
           },
           {
            "close": "0100",
            "day": 3,
            "open": "0000"
           },
           {
            "close": "2359",
            "day": 3,
            "open": "1100"
           },
           {
            "close": "0100",
            "day": 4,
            "open": "0000"
           },
           {
            "close": "2359",
            "day": 4,
            "open": "1100"
           },
           {
            "close": "0100",
            "day": 5,
            "open": "0000"
           },
           {
            "close": "2359",
            "day": 5,
            "open": "1100"
           },
           {
            "close": "0200",
            "day": 6,
            "open": "0000"
           },
           {
            "close": "2359",
            "day": 6,
            "open": "1100"
           },
           {
            "close": "0200",
            "day": 7,
            "open": "0000"
           },
           {
            "close": "2359",
            "day": 7,
            "open": "1100"
           }
          ],
          "seasonal": []
         },
         "location": {
          "address": "14 Waller St",
          "country": "CA",
          "cross_street": "at Rideau St",
          "formatted_address": "14 Waller St (at Rideau St), Ottawa ON K1N 9C4",
          "locality": "Ottawa",
          "neighborhood": [
           "Lower Town"
          ],
          "postcode": "K1N 9C4",
          "region": "ON"
         },
         "name": "Level One",
         "rating": 7.4,
         "tel": "(613) 680-7529",
         "website": "http://www.levelonegamepub.com"
        },
        {
         "categories": [
          {
           "icon": {
            "prefix": "https://ss3.4sqi.net/img/categories_v2/food/french_",
            "suffix": ".png"
           },
           "id": 13148,
           "name": "French Restaurant"
          }
         ],
         "hours": {
          "display": "Mon-Tue 8:00-23:59; Wed-Fri 00:00-2:00, 8:00-23:59; Sat-Sun 00:00-2:00, 9:00-23:59",
          "is_local_holiday": false,
          "open_now": true,
          "regular": [
           {
            "close": "2359",
            "day": 1,
            "open": "0800"
           },
           {
            "close": "2359",
            "day": 2,
            "open": "0800"
           },
           {
            "close": "0200",
            "day": 3,
            "open": "0000"
           },
           {
            "close": "2359",
            "day": 3,
            "open": "0800"
           },
           {
            "close": "0200",
            "day": 4,
            "open": "0000"
           },
           {
            "close": "2359",
            "day": 4,
            "open": "0800"
           },
           {
            "close": "0200",
            "day": 5,
            "open": "0000"
           },
           {
            "close": "2359",
            "day": 5,
            "open": "0800"
           },
           {
            "close": "0200",
            "day": 6,
            "open": "0000"
           },
           {
            "close": "2359",
            "day": 6,
            "open": "0900"
           },
           {
            "close": "0200",
            "day": 7,
            "open": "0000"
           },
           {
            "close": "2359",
            "day": 7,
            "open": "0900"
           }
          ],
          "seasonal": []
         },
         "location": {
          "address": "700 Sussex Dr",
          "country": "CA",
          "cross_street": "at Rideau St",
          "formatted_address": "700 Sussex Dr (at Rideau St), Ottawa ON K1N 1K4",
          "locality": "Ottawa",
          "neighborhood": [
           "Byward Market - Parliament Hill"
          ],
          "postcode": "K1N 1K4",
          "region": "ON"
         },
         "name": "Metropolitain Brasserie",
         "rating": 7.6,
         "tel": "(613) 562-1160",
         "website": "http://www.metropolitainbrasserie.com"
        },
        {
         "categories": [
          {
           "icon": {
            "prefix": "https://ss3.4sqi.net/img/categories_v2/food/default_",
            "suffix": ".png"
           },
           "id": 13068,
           "name": "American Restaurant"
          },
          {
           "icon": {
            "prefix": "https://ss3.4sqi.net/img/categories_v2/food/newamerican_",
            "suffix": ".png"
           },
           "id": 13314,
           "name": "New American Restaurant"
          }
         ],
         "hours": {
          "display": "Open Daily 11:30-21:00",
          "is_local_holiday": false,
          "open_now": true,
          "regular": [
           {
            "close": "2100",
            "day": 1,
            "open": "1130"
           },
           {
            "close": "2100",
            "day": 2,
            "open": "1130"
           },
           {
            "close": "2100",
            "day": 3,
            "open": "1130"
           },
           {
            "close": "2100",
            "day": 4,
            "open": "1130"
           },
           {
            "close": "2100",
            "day": 5,
            "open": "1130"
           },
           {
            "close": "2100",
            "day": 6,
            "open": "1130"
           },
           {
            "close": "2100",
            "day": 7,
            "open": "1130"
           }
          ],
          "seasonal": []
         },
         "location": {
          "address": "53 Elgin St",
          "country": "CA",
          "cross_street": "National Arts Centre",
          "formatted_address": "53 Elgin St (National Arts Centre), Ottawa ON K1P 5W1",
          "locality": "Ottawa",
          "neighborhood": [
           "Byward Market - Parliament Hill"
          ],
          "postcode": "K1P 5W1",
          "region": "ON"
         },
         "name": "Le Café",
         "rating": 7.7,
         "tel": "(613) 594-5127",
         "website": "http://nac-cna.ca/en/lecafe"
        },
        {
         "categories": [
          {
           "icon": {
            "prefix": "https://ss3.4sqi.net/img/categories_v2/food/default_",
            "suffix": ".png"
           },
           "id": 13027,
           "name": "Bistro"
          },
          {
           "icon": {
            "prefix": "https://ss3.4sqi.net/img/categories_v2/food/dessert_",
            "suffix": ".png"
           },
           "id": 13040,
           "name": "Dessert Shop"
          }
         ],
         "hours": {
          "display": "Mon-Thu 10:00-23:00; Fri-Sat 10:00-23:59; Sun 10:00-23:00",
          "is_local_holiday": false,
          "open_now": true,
          "regular": [
           {
            "close": "2300",
            "day": 1,
            "open": "1000"
           },
           {
            "close": "2300",
            "day": 2,
            "open": "1000"
           },
           {
            "close": "2300",
            "day": 3,
            "open": "1000"
           },
           {
            "close": "2300",
            "day": 4,
            "open": "1000"
           },
           {
            "close": "2359",
            "day": 5,
            "open": "1000"
           },
           {
            "close": "2359",
            "day": 6,
            "open": "1000"
           },
           {
            "close": "2300",
            "day": 7,
            "open": "1000"
           }
          ],
          "seasonal": []
         },
         "location": {
          "address": "53 William St",
          "address_extended": "# 51",
          "country": "CA",
          "cross_street": "btwn York St & George St",
          "formatted_address": "53 William St (btwn York St & George St), Ottawa ON K1N 6Z9",
          "locality": "Ottawa",
          "neighborhood": [
           "Lower Town"
          ],
          "postcode": "K1N 6Z9",
          "region": "ON"
         },
         "name": "Cacao 70",
         "rating": 7,
         "tel": "(613) 860-1991",
         "website": "http://cacao70.ca/en/"
        },
        {
         "categories": [
          {
           "icon": {
            "prefix": "https://ss3.4sqi.net/img/categories_v2/nightlife/pub_",
            "suffix": ".png"
           },
           "id": 13003,
           "name": "Bar"
          },
          {
           "icon": {
            "prefix": "https://ss3.4sqi.net/img/categories_v2/food/diner_",
            "suffix": ".png"
           },
           "id": 13049,
           "name": "Diner"
          }
         ],
         "hours": {
          "display": "Mon-Wed 00:00-1:00, 11:00-23:59; Thu-Fri 00:00-2:00, 11:00-23:59; Sat-Sun 00:00-2:00, 10:00-23:59",
          "is_local_holiday": false,
          "open_now": true,
          "regular": [
           {
            "close": "0100",
            "day": 1,
            "open": "0000"
           },
           {
            "close": "2359",
            "day": 1,
            "open": "1100"
           },
           {
            "close": "0100",
            "day": 2,
            "open": "0000"
           },
           {
            "close": "2359",
            "day": 2,
            "open": "1100"
           },
           {
            "close": "0100",
            "day": 3,
            "open": "0000"
           },
           {
            "close": "2359",
            "day": 3,
            "open": "1100"
           },
           {
            "close": "0200",
            "day": 4,
            "open": "0000"
           },
           {
            "close": "2359",
            "day": 4,
            "open": "1100"
           },
           {
            "close": "0200",
            "day": 5,
            "open": "0000"
           },
           {
            "close": "2359",
            "day": 5,
            "open": "1100"
           },
           {
            "close": "0200",
            "day": 6,
            "open": "0000"
           },
           {
            "close": "2359",
            "day": 6,
            "open": "1000"
           },
           {
            "close": "0200",
            "day": 7,
            "open": "0000"
           },
           {
            "close": "2359",
            "day": 7,
            "open": "1000"
           }
          ],
          "seasonal": []
         },
         "location": {
          "address": "44 Sparks St",
          "country": "CA",
          "cross_street": "at Elgin St",
          "formatted_address": "44 Sparks St (at Elgin St), Ottawa ON K1P 5A8",
          "locality": "Ottawa",
          "neighborhood": [
           "Rockcliffe Park"
          ],
          "postcode": "K1P 5A8",
          "region": "ON"
         },
         "name": "D'Arcy McGee's Irish Pub",
         "rating": 7.3,
         "tel": "(613) 230-4433",
         "website": "http://ottawa.darcymcgees.com/"
        },
        {
         "categories": [
          {
           "icon": {
            "prefix": "https://ss3.4sqi.net/img/categories_v2/food/cafe_",
            "suffix": ".png"
           },
           "id": 13034,
           "name": "Café"
          },
          {
           "icon": {
            "prefix": "https://ss3.4sqi.net/img/categories_v2/food/coffeeshop_",
            "suffix": ".png"
           },
           "id": 13035,
           "name": "Coffee Shop"
          },
          {
           "icon": {
            "prefix": "https://ss3.4sqi.net/img/categories_v2/food/default_",
            "suffix": ".png"
           },
           "id": 13065,
           "name": "Restaurant"
          }
         ],
         "hours": {
          "display": "Mon-Fri 6:30-19:00; Sat-Sun 8:00-18:00",
          "is_local_holiday": false,
          "open_now": true,
          "regular": [
           {
            "close": "1900",
            "day": 1,
            "open": "0630"
           },
           {
            "close": "1900",
            "day": 2,
            "open": "0630"
           },
           {
            "close": "1900",
            "day": 3,
            "open": "0630"
           },
           {
            "close": "1900",
            "day": 4,
            "open": "0630"
           },
           {
            "close": "1900",
            "day": 5,
            "open": "0630"
           },
           {
            "close": "1800",
            "day": 6,
            "open": "0800"
           },
           {
            "close": "1800",
            "day": 7,
            "open": "0800"
           }
          ],
          "seasonal": []
         },
         "location": {
          "address": "100 Sparks St",
          "country": "CA",
          "cross_street": "at Metcalfe St",
          "formatted_address": "100 Sparks St (at Metcalfe St), Ottawa ON K1P 5B7",
          "locality": "Ottawa",
          "neighborhood": [
           "Rockcliffe Park"
          ],
          "postcode": "K1P 5B7",
          "region": "ON"
         },
         "name": "Bridgehead",
         "rating": 7.3,
         "tel": "(613) 232-4936",
         "website": "http://www.bridgehead.ca"
        },
        {
         "categories": [
          {
           "icon": {
            "prefix": "https://ss3.4sqi.net/img/categories_v2/arts_entertainment/musicvenue_rockclub_",
            "suffix": ".png"
           },
           "id": 10041,
           "name": "Rock Club"
          },
          {
           "icon": {
            "prefix": "https://ss3.4sqi.net/img/categories_v2/nightlife/pub_",
            "suffix": ".png"
           },
           "id": 13003,
           "name": "Bar"
          },
          {
           "icon": {
            "prefix": "https://ss3.4sqi.net/img/categories_v2/food/diner_",
            "suffix": ".png"
           },
           "id": 13049,
           "name": "Diner"
          }
         ],
         "hours": {
          "display": "Mon 17:00-23:59; Tue-Fri 00:00-2:00, 17:00-23:59; Sat 00:00-2:00",
          "is_local_holiday": false,
          "open_now": false,
          "regular": [
           {
            "close": "2359",
            "day": 1,
            "open": "1700"
           },
           {
            "close": "0200",
            "day": 2,
            "open": "0000"
           },
           {
            "close": "2359",
            "day": 2,
            "open": "1700"
           },
           {
            "close": "0200",
            "day": 3,
            "open": "0000"
           },
           {
            "close": "2359",
            "day": 3,
            "open": "1700"
           },
           {
            "close": "0200",
            "day": 4,
            "open": "0000"
           },
           {
            "close": "2359",
            "day": 4,
            "open": "1700"
           },
           {
            "close": "0200",
            "day": 5,
            "open": "0000"
           },
           {
            "close": "2359",
            "day": 5,
            "open": "1700"
           },
           {
            "close": "0200",
            "day": 6,
            "open": "0000"
           }
          ],
          "seasonal": []
         },
         "location": {
          "address": "221 Rideau St",
          "country": "CA",
          "cross_street": "",
          "formatted_address": "221 Rideau St, Ottawa ON K1N 5X8",
          "locality": "Ottawa",
          "neighborhood": [
           "Lower Town"
          ],
          "postcode": "K1N 5X8",
          "region": "ON"
         },
         "name": "Mavericks",
         "rating": 6.7,
         "tel": "(613) 562-3941",
         "website": "http://www.mavericksbar.com"
        },
        {
         "categories": [
          {
           "icon": {
            "prefix": "https://ss3.4sqi.net/img/categories_v2/food/indian_",
            "suffix": ".png"
           },
           "id": 13199,
           "name": "Indian Restaurant"
          }
         ],
         "hours": {
          "display": "Open Daily 17:00-20:30",
          "is_local_holiday": false,
          "open_now": false,
          "regular": [
           {
            "close": "2030",
            "day": 1,
            "open": "1700"
           },
           {
            "close": "2030",
            "day": 2,
            "open": "1700"
           },
           {
            "close": "2030",
            "day": 3,
            "open": "1700"
           },
           {
            "close": "2030",
            "day": 4,
            "open": "1700"
           },
           {
            "close": "2030",
            "day": 5,
            "open": "1700"
           },
           {
            "close": "2030",
            "day": 6,
            "open": "1700"
           },
           {
            "close": "2030",
            "day": 7,
            "open": "1700"
           }
          ],
          "seasonal": []
         },
         "location": {
          "address": "308 Dalhousie St",
          "country": "CA",
          "cross_street": "",
          "formatted_address": "308 Dalhousie St, Ottawa ON K1N 7E7",
          "locality": "Ottawa",
          "neighborhood": [
           "Byward market"
          ],
          "postcode": "K1N 7E7",
          "region": "ON"
         },
         "name": "Cafe Shafali",
         "rating": 6.4,
         "tel": "(613) 789-9188",
         "website": "http://www.shafali.com"
        },
        {
         "categories": [
          {
           "icon": {
            "prefix": "https://ss3.4sqi.net/img/categories_v2/nightlife/pub_",
            "suffix": ".png"
           },
           "id": 13003,
           "name": "Bar"
          },
          {
           "icon": {
            "prefix": "https://ss3.4sqi.net/img/categories_v2/food/diner_",
            "suffix": ".png"
           },
           "id": 13049,
           "name": "Diner"
          }
         ],
         "hours": {
          "display": "Tue 17:30-23:59; Wed-Sat 00:00-2:00, 17:30-23:59; Sun 00:00-2:00",
          "is_local_holiday": false,
          "open_now": false,
          "regular": [
           {
            "close": "2359",
            "day": 2,
            "open": "1730"
           },
           {
            "close": "0200",
            "day": 3,
            "open": "0000"
           },
           {
            "close": "2359",
            "day": 3,
            "open": "1730"
           },
           {
            "close": "0200",
            "day": 4,
            "open": "0000"
           },
           {
            "close": "2359",
            "day": 4,
            "open": "1730"
           },
           {
            "close": "0200",
            "day": 5,
            "open": "0000"
           },
           {
            "close": "2359",
            "day": 5,
            "open": "1730"
           },
           {
            "close": "0200",
            "day": 6,
            "open": "0000"
           },
           {
            "close": "2359",
            "day": 6,
            "open": "1730"
           },
           {
            "close": "0200",
            "day": 7,
            "open": "0000"
           }
          ],
          "seasonal": []
         },
         "location": {
          "address": "135A 1/2 Besserer St",
          "country": "CA",
          "cross_street": "",
          "formatted_address": "135A 1/2 Besserer St, Ottawa ON K1N 6A7",
          "locality": "Ottawa",
          "neighborhood": [
           "Rockcliffe Park"
          ],
          "postcode": "K1N 6A7",
          "region": "ON"
         },
         "name": "Avant Garde Bar and Gift Store",
         "rating": 6.6,
         "tel": "(613) 321-8908",
         "website": "http://www.avantgardebar.com"
        },
        {
         "categories": [
          {
           "icon": {
            "prefix": "https://ss3.4sqi.net/img/categories_v2/food/deli_",
            "suffix": ".png"
           },
           "id": 13039,
           "name": "Deli"
          },
          {
           "icon": {
            "prefix": "https://ss3.4sqi.net/img/categories_v2/food/fastfood_",
            "suffix": ".png"
           },
           "id": 13145,
           "name": "Fast Food Restaurant"
          }
         ],
         "hours": {
          "display": "Mon-Fri 10:00-22:00; Sat-Sun 10:30-22:00",
          "is_local_holiday": false,
          "open_now": true,
          "regular": [
           {
            "close": "2200",
            "day": 1,
            "open": "1000"
           },
           {
            "close": "2200",
            "day": 2,
            "open": "1000"
           },
           {
            "close": "2200",
            "day": 3,
            "open": "1000"
           },
           {
            "close": "2200",
            "day": 4,
            "open": "1000"
           },
           {
            "close": "2200",
            "day": 5,
            "open": "1000"
           },
           {
            "close": "2200",
            "day": 6,
            "open": "1030"
           },
           {
            "close": "2200",
            "day": 7,
            "open": "1030"
           }
          ],
          "seasonal": []
         },
         "location": {
          "address": "380 Dalhousie St",
          "country": "CA",
          "cross_street": "Rideau St",
          "formatted_address": "380 Dalhousie St (Rideau St), Ottawa ON K1N 7G3",
          "locality": "Ottawa",
          "neighborhood": [
           "Byward Market - Parliament Hill"
          ],
          "postcode": "K1N 7G3",
          "region": "ON"
         },
         "name": "Subway",
         "rating": 6.5,
         "tel": "(613) 789-7337",
         "website": "http://www.subway.com/"
        },
        {
         "categories": [
          {
           "icon": {
            "prefix": "https://ss3.4sqi.net/img/categories_v2/nightlife/pub_",
            "suffix": ".png"
           },
           "id": 13003,
           "name": "Bar"
          },
          {
           "icon": {
            "prefix": "https://ss3.4sqi.net/img/categories_v2/food/brewery_",
            "suffix": ".png"
           },
           "id": 13029,
           "name": "Brewery"
          },
          {
           "icon": {
            "prefix": "https://ss3.4sqi.net/img/categories_v2/food/default_",
            "suffix": ".png"
           },
           "id": 13065,
           "name": "Restaurant"
          }
         ],
         "hours": {
          "display": "Mon-Thu 00:00-1:00, 11:00-23:59; Fri-Sun 00:00-2:00, 11:00-23:59",
          "is_local_holiday": false,
          "open_now": true,
          "regular": [
           {
            "close": "0100",
            "day": 1,
            "open": "0000"
           },
           {
            "close": "2359",
            "day": 1,
            "open": "1100"
           },
           {
            "close": "0100",
            "day": 2,
            "open": "0000"
           },
           {
            "close": "2359",
            "day": 2,
            "open": "1100"
           },
           {
            "close": "0100",
            "day": 3,
            "open": "0000"
           },
           {
            "close": "2359",
            "day": 3,
            "open": "1100"
           },
           {
            "close": "0100",
            "day": 4,
            "open": "0000"
           },
           {
            "close": "2359",
            "day": 4,
            "open": "1100"
           },
           {
            "close": "0200",
            "day": 5,
            "open": "0000"
           },
           {
            "close": "2359",
            "day": 5,
            "open": "1100"
           },
           {
            "close": "0200",
            "day": 6,
            "open": "0000"
           },
           {
            "close": "2359",
            "day": 6,
            "open": "1100"
           },
           {
            "close": "0200",
            "day": 7,
            "open": "0000"
           },
           {
            "close": "2359",
            "day": 7,
            "open": "1100"
           }
          ],
          "seasonal": []
         },
         "location": {
          "address": "73 York St",
          "country": "CA",
          "cross_street": "btwn William St and Dalhousie St",
          "formatted_address": "73 York St (btwn William St and Dalhousie St), Ottawa ON K1N 5T2",
          "locality": "Ottawa",
          "neighborhood": [
           "Lower Town"
          ],
          "postcode": "K1N 5T2",
          "region": "ON"
         },
         "name": "Lowertown Brewery",
         "rating": 6.3,
         "tel": "(613) 722-1454",
         "website": "http://www.lowertownbrewery.ca/"
        },
        {
         "categories": [
          {
           "icon": {
            "prefix": "https://ss3.4sqi.net/img/categories_v2/food/cafe_",
            "suffix": ".png"
           },
           "id": 13034,
           "name": "Café"
          },
          {
           "icon": {
            "prefix": "https://ss3.4sqi.net/img/categories_v2/food/default_",
            "suffix": ".png"
           },
           "id": 13065,
           "name": "Restaurant"
          }
         ],
         "hours": {
          "display": "Mon-Fri 7:00-19:00; Sat-Sun 7:00-18:00",
          "is_local_holiday": false,
          "open_now": true,
          "regular": [
           {
            "close": "1900",
            "day": 1,
            "open": "0700"
           },
           {
            "close": "1900",
            "day": 2,
            "open": "0700"
           },
           {
            "close": "1900",
            "day": 3,
            "open": "0700"
           },
           {
            "close": "1900",
            "day": 4,
            "open": "0700"
           },
           {
            "close": "1900",
            "day": 5,
            "open": "0700"
           },
           {
            "close": "1800",
            "day": 6,
            "open": "0700"
           },
           {
            "close": "1800",
            "day": 7,
            "open": "0700"
           }
          ],
          "seasonal": []
         },
         "location": {
          "address": "30 Metcalfe St",
          "country": "CA",
          "cross_street": "",
          "formatted_address": "30 Metcalfe St, Ottawa ON K1P 5L4",
          "locality": "Ottawa",
          "neighborhood": [
           "Parliament Hill"
          ],
          "postcode": "K1P 5L4",
          "region": "ON"
         },
         "name": "Le Moulin de Provence K.D",
         "rating": 6.9,
         "tel": "(613) 695-2253",
         "website": "http://moulindeprovencekd.ca"
        },
        {
         "categories": [
          {
           "icon": {
            "prefix": "https://ss3.4sqi.net/img/categories_v2/food/pizza_",
            "suffix": ".png"
           },
           "id": 13064,
           "name": "Pizzeria"
          },
          {
           "icon": {
            "prefix": "https://ss3.4sqi.net/img/categories_v2/food/italian_",
            "suffix": ".png"
           },
           "id": 13236,
           "name": "Italian Restaurant"
          }
         ],
         "hours": {
          "display": "Mon-Thu 11:00-23:59; Fri-Sun 00:00-1:00, 11:00-23:59",
          "is_local_holiday": false,
          "open_now": true,
          "regular": [
           {
            "close": "2359",
            "day": 1,
            "open": "1100"
           },
           {
            "close": "2359",
            "day": 2,
            "open": "1100"
           },
           {
            "close": "2359",
            "day": 3,
            "open": "1100"
           },
           {
            "close": "2359",
            "day": 4,
            "open": "1100"
           },
           {
            "close": "0100",
            "day": 5,
            "open": "0000"
           },
           {
            "close": "2359",
            "day": 5,
            "open": "1100"
           },
           {
            "close": "0100",
            "day": 6,
            "open": "0000"
           },
           {
            "close": "2359",
            "day": 6,
            "open": "1100"
           },
           {
            "close": "0100",
            "day": 7,
            "open": "0000"
           },
           {
            "close": "2359",
            "day": 7,
            "open": "1100"
           }
          ],
          "seasonal": []
         },
         "location": {
          "address": "74 George St",
          "country": "CA",
          "cross_street": "at William St",
          "formatted_address": "74 George St (at William St), Ottawa ON K1N 5W1",
          "locality": "Ottawa",
          "neighborhood": [
           "Byward Market - Parliament Hill"
          ],
          "postcode": "K1N 5W1",
          "region": "ON"
         },
         "name": "The Grand Pizzeria & Bar",
         "rating": 6.4,
         "tel": "(613) 244-9995",
         "website": "http://www.thegrandpizzeria.com"
        },
        {
         "categories": [
          {
           "icon": {
            "prefix": "https://ss3.4sqi.net/img/categories_v2/nightlife/pub_",
            "suffix": ".png"
           },
           "id": 13018,
           "name": "Pub"
          },
          {
           "icon": {
            "prefix": "https://ss3.4sqi.net/img/categories_v2/food/default_",
            "suffix": ".png"
           },
           "id": 13068,
           "name": "American Restaurant"
          }
         ],
         "hours": {
          "display": "Open Daily 00:00-1:00, 11:30-23:59",
          "is_local_holiday": false,
          "open_now": true,
          "regular": [
           {
            "close": "0100",
            "day": 1,
            "open": "0000"
           },
           {
            "close": "2359",
            "day": 1,
            "open": "1130"
           },
           {
            "close": "0100",
            "day": 2,
            "open": "0000"
           },
           {
            "close": "2359",
            "day": 2,
            "open": "1130"
           },
           {
            "close": "0100",
            "day": 3,
            "open": "0000"
           },
           {
            "close": "2359",
            "day": 3,
            "open": "1130"
           },
           {
            "close": "0100",
            "day": 4,
            "open": "0000"
           },
           {
            "close": "2359",
            "day": 4,
            "open": "1130"
           },
           {
            "close": "0100",
            "day": 5,
            "open": "0000"
           },
           {
            "close": "2359",
            "day": 5,
            "open": "1130"
           },
           {
            "close": "0100",
            "day": 6,
            "open": "0000"
           },
           {
            "close": "2359",
            "day": 6,
            "open": "1130"
           },
           {
            "close": "0100",
            "day": 7,
            "open": "0000"
           },
           {
            "close": "2359",
            "day": 7,
            "open": "1130"
           }
          ],
          "seasonal": []
         },
         "location": {
          "address": "101 York St",
          "country": "CA",
          "cross_street": "Dalhousie St",
          "formatted_address": "101 York St (Dalhousie St), Ottawa ON K1N 5T4",
          "locality": "Ottawa",
          "neighborhood": [
           "Byward market"
          ],
          "postcode": "K1N 5T4",
          "region": "ON"
         },
         "name": "Pub 101",
         "rating": 6.1,
         "tel": "(613) 789-3515",
         "website": "http://pub101.com"
        },
        {
         "categories": [
          {
           "icon": {
            "prefix": "https://ss3.4sqi.net/img/categories_v2/nightlife/pub_",
            "suffix": ".png"
           },
           "id": 13003,
           "name": "Bar"
          },
          {
           "icon": {
            "prefix": "https://ss3.4sqi.net/img/categories_v2/food/diner_",
            "suffix": ".png"
           },
           "id": 13049,
           "name": "Diner"
          }
         ],
         "hours": {
          "display": "Mon-Tue 11:30-23:59; Wed 11:30-12:00; Thu-Fri 11:30-23:59; Sat 00:00-1:00, 11:30-23:59; Sun 00:00-1:00, 11:00-23:59",
          "is_local_holiday": false,
          "open_now": true,
          "regular": [
           {
            "close": "2359",
            "day": 1,
            "open": "1130"
           },
           {
            "close": "2359",
            "day": 2,
            "open": "1130"
           },
           {
            "close": "1200",
            "day": 3,
            "open": "1130"
           },
           {
            "close": "2359",
            "day": 4,
            "open": "1130"
           },
           {
            "close": "2359",
            "day": 5,
            "open": "1130"
           },
           {
            "close": "0100",
            "day": 6,
            "open": "0000"
           },
           {
            "close": "2359",
            "day": 6,
            "open": "1130"
           },
           {
            "close": "0100",
            "day": 7,
            "open": "0000"
           },
           {
            "close": "2359",
            "day": 7,
            "open": "1100"
           }
          ],
          "seasonal": []
         },
         "location": {
          "address": "431 Sussex Dr",
          "country": "CA",
          "cross_street": "at Murray St",
          "formatted_address": "431 Sussex Dr (at Murray St), Ottawa ON K1N 9M6",
          "locality": "Ottawa",
          "neighborhood": [
           "Byward market"
          ],
          "postcode": "K1N 9M6",
          "region": "ON"
         },
         "name": "Earl of Sussex Pub",
         "rating": 6.3,
         "tel": "(613) 562-5544",
         "website": "http://www.earlofsussex.ca"
        },
        {
         "categories": [
          {
           "icon": {
            "prefix": "https://ss3.4sqi.net/img/categories_v2/food/thai_",
            "suffix": ".png"
           },
           "id": 13352,
           "name": "Thai Restaurant"
          }
         ],
         "hours": {
          "display": "Mon-Thu 11:30-14:30, 17:00-22:00; Fri 11:30-14:30, 17:00-22:30; Sat 17:00-22:30; Sun 17:30-21:00",
          "is_local_holiday": false,
          "open_now": true,
          "regular": [
           {
            "close": "1430",
            "day": 1,
            "open": "1130"
           },
           {
            "close": "2200",
            "day": 1,
            "open": "1700"
           },
           {
            "close": "1430",
            "day": 2,
            "open": "1130"
           },
           {
            "close": "2200",
            "day": 2,
            "open": "1700"
           },
           {
            "close": "1430",
            "day": 3,
            "open": "1130"
           },
           {
            "close": "2200",
            "day": 3,
            "open": "1700"
           },
           {
            "close": "1430",
            "day": 4,
            "open": "1130"
           },
           {
            "close": "2200",
            "day": 4,
            "open": "1700"
           },
           {
            "close": "1430",
            "day": 5,
            "open": "1130"
           },
           {
            "close": "2230",
            "day": 5,
            "open": "1700"
           },
           {
            "close": "2230",
            "day": 6,
            "open": "1700"
           },
           {
            "close": "2100",
            "day": 7,
            "open": "1730"
           }
          ],
          "seasonal": []
         },
         "location": {
          "address": "103 Murray St",
          "country": "CA",
          "cross_street": "",
          "formatted_address": "103 Murray St, Ottawa ON K1N 5M5",
          "locality": "Ottawa",
          "neighborhood": [
           "Byward market"
          ],
          "postcode": "K1N 5M5",
          "region": "ON"
         },
         "name": "Khao Thai Restaurant",
         "rating": 6,
         "tel": "(613) 241-7276",
         "website": "http://www.khaothai.ca"
        },
        {
         "categories": [
          {
           "icon": {
            "prefix": "https://ss3.4sqi.net/img/categories_v2/nightlife/pub_",
            "suffix": ".png"
           },
           "id": 13003,
           "name": "Bar"
          },
          {
           "icon": {
            "prefix": "https://ss3.4sqi.net/img/categories_v2/food/diner_",
            "suffix": ".png"
           },
           "id": 13049,
           "name": "Diner"
          },
          {
           "icon": {
            "prefix": "https://ss3.4sqi.net/img/categories_v2/food/cajun_",
            "suffix": ".png"
           },
           "id": 13095,
           "name": "Cajun / Creole Restaurant"
          }
         ],
         "hours": {
          "display": "Mon-Wed 11:00-22:00; Thu 11:00-23:00; Fri 11:00-23:59; Sat 00:00-2:00, 11:00-23:59; Sun 00:00-2:00, 11:00-22:00",
          "is_local_holiday": false,
          "open_now": true,
          "regular": [
           {
            "close": "2200",
            "day": 1,
            "open": "1100"
           },
           {
            "close": "2200",
            "day": 2,
            "open": "1100"
           },
           {
            "close": "2200",
            "day": 3,
            "open": "1100"
           },
           {
            "close": "2300",
            "day": 4,
            "open": "1100"
           },
           {
            "close": "2359",
            "day": 5,
            "open": "1100"
           },
           {
            "close": "0200",
            "day": 6,
            "open": "0000"
           },
           {
            "close": "2359",
            "day": 6,
            "open": "1100"
           },
           {
            "close": "0200",
            "day": 7,
            "open": "0000"
           },
           {
            "close": "2200",
            "day": 7,
            "open": "1100"
           }
          ],
          "seasonal": []
         },
         "location": {
          "address": "2 by Ward Market Sq",
          "country": "CA",
          "cross_street": "at Clarence St",
          "formatted_address": "2 by Ward Market Sq (at Clarence St), Ottawa ON K1N 7A1",
          "locality": "Ottawa",
          "neighborhood": [
           "Byward Market - Parliament Hill"
          ],
          "postcode": "K1N 7A1",
          "region": "ON"
         },
         "name": "Blue Cactus",
         "rating": 6.1,
         "tel": "(613) 241-7061",
         "website": "http://www.bluecactusbarandgrill.com"
        },
        {
         "categories": [
          {
           "icon": {
            "prefix": "https://ss3.4sqi.net/img/categories_v2/food/asian_",
            "suffix": ".png"
           },
           "id": 13072,
           "name": "Asian Restaurant"
          },
          {
           "icon": {
            "prefix": "https://ss3.4sqi.net/img/categories_v2/food/sushi_",
            "suffix": ".png"
           },
           "id": 13276,
           "name": "Sushi Restaurant"
          }
         ],
         "hours": {
          "display": "Mon-Sat 11:00-22:00; Sun 11:00-21:30",
          "is_local_holiday": false,
          "open_now": true,
          "regular": [
           {
            "close": "2200",
            "day": 1,
            "open": "1100"
           },
           {
            "close": "2200",
            "day": 2,
            "open": "1100"
           },
           {
            "close": "2200",
            "day": 3,
            "open": "1100"
           },
           {
            "close": "2200",
            "day": 4,
            "open": "1100"
           },
           {
            "close": "2200",
            "day": 5,
            "open": "1100"
           },
           {
            "close": "2200",
            "day": 6,
            "open": "1100"
           },
           {
            "close": "2130",
            "day": 7,
            "open": "1100"
           }
          ],
          "seasonal": []
         },
         "location": {
          "address": "272 Dalhousie St",
          "country": "CA",
          "cross_street": "Murray St",
          "formatted_address": "272 Dalhousie St (Murray St), Ottawa ON K1N 7E6",
          "locality": "Ottawa",
          "neighborhood": [
           "Byward market"
          ],
          "postcode": "K1N 7E6",
          "region": "ON"
         },
         "name": "Hokkaido Sushi",
         "rating": 5.7,
         "tel": "(613) 860-9898",
         "website": "http://www.hokkaidosushiottawa.ca"
        },
        {
         "categories": [
          {
           "icon": {
            "prefix": "https://ss3.4sqi.net/img/categories_v2/food/japanese_",
            "suffix": ".png"
           },
           "id": 13263,
           "name": "Japanese Restaurant"
          }
         ],
         "hours": {
          "display": "Open Daily 11:30-21:00",
          "is_local_holiday": false,
          "open_now": true,
          "regular": [
           {
            "close": "2100",
            "day": 1,
            "open": "1130"
           },
           {
            "close": "2100",
            "day": 2,
            "open": "1130"
           },
           {
            "close": "2100",
            "day": 3,
            "open": "1130"
           },
           {
            "close": "2100",
            "day": 4,
            "open": "1130"
           },
           {
            "close": "2100",
            "day": 5,
            "open": "1130"
           },
           {
            "close": "2100",
            "day": 6,
            "open": "1130"
           },
           {
            "close": "2100",
            "day": 7,
            "open": "1130"
           }
          ],
          "seasonal": []
         },
         "location": {
          "address": "95 York St",
          "country": "CA",
          "cross_street": "",
          "formatted_address": "95 York St, Ottawa ON K1N 5T2",
          "locality": "Ottawa",
          "neighborhood": [
           "Lower Town"
          ],
          "postcode": "K1N 5T2",
          "region": "ON"
         },
         "name": "Gyubee Japanese Grill",
         "tel": "(613) 367-5065",
         "website": "http://www.gyubeejapanesegrill.com"
        },
        {
         "categories": [
          {
           "icon": {
            "prefix": "https://ss3.4sqi.net/img/categories_v2/food/thai_",
            "suffix": ".png"
           },
           "id": 13352,
           "name": "Thai Restaurant"
          }
         ],
         "hours": {
          "display": "Open Daily 00:00-2:00, 11:00-23:59",
          "is_local_holiday": false,
          "open_now": true,
          "regular": [
           {
            "close": "0200",
            "day": 1,
            "open": "0000"
           },
           {
            "close": "2359",
            "day": 1,
            "open": "1100"
           },
           {
            "close": "0200",
            "day": 2,
            "open": "0000"
           },
           {
            "close": "2359",
            "day": 2,
            "open": "1100"
           },
           {
            "close": "0200",
            "day": 3,
            "open": "0000"
           },
           {
            "close": "2359",
            "day": 3,
            "open": "1100"
           },
           {
            "close": "0200",
            "day": 4,
            "open": "0000"
           },
           {
            "close": "2359",
            "day": 4,
            "open": "1100"
           },
           {
            "close": "0200",
            "day": 5,
            "open": "0000"
           },
           {
            "close": "2359",
            "day": 5,
            "open": "1100"
           },
           {
            "close": "0200",
            "day": 6,
            "open": "0000"
           },
           {
            "close": "2359",
            "day": 6,
            "open": "1100"
           },
           {
            "close": "0200",
            "day": 7,
            "open": "0000"
           },
           {
            "close": "2359",
            "day": 7,
            "open": "1100"
           }
          ],
          "seasonal": [
           {
            "closed": false,
            "hours": [
             {
              "close": "+0000",
              "day": 1,
              "open": "1100"
             }
            ]
           }
          ]
         },
         "location": {
          "address": "265 Laurier Ave E",
          "country": "CA",
          "cross_street": "",
          "formatted_address": "265 Laurier Ave E, Ottawa ON K1N 0E1",
          "locality": "Ottawa",
          "postcode": "K1N 0E1",
          "region": "ON"
         },
         "name": "Thai Express",
         "rating": 6.3,
         "tel": "(613) 233-2119",
         "website": "https://thaiexpress.ca/locations/"
        },
        {
         "categories": [
          {
           "icon": {
            "prefix": "https://ss3.4sqi.net/img/categories_v2/food/default_",
            "suffix": ".png"
           },
           "id": 13032,
           "name": "Cafes, Coffee, and Tea Houses"
          },
          {
           "icon": {
            "prefix": "https://ss3.4sqi.net/img/categories_v2/food/default_",
            "suffix": ".png"
           },
           "id": 13065,
           "name": "Restaurant"
          }
         ],
         "hours": {
          "display": "Mon-Fri 6:00-18:00",
          "is_local_holiday": false,
          "open_now": true,
          "regular": [
           {
            "close": "1800",
            "day": 1,
            "open": "0600"
           },
           {
            "close": "1800",
            "day": 2,
            "open": "0600"
           },
           {
            "close": "1800",
            "day": 3,
            "open": "0600"
           },
           {
            "close": "1800",
            "day": 4,
            "open": "0600"
           },
           {
            "close": "1800",
            "day": 5,
            "open": "0600"
           }
          ],
          "seasonal": []
         },
         "location": {
          "address": "90 Elgin St",
          "address_extended": "Unit 2",
          "country": "CA",
          "cross_street": "at Albert St",
          "formatted_address": "90 Elgin St (at Albert St), Ottawa ON K1P 0C6",
          "locality": "Ottawa",
          "neighborhood": [
           "Parliament Hill"
          ],
          "postcode": "K1P 0C6",
          "region": "ON"
         },
         "name": "Tim Hortons",
         "rating": 6.3,
         "tel": "(613) 238-6444",
         "website": "http://www.timhortons.com/"
        },
        {
         "categories": [
          {
           "icon": {
            "prefix": "https://ss3.4sqi.net/img/categories_v2/food/deli_",
            "suffix": ".png"
           },
           "id": 13039,
           "name": "Deli"
          },
          {
           "icon": {
            "prefix": "https://ss3.4sqi.net/img/categories_v2/food/diner_",
            "suffix": ".png"
           },
           "id": 13049,
           "name": "Diner"
          },
          {
           "icon": {
            "prefix": "https://ss3.4sqi.net/img/categories_v2/food/fastfood_",
            "suffix": ".png"
           },
           "id": 13145,
           "name": "Fast Food Restaurant"
          }
         ],
         "hours": {
          "display": "Open Daily 00:00-23:59",
          "is_local_holiday": false,
          "open_now": true,
          "regular": [
           {
            "close": "2359",
            "day": 1,
            "open": "0000"
           },
           {
            "close": "2359",
            "day": 2,
            "open": "0000"
           },
           {
            "close": "2359",
            "day": 3,
            "open": "0000"
           },
           {
            "close": "2359",
            "day": 4,
            "open": "0000"
           },
           {
            "close": "2359",
            "day": 5,
            "open": "0000"
           },
           {
            "close": "2359",
            "day": 6,
            "open": "0000"
           },
           {
            "close": "2359",
            "day": 7,
            "open": "0000"
           }
          ],
          "seasonal": []
         },
         "location": {
          "address": "355 Dalhousie St",
          "country": "CA",
          "cross_street": "at George St",
          "formatted_address": "355 Dalhousie St (at George St), Ottawa ON K1N 7G1",
          "locality": "Ottawa",
          "neighborhood": [
           "Byward market"
          ],
          "postcode": "K1N 7G1",
          "region": "ON"
         },
         "name": "Dunn's Famous Deli",
         "rating": 5.6,
         "tel": "(613) 562-4966",
         "website": "http://www.dunnsfamous.com/"
        },
        {
         "categories": [
          {
           "icon": {
            "prefix": "https://ss3.4sqi.net/img/categories_v2/food/ramen_",
            "suffix": ".png"
           },
           "id": 13315,
           "name": "Noodle Restaurant"
          }
         ],
         "hours": {
          "display": "Open Daily 11:30-20:00",
          "is_local_holiday": false,
          "open_now": true,
          "regular": [
           {
            "close": "2000",
            "day": 1,
            "open": "1130"
           },
           {
            "close": "2000",
            "day": 2,
            "open": "1130"
           },
           {
            "close": "2000",
            "day": 3,
            "open": "1130"
           },
           {
            "close": "2000",
            "day": 4,
            "open": "1130"
           },
           {
            "close": "2000",
            "day": 5,
            "open": "1130"
           },
           {
            "close": "2000",
            "day": 6,
            "open": "1130"
           },
           {
            "close": "2000",
            "day": 7,
            "open": "1130"
           }
          ],
          "seasonal": []
         },
         "location": {
          "address": "43 William St",
          "country": "CA",
          "cross_street": "",
          "formatted_address": "43 William St, Ottawa ON K1N 6Z9",
          "locality": "Ottawa",
          "neighborhood": [
           "Byward Market-Parliament Hill"
          ],
          "postcode": "K1N 6Z9",
          "region": "ON"
         },
         "name": "Le Mien 樂面"
        },
        {
         "categories": [
          {
           "icon": {
            "prefix": "https://ss3.4sqi.net/img/categories_v2/food/ramen_",
            "suffix": ".png"
           },
           "id": 13315,
           "name": "Noodle Restaurant"
          }
         ],
         "hours": {
          "display": "Mon-Fri 11:30-21:30; Sat-Sun 11:30-22:00",
          "is_local_holiday": false,
          "open_now": true,
          "regular": [
           {
            "close": "2130",
            "day": 1,
            "open": "1130"
           },
           {
            "close": "2130",
            "day": 2,
            "open": "1130"
           },
           {
            "close": "2130",
            "day": 3,
            "open": "1130"
           },
           {
            "close": "2130",
            "day": 4,
            "open": "1130"
           },
           {
            "close": "2130",
            "day": 5,
            "open": "1130"
           },
           {
            "close": "2200",
            "day": 6,
            "open": "1130"
           },
           {
            "close": "2200",
            "day": 7,
            "open": "1130"
           }
          ],
          "seasonal": []
         },
         "location": {
          "address": "179 George St",
          "address_extended": "Unit 1",
          "country": "CA",
          "cross_street": "at Cumberland St",
          "formatted_address": "179 George St (at Cumberland St), Ottawa ON K1N 1J8",
          "locality": "Ottawa",
          "neighborhood": [
           "Lower Town"
          ],
          "postcode": "K1N 1J8",
          "region": "ON"
         },
         "name": "La Noodle",
         "tel": "(613) 366-1689",
         "website": "http://www.lanoodle.ca/index.html"
        },
        {
         "categories": [
          {
           "icon": {
            "prefix": "https://ss3.4sqi.net/img/categories_v2/food/indian_",
            "suffix": ".png"
           },
           "id": 13199,
           "name": "Indian Restaurant"
          }
         ],
         "hours": {
          "display": "Mon 11:30-14:30, 16:30-22:00; Wed-Thu 11:30-14:30, 16:30-22:00; Fri-Sun 11:30-14:30, 16:30-23:00",
          "is_local_holiday": false,
          "open_now": true,
          "regular": [
           {
            "close": "1430",
            "day": 1,
            "open": "1130"
           },
           {
            "close": "2200",
            "day": 1,
            "open": "1630"
           },
           {
            "close": "1430",
            "day": 3,
            "open": "1130"
           },
           {
            "close": "2200",
            "day": 3,
            "open": "1630"
           },
           {
            "close": "1430",
            "day": 4,
            "open": "1130"
           },
           {
            "close": "2200",
            "day": 4,
            "open": "1630"
           },
           {
            "close": "1430",
            "day": 5,
            "open": "1130"
           },
           {
            "close": "2300",
            "day": 5,
            "open": "1630"
           },
           {
            "close": "1430",
            "day": 6,
            "open": "1130"
           },
           {
            "close": "2300",
            "day": 6,
            "open": "1630"
           },
           {
            "close": "1430",
            "day": 7,
            "open": "1130"
           },
           {
            "close": "2300",
            "day": 7,
            "open": "1630"
           }
          ],
          "seasonal": []
         },
         "location": {
          "address": "39 Clarence St",
          "country": "CA",
          "cross_street": "",
          "formatted_address": "39 Clarence St, Ottawa ON K1N 5P4",
          "locality": "Ottawa",
          "neighborhood": [
           "Lower Town"
          ],
          "postcode": "K1N 5P4",
          "region": "ON"
         },
         "name": "India Curry and Kebab House",
         "tel": "(613) 680-0800",
         "website": "http://www.curryandkebabhouse.ca"
        }
       ]
      },
      "text/plain": [
       "<IPython.core.display.JSON object>"
      ]
     },
     "execution_count": 77,
     "metadata": {
      "application/json": {
       "expanded": false,
       "root": "root"
      }
     },
     "output_type": "execute_result"
    }
   ],
   "source": [
    "# Using JSON IPython.display to take a clearer look at nested Json Data \n",
    "JSON(FSQ_Data_Json)"
   ]
  },
  {
   "cell_type": "markdown",
   "metadata": {},
   "source": []
  },
  {
   "cell_type": "code",
   "execution_count": 93,
   "metadata": {},
   "outputs": [
    {
     "data": {
      "text/html": [
       "<div>\n",
       "<style scoped>\n",
       "    .dataframe tbody tr th:only-of-type {\n",
       "        vertical-align: middle;\n",
       "    }\n",
       "\n",
       "    .dataframe tbody tr th {\n",
       "        vertical-align: top;\n",
       "    }\n",
       "\n",
       "    .dataframe thead th {\n",
       "        text-align: right;\n",
       "    }\n",
       "</style>\n",
       "<table border=\"1\" class=\"dataframe\">\n",
       "  <thead>\n",
       "    <tr style=\"text-align: right;\">\n",
       "      <th></th>\n",
       "      <th>Name</th>\n",
       "      <th>rating</th>\n",
       "      <th>Hours</th>\n",
       "      <th>Address</th>\n",
       "      <th>Phone_number</th>\n",
       "      <th>website</th>\n",
       "    </tr>\n",
       "  </thead>\n",
       "  <tbody>\n",
       "    <tr>\n",
       "      <th>4</th>\n",
       "      <td>BeaverTails Canada Inc</td>\n",
       "      <td>8.8</td>\n",
       "      <td>Mon-Wed 10:00-22:00; Thu 10:00-23:00; Fri-Sat ...</td>\n",
       "      <td>69 George St</td>\n",
       "      <td>(613) 241-1230</td>\n",
       "      <td>http://www.beavertailsinc.com/</td>\n",
       "    </tr>\n",
       "    <tr>\n",
       "      <th>0</th>\n",
       "      <td>Chez Lucien</td>\n",
       "      <td>8.7</td>\n",
       "      <td>Open Daily 00:00-2:00, 11:00-23:59</td>\n",
       "      <td>137 Murray St</td>\n",
       "      <td>(613) 241-3533</td>\n",
       "      <td>http://chezlucien.ca</td>\n",
       "    </tr>\n",
       "    <tr>\n",
       "      <th>1</th>\n",
       "      <td>El Camino</td>\n",
       "      <td>8.7</td>\n",
       "      <td>Mon-Wed 16:00-23:59; Thu-Sun 12:00-23:59</td>\n",
       "      <td>81 Clarence St</td>\n",
       "      <td>(613) 422-5918</td>\n",
       "      <td>http://eatelcamino.com</td>\n",
       "    </tr>\n",
       "    <tr>\n",
       "      <th>17</th>\n",
       "      <td>Riviera</td>\n",
       "      <td>8.6</td>\n",
       "      <td>Mon-Wed 11:30-22:00; Thu-Fri 11:30-23:00; Sat ...</td>\n",
       "      <td>62 Sparks St</td>\n",
       "      <td>(613) 233-6262</td>\n",
       "      <td>http://www.dineriviera.com</td>\n",
       "    </tr>\n",
       "    <tr>\n",
       "      <th>7</th>\n",
       "      <td>E18hteen</td>\n",
       "      <td>8.6</td>\n",
       "      <td>Open Daily 17:00-22:30</td>\n",
       "      <td>18 York St</td>\n",
       "      <td>(613) 244-1188</td>\n",
       "      <td>http://www.restaurant18.com</td>\n",
       "    </tr>\n",
       "    <tr>\n",
       "      <th>8</th>\n",
       "      <td>JOEY Rideau</td>\n",
       "      <td>8.6</td>\n",
       "      <td>Mon-Fri 11:00-23:59; Sat-Sun 00:00-1:00, 11:00...</td>\n",
       "      <td>50 Rideau St</td>\n",
       "      <td>(613) 680-5639</td>\n",
       "      <td>https://joeyrestaurants.com/location/joey-ride...</td>\n",
       "    </tr>\n",
       "    <tr>\n",
       "      <th>9</th>\n",
       "      <td>Play Food &amp; Wine</td>\n",
       "      <td>8.6</td>\n",
       "      <td>Mon 12:00-14:00, 17:30-22:00; Tue-Thu 12:00-14...</td>\n",
       "      <td>1 York St</td>\n",
       "      <td>(613) 667-9207</td>\n",
       "      <td>http://www.playfood.ca</td>\n",
       "    </tr>\n",
       "    <tr>\n",
       "      <th>6</th>\n",
       "      <td>Corazon de Maiz</td>\n",
       "      <td>8.5</td>\n",
       "      <td>Open Daily 11:00-18:00</td>\n",
       "      <td>55 by Ward Market Sq</td>\n",
       "      <td>(613) 244-1661</td>\n",
       "      <td>http://www.corazondemaizottawa.com</td>\n",
       "    </tr>\n",
       "    <tr>\n",
       "      <th>2</th>\n",
       "      <td>The Keg Steakhouse + Bar</td>\n",
       "      <td>8.4</td>\n",
       "      <td>Open Daily 12:00-23:59</td>\n",
       "      <td>75 York St</td>\n",
       "      <td>(613) 241-8514</td>\n",
       "      <td>https://www.kegsteakhouse.com/</td>\n",
       "    </tr>\n",
       "    <tr>\n",
       "      <th>3</th>\n",
       "      <td>Bite Burger House</td>\n",
       "      <td>8.4</td>\n",
       "      <td>Mon-Fri 11:30-23:59; Sat-Sun 00:00-1:00, 11:30...</td>\n",
       "      <td>108 Murray St</td>\n",
       "      <td>(613) 562-2483</td>\n",
       "      <td>http://www.biteburgerhouse.com</td>\n",
       "    </tr>\n",
       "  </tbody>\n",
       "</table>\n",
       "</div>"
      ],
      "text/plain": [
       "                        Name  rating  \\\n",
       "4     BeaverTails Canada Inc     8.8   \n",
       "0                Chez Lucien     8.7   \n",
       "1                  El Camino     8.7   \n",
       "17                   Riviera     8.6   \n",
       "7                   E18hteen     8.6   \n",
       "8                JOEY Rideau     8.6   \n",
       "9           Play Food & Wine     8.6   \n",
       "6            Corazon de Maiz     8.5   \n",
       "2   The Keg Steakhouse + Bar     8.4   \n",
       "3          Bite Burger House     8.4   \n",
       "\n",
       "                                                Hours               Address  \\\n",
       "4   Mon-Wed 10:00-22:00; Thu 10:00-23:00; Fri-Sat ...          69 George St   \n",
       "0                  Open Daily 00:00-2:00, 11:00-23:59         137 Murray St   \n",
       "1            Mon-Wed 16:00-23:59; Thu-Sun 12:00-23:59        81 Clarence St   \n",
       "17  Mon-Wed 11:30-22:00; Thu-Fri 11:30-23:00; Sat ...          62 Sparks St   \n",
       "7                              Open Daily 17:00-22:30            18 York St   \n",
       "8   Mon-Fri 11:00-23:59; Sat-Sun 00:00-1:00, 11:00...          50 Rideau St   \n",
       "9   Mon 12:00-14:00, 17:30-22:00; Tue-Thu 12:00-14...             1 York St   \n",
       "6                              Open Daily 11:00-18:00  55 by Ward Market Sq   \n",
       "2                              Open Daily 12:00-23:59            75 York St   \n",
       "3   Mon-Fri 11:30-23:59; Sat-Sun 00:00-1:00, 11:30...         108 Murray St   \n",
       "\n",
       "      Phone_number                                            website  \n",
       "4   (613) 241-1230                     http://www.beavertailsinc.com/  \n",
       "0   (613) 241-3533                               http://chezlucien.ca  \n",
       "1   (613) 422-5918                             http://eatelcamino.com  \n",
       "17  (613) 233-6262                         http://www.dineriviera.com  \n",
       "7   (613) 244-1188                        http://www.restaurant18.com  \n",
       "8   (613) 680-5639  https://joeyrestaurants.com/location/joey-ride...  \n",
       "9   (613) 667-9207                             http://www.playfood.ca  \n",
       "6   (613) 244-1661                 http://www.corazondemaizottawa.com  \n",
       "2   (613) 241-8514                     https://www.kegsteakhouse.com/  \n",
       "3   (613) 562-2483                     http://www.biteburgerhouse.com  "
      ]
     },
     "execution_count": 93,
     "metadata": {},
     "output_type": "execute_result"
    }
   ],
   "source": []
  },
  {
   "cell_type": "code",
   "execution_count": null,
   "metadata": {},
   "outputs": [],
   "source": []
  },
  {
   "cell_type": "markdown",
   "metadata": {},
   "source": [
    "Put your parsed results into a DataFrame"
   ]
  },
  {
   "cell_type": "code",
   "execution_count": 97,
   "metadata": {},
   "outputs": [
    {
     "data": {
      "text/html": [
       "<div>\n",
       "<style scoped>\n",
       "    .dataframe tbody tr th:only-of-type {\n",
       "        vertical-align: middle;\n",
       "    }\n",
       "\n",
       "    .dataframe tbody tr th {\n",
       "        vertical-align: top;\n",
       "    }\n",
       "\n",
       "    .dataframe thead th {\n",
       "        text-align: right;\n",
       "    }\n",
       "</style>\n",
       "<table border=\"1\" class=\"dataframe\">\n",
       "  <thead>\n",
       "    <tr style=\"text-align: right;\">\n",
       "      <th></th>\n",
       "      <th>Name</th>\n",
       "      <th>rating</th>\n",
       "      <th>Hours</th>\n",
       "      <th>Address</th>\n",
       "      <th>Phone_number</th>\n",
       "      <th>website</th>\n",
       "    </tr>\n",
       "  </thead>\n",
       "  <tbody>\n",
       "    <tr>\n",
       "      <th>4</th>\n",
       "      <td>BeaverTails Canada Inc</td>\n",
       "      <td>8.8</td>\n",
       "      <td>Mon-Wed 10:00-22:00; Thu 10:00-23:00; Fri-Sat ...</td>\n",
       "      <td>69 George St</td>\n",
       "      <td>(613) 241-1230</td>\n",
       "      <td>http://www.beavertailsinc.com/</td>\n",
       "    </tr>\n",
       "    <tr>\n",
       "      <th>0</th>\n",
       "      <td>Chez Lucien</td>\n",
       "      <td>8.7</td>\n",
       "      <td>Open Daily 00:00-2:00, 11:00-23:59</td>\n",
       "      <td>137 Murray St</td>\n",
       "      <td>(613) 241-3533</td>\n",
       "      <td>http://chezlucien.ca</td>\n",
       "    </tr>\n",
       "    <tr>\n",
       "      <th>1</th>\n",
       "      <td>El Camino</td>\n",
       "      <td>8.7</td>\n",
       "      <td>Mon-Wed 16:00-23:59; Thu-Sun 12:00-23:59</td>\n",
       "      <td>81 Clarence St</td>\n",
       "      <td>(613) 422-5918</td>\n",
       "      <td>http://eatelcamino.com</td>\n",
       "    </tr>\n",
       "    <tr>\n",
       "      <th>17</th>\n",
       "      <td>Riviera</td>\n",
       "      <td>8.6</td>\n",
       "      <td>Mon-Wed 11:30-22:00; Thu-Fri 11:30-23:00; Sat ...</td>\n",
       "      <td>62 Sparks St</td>\n",
       "      <td>(613) 233-6262</td>\n",
       "      <td>http://www.dineriviera.com</td>\n",
       "    </tr>\n",
       "    <tr>\n",
       "      <th>7</th>\n",
       "      <td>E18hteen</td>\n",
       "      <td>8.6</td>\n",
       "      <td>Open Daily 17:00-22:30</td>\n",
       "      <td>18 York St</td>\n",
       "      <td>(613) 244-1188</td>\n",
       "      <td>http://www.restaurant18.com</td>\n",
       "    </tr>\n",
       "    <tr>\n",
       "      <th>8</th>\n",
       "      <td>JOEY Rideau</td>\n",
       "      <td>8.6</td>\n",
       "      <td>Mon-Fri 11:00-23:59; Sat-Sun 00:00-1:00, 11:00...</td>\n",
       "      <td>50 Rideau St</td>\n",
       "      <td>(613) 680-5639</td>\n",
       "      <td>https://joeyrestaurants.com/location/joey-ride...</td>\n",
       "    </tr>\n",
       "    <tr>\n",
       "      <th>9</th>\n",
       "      <td>Play Food &amp; Wine</td>\n",
       "      <td>8.6</td>\n",
       "      <td>Mon 12:00-14:00, 17:30-22:00; Tue-Thu 12:00-14...</td>\n",
       "      <td>1 York St</td>\n",
       "      <td>(613) 667-9207</td>\n",
       "      <td>http://www.playfood.ca</td>\n",
       "    </tr>\n",
       "    <tr>\n",
       "      <th>6</th>\n",
       "      <td>Corazon de Maiz</td>\n",
       "      <td>8.5</td>\n",
       "      <td>Open Daily 11:00-18:00</td>\n",
       "      <td>55 by Ward Market Sq</td>\n",
       "      <td>(613) 244-1661</td>\n",
       "      <td>http://www.corazondemaizottawa.com</td>\n",
       "    </tr>\n",
       "    <tr>\n",
       "      <th>2</th>\n",
       "      <td>The Keg Steakhouse + Bar</td>\n",
       "      <td>8.4</td>\n",
       "      <td>Open Daily 12:00-23:59</td>\n",
       "      <td>75 York St</td>\n",
       "      <td>(613) 241-8514</td>\n",
       "      <td>https://www.kegsteakhouse.com/</td>\n",
       "    </tr>\n",
       "    <tr>\n",
       "      <th>3</th>\n",
       "      <td>Bite Burger House</td>\n",
       "      <td>8.4</td>\n",
       "      <td>Mon-Fri 11:30-23:59; Sat-Sun 00:00-1:00, 11:30...</td>\n",
       "      <td>108 Murray St</td>\n",
       "      <td>(613) 562-2483</td>\n",
       "      <td>http://www.biteburgerhouse.com</td>\n",
       "    </tr>\n",
       "  </tbody>\n",
       "</table>\n",
       "</div>"
      ],
      "text/plain": [
       "                        Name  rating  \\\n",
       "4     BeaverTails Canada Inc     8.8   \n",
       "0                Chez Lucien     8.7   \n",
       "1                  El Camino     8.7   \n",
       "17                   Riviera     8.6   \n",
       "7                   E18hteen     8.6   \n",
       "8                JOEY Rideau     8.6   \n",
       "9           Play Food & Wine     8.6   \n",
       "6            Corazon de Maiz     8.5   \n",
       "2   The Keg Steakhouse + Bar     8.4   \n",
       "3          Bite Burger House     8.4   \n",
       "\n",
       "                                                Hours               Address  \\\n",
       "4   Mon-Wed 10:00-22:00; Thu 10:00-23:00; Fri-Sat ...          69 George St   \n",
       "0                  Open Daily 00:00-2:00, 11:00-23:59         137 Murray St   \n",
       "1            Mon-Wed 16:00-23:59; Thu-Sun 12:00-23:59        81 Clarence St   \n",
       "17  Mon-Wed 11:30-22:00; Thu-Fri 11:30-23:00; Sat ...          62 Sparks St   \n",
       "7                              Open Daily 17:00-22:30            18 York St   \n",
       "8   Mon-Fri 11:00-23:59; Sat-Sun 00:00-1:00, 11:00...          50 Rideau St   \n",
       "9   Mon 12:00-14:00, 17:30-22:00; Tue-Thu 12:00-14...             1 York St   \n",
       "6                              Open Daily 11:00-18:00  55 by Ward Market Sq   \n",
       "2                              Open Daily 12:00-23:59            75 York St   \n",
       "3   Mon-Fri 11:30-23:59; Sat-Sun 00:00-1:00, 11:30...         108 Murray St   \n",
       "\n",
       "      Phone_number                                            website  \n",
       "4   (613) 241-1230                     http://www.beavertailsinc.com/  \n",
       "0   (613) 241-3533                               http://chezlucien.ca  \n",
       "1   (613) 422-5918                             http://eatelcamino.com  \n",
       "17  (613) 233-6262                         http://www.dineriviera.com  \n",
       "7   (613) 244-1188                        http://www.restaurant18.com  \n",
       "8   (613) 680-5639  https://joeyrestaurants.com/location/joey-ride...  \n",
       "9   (613) 667-9207                             http://www.playfood.ca  \n",
       "6   (613) 244-1661                 http://www.corazondemaizottawa.com  \n",
       "2   (613) 241-8514                     https://www.kegsteakhouse.com/  \n",
       "3   (613) 562-2483                     http://www.biteburgerhouse.com  "
      ]
     },
     "execution_count": 97,
     "metadata": {},
     "output_type": "execute_result"
    }
   ],
   "source": [
    "\n",
    "df = pd.json_normalize(FSQ_Data_Json, record_path='results', errors='ignore')\n",
    "df_f0 = df[['name', 'rating', 'hours.display', 'location.address', 'tel', 'website']].copy()\n",
    "df_f0.rename(columns={'name': 'Name','hours.display': 'Hours', 'location.address': 'Address', 'tel': 'Phone_number'}, inplace=True)  \n",
    "df_f0.sort_values(by=['rating'], ascending=False).head(10)\n",
    "\n"
   ]
  },
  {
   "cell_type": "code",
   "execution_count": 11,
   "metadata": {},
   "outputs": [],
   "source": []
  },
  {
   "cell_type": "code",
   "execution_count": null,
   "metadata": {},
   "outputs": [],
   "source": []
  },
  {
   "cell_type": "code",
   "execution_count": null,
   "metadata": {},
   "outputs": [],
   "source": []
  },
  {
   "cell_type": "code",
   "execution_count": null,
   "metadata": {},
   "outputs": [],
   "source": []
  },
  {
   "cell_type": "code",
   "execution_count": null,
   "metadata": {},
   "outputs": [],
   "source": []
  },
  {
   "cell_type": "code",
   "execution_count": 12,
   "metadata": {},
   "outputs": [
    {
     "data": {
      "text/plain": [
       "410"
      ]
     },
     "execution_count": 12,
     "metadata": {},
     "output_type": "execute_result"
    }
   ],
   "source": [
    "CLIENT_ID = '3HZ3ZWHWUBMW4XZAGWJSOS5RUGDUJ1JDX33OT3JZ3XOH5RX0'\n",
    "CLIENT_SECRET = 'QOBMRCYLHIO5GUSKN5J0AMWDK3OEI3O5PVABW3EZBZ4VMI35'\n",
    "lat = 45.4292\n",
    "long = -75.6909\n",
    "radius = 1000\n",
    "limit = 40\n",
    "\n",
    "    \n",
    "    \n",
    "url = \"https://api.foursquare.com/v2/venues/explore?client_id={}&client_secret={}&ll={},{}&radius={}&limit={}\".format(\n",
    "        CLIENT_ID,\n",
    "        CLIENT_SECRET,\n",
    "        lat,\n",
    "        long,\n",
    "        radius, \n",
    "        limit)\n",
    "    \n",
    "print(url)"
   ]
  },
  {
   "cell_type": "code",
   "execution_count": 98,
   "metadata": {},
   "outputs": [
    {
     "ename": "KeyError",
     "evalue": "''",
     "output_type": "error",
     "traceback": [
      "\u001b[0;31m---------------------------------------------------------------------------\u001b[0m",
      "\u001b[0;31mKeyError\u001b[0m                                  Traceback (most recent call last)",
      "\u001b[0;32m<ipython-input-98-6870dadefeef>\u001b[0m in \u001b[0;36m<module>\u001b[0;34m\u001b[0m\n\u001b[1;32m      1\u001b[0m \u001b[0;31m#  YELP API\u001b[0m\u001b[0;34m\u001b[0m\u001b[0;34m\u001b[0m\u001b[0;34m\u001b[0m\u001b[0m\n\u001b[0;32m----> 2\u001b[0;31m \u001b[0mYELP_key\u001b[0m \u001b[0;34m=\u001b[0m \u001b[0mos\u001b[0m\u001b[0;34m.\u001b[0m\u001b[0menviron\u001b[0m\u001b[0;34m[\u001b[0m\u001b[0;34m''\u001b[0m\u001b[0;34m]\u001b[0m\u001b[0;34m\u001b[0m\u001b[0;34m\u001b[0m\u001b[0m\n\u001b[0m\u001b[1;32m      3\u001b[0m \u001b[0mYELP_header\u001b[0m \u001b[0;34m=\u001b[0m \u001b[0;34m{\u001b[0m\u001b[0;34m'Authorization'\u001b[0m\u001b[0;34m:\u001b[0m \u001b[0;34m'Bearer '\u001b[0m\u001b[0;34m+\u001b[0m\u001b[0mYELP_key\u001b[0m\u001b[0;34m}\u001b[0m\u001b[0;34m\u001b[0m\u001b[0;34m\u001b[0m\u001b[0m\n\u001b[1;32m      4\u001b[0m \u001b[0mYELP_srch_url\u001b[0m \u001b[0;34m=\u001b[0m \u001b[0;34m'https://api.yelp.com/v3/businesses/search'\u001b[0m\u001b[0;34m\u001b[0m\u001b[0;34m\u001b[0m\u001b[0m\n\u001b[1;32m      5\u001b[0m \u001b[0;34m\u001b[0m\u001b[0m\n",
      "\u001b[0;32m~/opt/anaconda3/lib/python3.8/os.py\u001b[0m in \u001b[0;36m__getitem__\u001b[0;34m(self, key)\u001b[0m\n\u001b[1;32m    673\u001b[0m         \u001b[0;32mexcept\u001b[0m \u001b[0mKeyError\u001b[0m\u001b[0;34m:\u001b[0m\u001b[0;34m\u001b[0m\u001b[0;34m\u001b[0m\u001b[0m\n\u001b[1;32m    674\u001b[0m             \u001b[0;31m# raise KeyError with the original key value\u001b[0m\u001b[0;34m\u001b[0m\u001b[0;34m\u001b[0m\u001b[0;34m\u001b[0m\u001b[0m\n\u001b[0;32m--> 675\u001b[0;31m             \u001b[0;32mraise\u001b[0m \u001b[0mKeyError\u001b[0m\u001b[0;34m(\u001b[0m\u001b[0mkey\u001b[0m\u001b[0;34m)\u001b[0m \u001b[0;32mfrom\u001b[0m \u001b[0;32mNone\u001b[0m\u001b[0;34m\u001b[0m\u001b[0;34m\u001b[0m\u001b[0m\n\u001b[0m\u001b[1;32m    676\u001b[0m         \u001b[0;32mreturn\u001b[0m \u001b[0mself\u001b[0m\u001b[0;34m.\u001b[0m\u001b[0mdecodevalue\u001b[0m\u001b[0;34m(\u001b[0m\u001b[0mvalue\u001b[0m\u001b[0;34m)\u001b[0m\u001b[0;34m\u001b[0m\u001b[0;34m\u001b[0m\u001b[0m\n\u001b[1;32m    677\u001b[0m \u001b[0;34m\u001b[0m\u001b[0m\n",
      "\u001b[0;31mKeyError\u001b[0m: ''"
     ]
    }
   ],
   "source": [
    "#  YELP API\n",
    "YELP_key = os.environ['']\n",
    "YELP_header = {'Authorization': 'Bearer '+YELP_key}\n",
    "YELP_srch_url = 'https://api.yelp.com/v3/businesses/search'\n",
    "\n",
    "\n"
   ]
  },
  {
   "cell_type": "code",
   "execution_count": null,
   "metadata": {},
   "outputs": [],
   "source": []
  },
  {
   "cell_type": "code",
   "execution_count": null,
   "metadata": {},
   "outputs": [],
   "source": []
  },
  {
   "cell_type": "markdown",
   "metadata": {},
   "source": [
    "# Yelp"
   ]
  },
  {
   "cell_type": "markdown",
   "metadata": {},
   "source": [
    "Send a request with the same location paramaters (location, radius, etc)"
   ]
  },
  {
   "cell_type": "code",
   "execution_count": null,
   "metadata": {},
   "outputs": [],
   "source": []
  },
  {
   "cell_type": "markdown",
   "metadata": {},
   "source": [
    "Parse through your result and get POI details"
   ]
  },
  {
   "cell_type": "code",
   "execution_count": null,
   "metadata": {},
   "outputs": [],
   "source": []
  },
  {
   "cell_type": "markdown",
   "metadata": {},
   "source": [
    "Put your parsed results into a DataFrame"
   ]
  },
  {
   "cell_type": "code",
   "execution_count": null,
   "metadata": {},
   "outputs": [],
   "source": []
  },
  {
   "cell_type": "markdown",
   "metadata": {},
   "source": [
    "# Google (stretch)"
   ]
  },
  {
   "cell_type": "markdown",
   "metadata": {},
   "source": [
    "Use the same process as the first two APIs"
   ]
  },
  {
   "cell_type": "markdown",
   "metadata": {},
   "source": [
    "# Database"
   ]
  },
  {
   "cell_type": "markdown",
   "metadata": {},
   "source": [
    "Put all your results in an SQLite3 database (remember, SQLite stores its databases as files in your local machine - make sure to create your database in your project's data/ directory!)"
   ]
  },
  {
   "cell_type": "code",
   "execution_count": null,
   "metadata": {},
   "outputs": [],
   "source": []
  },
  {
   "cell_type": "markdown",
   "metadata": {},
   "source": [
    "Get the top 10 restaurants according to their rating"
   ]
  },
  {
   "cell_type": "code",
   "execution_count": null,
   "metadata": {},
   "outputs": [],
   "source": []
  },
  {
   "cell_type": "markdown",
   "metadata": {},
   "source": [
    "# Travelling Salesman Problem (stretch)"
   ]
  },
  {
   "cell_type": "markdown",
   "metadata": {},
   "source": [
    "If you have time, follow the steps in the [ortools tutorial](https://developers.google.com/optimization/routing/tsp) using Google's [Directions API](https://developers.google.com/maps/documentation/directions/start)."
   ]
  },
  {
   "cell_type": "code",
   "execution_count": null,
   "metadata": {},
   "outputs": [],
   "source": []
  }
 ],
 "metadata": {
  "kernelspec": {
   "display_name": "Python 3",
   "language": "python",
   "name": "python3"
  },
  "language_info": {
   "codemirror_mode": {
    "name": "ipython",
    "version": 3
   },
   "file_extension": ".py",
   "mimetype": "text/x-python",
   "name": "python",
   "nbconvert_exporter": "python",
   "pygments_lexer": "ipython3",
   "version": "3.8.8"
  }
 },
 "nbformat": 4,
 "nbformat_minor": 4
}
